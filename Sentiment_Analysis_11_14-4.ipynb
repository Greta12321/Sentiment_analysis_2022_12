{
  "cells": [
    {
      "cell_type": "code",
      "execution_count": null,
      "metadata": {
        "colab": {
          "base_uri": "https://localhost:8080/"
        },
        "id": "SiJ9cNvK0GLY",
        "outputId": "f3663c62-25fe-4b1c-99c5-8a2a390a8825",
        "scrolled": true
      },
      "outputs": [
        {
          "output_type": "stream",
          "name": "stdout",
          "text": [
            "Looking in indexes: https://pypi.org/simple, https://us-python.pkg.dev/colab-wheels/public/simple/\n",
            "Requirement already satisfied: datatable in /usr/local/lib/python3.7/dist-packages (1.0.0)\n"
          ]
        }
      ],
      "source": [
        "!pip install datatable"
      ]
    },
    {
      "cell_type": "code",
      "execution_count": null,
      "metadata": {
        "colab": {
          "base_uri": "https://localhost:8080/"
        },
        "id": "wG17-xn0VAx3",
        "outputId": "e385e668-cceb-4683-85a9-c7990090f638"
      },
      "outputs": [
        {
          "output_type": "stream",
          "name": "stdout",
          "text": [
            "Looking in indexes: https://pypi.org/simple, https://us-python.pkg.dev/colab-wheels/public/simple/\n",
            "Requirement already satisfied: Sentencepiece in /usr/local/lib/python3.7/dist-packages (0.1.97)\n",
            "Looking in indexes: https://pypi.org/simple, https://us-python.pkg.dev/colab-wheels/public/simple/\n",
            "Requirement already satisfied: transformers in /usr/local/lib/python3.7/dist-packages (4.25.1)\n",
            "Requirement already satisfied: filelock in /usr/local/lib/python3.7/dist-packages (from transformers) (3.8.0)\n",
            "Requirement already satisfied: numpy>=1.17 in /usr/local/lib/python3.7/dist-packages (from transformers) (1.21.6)\n",
            "Requirement already satisfied: huggingface-hub<1.0,>=0.10.0 in /usr/local/lib/python3.7/dist-packages (from transformers) (0.11.1)\n",
            "Requirement already satisfied: requests in /usr/local/lib/python3.7/dist-packages (from transformers) (2.23.0)\n",
            "Requirement already satisfied: importlib-metadata in /usr/local/lib/python3.7/dist-packages (from transformers) (4.13.0)\n",
            "Requirement already satisfied: tokenizers!=0.11.3,<0.14,>=0.11.1 in /usr/local/lib/python3.7/dist-packages (from transformers) (0.13.2)\n",
            "Requirement already satisfied: pyyaml>=5.1 in /usr/local/lib/python3.7/dist-packages (from transformers) (6.0)\n",
            "Requirement already satisfied: tqdm>=4.27 in /usr/local/lib/python3.7/dist-packages (from transformers) (4.64.1)\n",
            "Requirement already satisfied: regex!=2019.12.17 in /usr/local/lib/python3.7/dist-packages (from transformers) (2022.6.2)\n",
            "Requirement already satisfied: packaging>=20.0 in /usr/local/lib/python3.7/dist-packages (from transformers) (21.3)\n",
            "Requirement already satisfied: typing-extensions>=3.7.4.3 in /usr/local/lib/python3.7/dist-packages (from huggingface-hub<1.0,>=0.10.0->transformers) (4.1.1)\n",
            "Requirement already satisfied: pyparsing!=3.0.5,>=2.0.2 in /usr/local/lib/python3.7/dist-packages (from packaging>=20.0->transformers) (3.0.9)\n",
            "Requirement already satisfied: zipp>=0.5 in /usr/local/lib/python3.7/dist-packages (from importlib-metadata->transformers) (3.10.0)\n",
            "Requirement already satisfied: urllib3!=1.25.0,!=1.25.1,<1.26,>=1.21.1 in /usr/local/lib/python3.7/dist-packages (from requests->transformers) (1.24.3)\n",
            "Requirement already satisfied: idna<3,>=2.5 in /usr/local/lib/python3.7/dist-packages (from requests->transformers) (2.10)\n",
            "Requirement already satisfied: chardet<4,>=3.0.2 in /usr/local/lib/python3.7/dist-packages (from requests->transformers) (3.0.4)\n",
            "Requirement already satisfied: certifi>=2017.4.17 in /usr/local/lib/python3.7/dist-packages (from requests->transformers) (2022.9.24)\n"
          ]
        }
      ],
      "source": [
        "!pip install Sentencepiece\n",
        "!pip install transformers"
      ]
    },
    {
      "cell_type": "code",
      "execution_count": null,
      "metadata": {
        "colab": {
          "base_uri": "https://localhost:8080/"
        },
        "id": "5W-K0sLg0GLi",
        "outputId": "4daf2129-ab13-4d40-f8b9-6eb2437dd610"
      },
      "outputs": [
        {
          "output_type": "stream",
          "name": "stdout",
          "text": [
            "Looking in indexes: https://pypi.org/simple, https://us-python.pkg.dev/colab-wheels/public/simple/\n",
            "Requirement already satisfied: wordcloud in /usr/local/lib/python3.7/dist-packages (1.8.2.2)\n",
            "Requirement already satisfied: pillow in /usr/local/lib/python3.7/dist-packages (from wordcloud) (7.1.2)\n",
            "Requirement already satisfied: matplotlib in /usr/local/lib/python3.7/dist-packages (from wordcloud) (3.2.2)\n",
            "Requirement already satisfied: numpy>=1.6.1 in /usr/local/lib/python3.7/dist-packages (from wordcloud) (1.21.6)\n",
            "Requirement already satisfied: pyparsing!=2.0.4,!=2.1.2,!=2.1.6,>=2.0.1 in /usr/local/lib/python3.7/dist-packages (from matplotlib->wordcloud) (3.0.9)\n",
            "Requirement already satisfied: python-dateutil>=2.1 in /usr/local/lib/python3.7/dist-packages (from matplotlib->wordcloud) (2.8.2)\n",
            "Requirement already satisfied: cycler>=0.10 in /usr/local/lib/python3.7/dist-packages (from matplotlib->wordcloud) (0.11.0)\n",
            "Requirement already satisfied: kiwisolver>=1.0.1 in /usr/local/lib/python3.7/dist-packages (from matplotlib->wordcloud) (1.4.4)\n",
            "Requirement already satisfied: typing-extensions in /usr/local/lib/python3.7/dist-packages (from kiwisolver>=1.0.1->matplotlib->wordcloud) (4.1.1)\n",
            "Requirement already satisfied: six>=1.5 in /usr/local/lib/python3.7/dist-packages (from python-dateutil>=2.1->matplotlib->wordcloud) (1.15.0)\n"
          ]
        }
      ],
      "source": [
        "!pip install wordcloud"
      ]
    },
    {
      "cell_type": "code",
      "execution_count": null,
      "metadata": {
        "colab": {
          "base_uri": "https://localhost:8080/"
        },
        "id": "HUu74iEBpR12",
        "outputId": "3cb8cef4-5b21-4468-adde-45068a122eb8"
      },
      "outputs": [
        {
          "output_type": "stream",
          "name": "stdout",
          "text": [
            "Looking in indexes: https://pypi.org/simple, https://us-python.pkg.dev/colab-wheels/public/simple/\n",
            "Requirement already satisfied: tensorflow_hub in /usr/local/lib/python3.7/dist-packages (0.12.0)\n",
            "Requirement already satisfied: protobuf>=3.8.0 in /usr/local/lib/python3.7/dist-packages (from tensorflow_hub) (3.19.6)\n",
            "Requirement already satisfied: numpy>=1.12.0 in /usr/local/lib/python3.7/dist-packages (from tensorflow_hub) (1.21.6)\n"
          ]
        }
      ],
      "source": [
        "!pip install --upgrade tensorflow_hub"
      ]
    },
    {
      "cell_type": "code",
      "execution_count": null,
      "metadata": {
        "colab": {
          "base_uri": "https://localhost:8080/"
        },
        "id": "9Y_4uX7_0GLk",
        "outputId": "b3104a27-848d-4bf8-ce14-db0f0bf75b34"
      },
      "outputs": [
        {
          "output_type": "stream",
          "name": "stderr",
          "text": [
            "[nltk_data] Downloading package stopwords to /root/nltk_data...\n",
            "[nltk_data]   Package stopwords is already up-to-date!\n"
          ]
        },
        {
          "output_type": "execute_result",
          "data": {
            "text/plain": [
              "True"
            ]
          },
          "metadata": {},
          "execution_count": 5
        }
      ],
      "source": [
        "import nltk\n",
        "nltk.download('stopwords')"
      ]
    },
    {
      "cell_type": "code",
      "execution_count": null,
      "metadata": {
        "colab": {
          "base_uri": "https://localhost:8080/"
        },
        "id": "JYoFfY0i0GLm",
        "outputId": "82e3e965-f358-4537-a87d-46e6ace3214c"
      },
      "outputs": [
        {
          "output_type": "stream",
          "name": "stderr",
          "text": [
            "[nltk_data] Downloading package vader_lexicon to /root/nltk_data...\n",
            "[nltk_data]   Package vader_lexicon is already up-to-date!\n"
          ]
        },
        {
          "output_type": "execute_result",
          "data": {
            "text/plain": [
              "True"
            ]
          },
          "metadata": {},
          "execution_count": 6
        }
      ],
      "source": [
        "import nltk\n",
        "nltk.download('vader_lexicon')"
      ]
    },
    {
      "cell_type": "code",
      "execution_count": null,
      "metadata": {
        "colab": {
          "base_uri": "https://localhost:8080/"
        },
        "id": "ezRRygkwxpwX",
        "outputId": "18ee4f83-ab02-4463-bc8d-b17e9f8c994e"
      },
      "outputs": [
        {
          "output_type": "stream",
          "name": "stderr",
          "text": [
            "[nltk_data] Downloading package punkt to /root/nltk_data...\n",
            "[nltk_data]   Package punkt is already up-to-date!\n"
          ]
        },
        {
          "output_type": "execute_result",
          "data": {
            "text/plain": [
              "True"
            ]
          },
          "metadata": {},
          "execution_count": 7
        }
      ],
      "source": [
        "import nltk\n",
        "nltk.download('punkt')"
      ]
    },
    {
      "cell_type": "code",
      "execution_count": null,
      "metadata": {
        "colab": {
          "base_uri": "https://localhost:8080/"
        },
        "id": "-qznGHhVyOzz",
        "outputId": "3ed08d9c-5e86-49f8-db3f-f37db94d2418"
      },
      "outputs": [
        {
          "output_type": "stream",
          "name": "stderr",
          "text": [
            "[nltk_data] Downloading package omw-1.4 to /root/nltk_data...\n",
            "[nltk_data]   Package omw-1.4 is already up-to-date!\n"
          ]
        },
        {
          "output_type": "execute_result",
          "data": {
            "text/plain": [
              "True"
            ]
          },
          "metadata": {},
          "execution_count": 8
        }
      ],
      "source": [
        "import nltk\n",
        "nltk.download('omw-1.4')"
      ]
    },
    {
      "cell_type": "code",
      "execution_count": null,
      "metadata": {
        "colab": {
          "base_uri": "https://localhost:8080/"
        },
        "id": "VpdaArRLx9BC",
        "outputId": "5d899b0c-9617-4270-dfe5-e2910bb4df61"
      },
      "outputs": [
        {
          "output_type": "stream",
          "name": "stderr",
          "text": [
            "[nltk_data] Downloading package wordnet to /root/nltk_data...\n",
            "[nltk_data]   Package wordnet is already up-to-date!\n"
          ]
        },
        {
          "output_type": "execute_result",
          "data": {
            "text/plain": [
              "True"
            ]
          },
          "metadata": {},
          "execution_count": 9
        }
      ],
      "source": [
        "import nltk\n",
        "nltk.download('wordnet')"
      ]
    },
    {
      "cell_type": "code",
      "execution_count": null,
      "metadata": {
        "id": "-iPsIavx0GLn",
        "colab": {
          "base_uri": "https://localhost:8080/",
          "height": 17
        },
        "outputId": "43ee1157-6c10-4518-cc7b-78eee13c8580"
      },
      "outputs": [
        {
          "output_type": "display_data",
          "data": {
            "text/plain": [
              "<IPython.core.display.HTML object>"
            ],
            "text/html": [
              "<style type='text/css'>\n",
              ".datatable table.frame { margin-bottom: 0; }\n",
              ".datatable table.frame thead { border-bottom: none; }\n",
              ".datatable table.frame tr.coltypes td {  color: #FFFFFF;  line-height: 6px;  padding: 0 0.5em;}\n",
              ".datatable .bool    { background: #DDDD99; }\n",
              ".datatable .object  { background: #565656; }\n",
              ".datatable .int     { background: #5D9E5D; }\n",
              ".datatable .float   { background: #4040CC; }\n",
              ".datatable .str     { background: #CC4040; }\n",
              ".datatable .time    { background: #40CC40; }\n",
              ".datatable .row_index {  background: var(--jp-border-color3);  border-right: 1px solid var(--jp-border-color0);  color: var(--jp-ui-font-color3);  font-size: 9px;}\n",
              ".datatable .frame tbody td { text-align: left; }\n",
              ".datatable .frame tr.coltypes .row_index {  background: var(--jp-border-color0);}\n",
              ".datatable th:nth-child(2) { padding-left: 12px; }\n",
              ".datatable .hellipsis {  color: var(--jp-cell-editor-border-color);}\n",
              ".datatable .vellipsis {  background: var(--jp-layout-color0);  color: var(--jp-cell-editor-border-color);}\n",
              ".datatable .na {  color: var(--jp-cell-editor-border-color);  font-size: 80%;}\n",
              ".datatable .sp {  opacity: 0.25;}\n",
              ".datatable .footer { font-size: 9px; }\n",
              ".datatable .frame_dimensions {  background: var(--jp-border-color3);  border-top: 1px solid var(--jp-border-color0);  color: var(--jp-ui-font-color3);  display: inline-block;  opacity: 0.6;  padding: 1px 10px 1px 5px;}\n",
              ".datatable .frame thead tr.colnames {  background-image: url('data:image/png;base64,iVBORw0KGgoAAAANSUhEUgAAABwAAAA4CAYAAADuMJi0AAAGR0lEQVR42rVZ21IbRxBtCbQrkIR2dQVjsLmDLBsET3nTQ8ouYRkQVf6e/E9+Im958qMfkgoXAaKSSj6C9Jnd2R2NeiRSRaZqitVOT5+Z6dNnWoKGlN94JFp8Ipofkb/7SOXjGyp8wF+z35K3f0uUp/GW4XfLQ8v2gefj3ZCCzojoNfue+43o1Q3l3xB/yA3JO7jnF2pCLnI+pNyx/qw7L+SQ7T2N9p2f8c60QcfcK6KGXsAd+ZvA4LlZYuSSAoOhMs5vwJkEGDlbPMaJoA+FcQ0IH38QLWkbAFLkOOhoMF5tU6/eBRhNjro0ZgKiPRAt3FLhCO/vqdgmNTm32LkmKpvBmQY4q5uAaAgbwDBG2BVv3bfI8KKAMWj2kfw9+pkZREIbEql4ST1x7hgHIANkbJ//MF8mAH/ilTCJ2tIi4ASr1IC3VNqXHKOxjy34mgoImnOQtx1g81fkqTiMOBVGcTogNhiT5iBHET8R8C+iApJUmgim3SQAXhsLQz7ee2G8gOAQNtJckBEplADiAxtX+G9NmhDl0qJKnTvyWlAMPYZnvIviGXRg6/Dh824DBXhP/tbfREXJEIvQ+aaPGjG7pvw6r3xdx+9hqb4dgZaP2XmdHO2K/B0c1+oUph6k8kShBryl/Ft0DYgjTlOieOACHFFpVyUl72T9V3cM1jUoYvxIC2vpCSys/ck70mDYuYvdvKjlMdKAUThneWVU1aAsyjv6PURDiwNsHGBZzY+JtAAgE2TFxdRHJdyIp/f+zqu09M5cDP2F08Ukkpj4YNSdX950HY2pNCCUK/Hhx5ZMBfjNSEzdsIihVzzAMdn9dz4eDYhnyQb9SSCiAryiJcQk82LiTbJ4x2FZJaUenpKnzP95WyDf4Y+QN9EFHHSeDLGdBjjKNQ5vKHf4XMA7KrY0y0GEObBOO/8e1ywuQExOHXktuQyJALEBpcEqhwtHqgiDuCK5b6i0p2MQpcckIIoh+6hYgTZtO8xlMi6O4tKCF/kOGHEg/W0UUpHW0ZoGNZ1ExZWcn7EErgwt4uj50E/sFBjXXIayWvh7WryjasxarZKssXon0zxvvkc32Q0bqbBCuZiKt9dWFysfQefeL29JYFaeztX6tePaZdz5mYx8+6Zq3Mk0wXECQxlhdzgS2wjBHju3j1RIgKyOMdNUE8X0+RAdbSapS11MRCv1SzUXmO6wGZe2SQYrv2MvCSWEv2VODE6DN7bz8ufypgQKW7uQskFTQHULLKyaEyrnlZbgOGLrV5qrn9U79jjm2HJmgkaVN98AfBub91lGPLZBqdroN5LYgjSu4zYZDDHXZOIPC691HqrWI1900I8qLzgKP4ft8DxEWigprPfrO+KcXno9gZz4jjGewWdUcpGCj0qVFuGPYbl2VturndZ2qRvlL8acDO6lF/DY/VjsFesiUK+ypJ+r/ep+cJkSQxEK4PG4WozgA75TYrDDqStE69K8/mzGEM+JXTeqvmedEElMmwCMm2SLd6bNNF9su02zEtoW6nAQtpMj5Gd7fKa//wqonF7UdtHFsVn+6hf1o7AfriPH7M6EeIUEF5zKVxXbYo7kS/OEtOqDYZKPoBsETIixn0uYrasThmzDkhdKPkz2EnaX0HdQbIgr59vAdGYDqjHrxkjS7WOxkTD8sqEqhiwcJETgBYigrBqF08KyDaje9SZ/I1A7MzaTzMGDEulPtZUkuKcyIRAjxEJPVrnVlb/9wkfij31D/pQt1IN+iL8bGJcstBIO7Y5VI/cwDqURbXhMuJxBqD0KLoK3esWFs0Jz5i5ZvJUAfFJMFb9XmGIOnzGpijpcWYCaMqXSQWp8EnCABepQ0Elyi4wfKfsw78ikIqif1pe1AGPlLmojl1SKxHHXp1L+Ut7AmDQHvhI5xHGi4EooO2BR7k78PEkJOdL7cAxQUZ/Tyclu9gnfwGgOmm2lNHGNmZXsq4Pqgc1EG1ATrvKl8s4R9ywwnqulGUnaRLVhxy8v3ieUwy2hbooT68uscW++DCDH0WSzuoyN2D4LUJ/tLECbcSKznwMIFs0ChF4mRTCnQbIIfk4SHJo6A9BMuTnXTs3Ku/KxsgZWqzuSe+Os8cEUfnMBY6UF5gi3SUbd5K7vDjq5WW0UENJlRsWn4sy21Er/E/AvPQSFHy1p4fgAAAAASUVORK5CYII=');  background-repeat: repeat-x;  background-size: 14px;  height: 28px;}\n",
              "</style>\n"
            ]
          },
          "metadata": {}
        }
      ],
      "source": [
        "import pandas as pd\n",
        "import tensorflow_hub as hub\n",
        "import dask.dataframe as dd\n",
        "import seaborn as sns\n",
        "import matplotlib.pyplot as plt\n",
        "from nltk.sentiment.vader import SentimentIntensityAnalyzer\n",
        "from wordcloud import WordCloud, STOPWORDS, ImageColorGenerator\n",
        "import nltk\n",
        "import re\n",
        "import datatable as dt\n",
        "import unicodedata\n",
        "from nltk.corpus import stopwords\n",
        "from bs4 import BeautifulSoup\n",
        "import string\n",
        "# ignoring all the warnings\n",
        "import warnings\n",
        "warnings.filterwarnings(\"ignore\")"
      ]
    },
    {
      "cell_type": "code",
      "execution_count": null,
      "metadata": {
        "id": "zfukAOofCIaA"
      },
      "outputs": [],
      "source": [
        "url = 'https://raw.githubusercontent.com/JovitaBer/sentiment/main/filename.csv?token=GHSAT0AAAAAAB3FZW3XQRXVX44CDUBRPFGAY3SODRA'\n",
        "data = pd.read_csv(url, encoding = 'unicode_escape')"
      ]
    },
    {
      "cell_type": "markdown",
      "metadata": {
        "id": "egSxOn0A0GLr"
      },
      "source": [
        "## Defined functions"
      ]
    },
    {
      "cell_type": "markdown",
      "metadata": {
        "id": "6xx7RIuo0GL2"
      },
      "source": [
        "- strip emoji"
      ]
    },
    {
      "cell_type": "code",
      "execution_count": null,
      "metadata": {
        "id": "Z8ObFERb0GL3"
      },
      "outputs": [],
      "source": [
        "def remove_emojis(data):\n",
        "    emoj = re.compile(\"[\"\n",
        "        u\"\\U0001F600-\\U0001F64F\"  # emoticons\n",
        "        u\"\\U0001F300-\\U0001F5FF\"  # symbols & pictographs\n",
        "        u\"\\U0001F680-\\U0001F6FF\"  # transport & map symbols\n",
        "        u\"\\U0001F1E0-\\U0001F1FF\"  # flags (iOS)\n",
        "        u\"\\U00002500-\\U00002BEF\"  # chinese char\n",
        "        u\"\\U00002702-\\U000027B0\"\n",
        "        u\"\\U00002702-\\U000027B0\"\n",
        "        u\"\\U000024C2-\\U0001F251\"\n",
        "        u\"\\U0001f926-\\U0001f937\"\n",
        "        u\"\\U00010000-\\U0010ffff\"\n",
        "        u\"\\u2640-\\u2642\" \n",
        "        u\"\\u2600-\\u2B55\"\n",
        "        u\"\\u200d\"\n",
        "        u\"\\u23cf\"\n",
        "        u\"\\u23e9\"\n",
        "        u\"\\u231a\"\n",
        "        u\"\\ufe0f\"  # dingbats\n",
        "        u\"\\u3030\"\n",
        "                      \"]+\", re.UNICODE)\n",
        "    return re.sub(emoj, '', data)"
      ]
    },
    {
      "cell_type": "markdown",
      "metadata": {
        "id": "96v9PzNb0GL_"
      },
      "source": [
        "## Start Exploring DataSet"
      ]
    },
    {
      "cell_type": "code",
      "execution_count": null,
      "metadata": {
        "id": "YFJnkADp0GMB"
      },
      "outputs": [],
      "source": [
        "data['created_at'] = pd.to_datetime(data['created_at'])"
      ]
    },
    {
      "cell_type": "code",
      "execution_count": null,
      "metadata": {
        "id": "LkHmeIzT0GMC"
      },
      "outputs": [],
      "source": [
        "df = data[['id', 'username', 'created_at','tweet','language']]\n",
        "df.set_index('id', inplace=True)"
      ]
    },
    {
      "cell_type": "code",
      "execution_count": null,
      "metadata": {
        "colab": {
          "base_uri": "https://localhost:8080/"
        },
        "id": "RgKW9vQb0GMC",
        "outputId": "1bfccdf0-2cd7-4a8f-89f0-8b8afa7d7e17"
      },
      "outputs": [
        {
          "output_type": "execute_result",
          "data": {
            "text/plain": [
              "en     8825\n",
              "pt      372\n",
              "it      233\n",
              "qme     110\n",
              "in       78\n",
              "und      68\n",
              "es       47\n",
              "ru       33\n",
              "th       29\n",
              "fr       28\n",
              "de       23\n",
              "vi       20\n",
              "ja       19\n",
              "ca       18\n",
              "ro       15\n",
              "qht      12\n",
              "fi       12\n",
              "ar       11\n",
              "tl        9\n",
              "nl        7\n",
              "uk        7\n",
              "pl        6\n",
              "qam       4\n",
              "hi        4\n",
              "zh        3\n",
              "cs        2\n",
              "et        2\n",
              "iw        2\n",
              "tr        2\n",
              "fa        2\n",
              "sl        1\n",
              "zxx       1\n",
              "el        1\n",
              "ht        1\n",
              "ko        1\n",
              "da        1\n",
              "bg        1\n",
              "hu        1\n",
              "Name: language, dtype: int64"
            ]
          },
          "metadata": {},
          "execution_count": 15
        }
      ],
      "source": [
        "df[\"language\"].value_counts()"
      ]
    },
    {
      "cell_type": "code",
      "execution_count": null,
      "metadata": {
        "colab": {
          "base_uri": "https://localhost:8080/"
        },
        "id": "tf1eC4_N0GMF",
        "outputId": "a268ff4d-46e1-4a90-9f44-451178b5106d"
      },
      "outputs": [
        {
          "output_type": "execute_result",
          "data": {
            "text/plain": [
              "username      0\n",
              "created_at    0\n",
              "tweet         0\n",
              "language      0\n",
              "dtype: int64"
            ]
          },
          "metadata": {},
          "execution_count": 16
        }
      ],
      "source": [
        "df.isnull().sum()"
      ]
    },
    {
      "cell_type": "code",
      "execution_count": null,
      "metadata": {
        "id": "UA3u0DLP0GMH"
      },
      "outputs": [],
      "source": [
        "df.dropna(inplace=True)"
      ]
    },
    {
      "cell_type": "code",
      "execution_count": null,
      "metadata": {
        "colab": {
          "base_uri": "https://localhost:8080/",
          "height": 364
        },
        "id": "wfwyiJAP0GMI",
        "outputId": "e4b85186-87d7-40b9-d73c-64ae280041c5"
      },
      "outputs": [
        {
          "output_type": "execute_result",
          "data": {
            "text/plain": [
              "                          username                created_at  \\\n",
              "id                                                             \n",
              "1591599653354868737  aldieramarket 2022-11-13 01:11:42+00:00   \n",
              "1591599650188185600        yarema9 2022-11-13 01:11:41+00:00   \n",
              "1591599647503556609  fito_fernando 2022-11-13 01:11:41+00:00   \n",
              "1591599638284570624   brasil_livre 2022-11-13 01:11:38+00:00   \n",
              "1591599630701076480      arnogosse 2022-11-13 01:11:37+00:00   \n",
              "\n",
              "                                                                 tweet  \\\n",
              "id                                                                       \n",
              "1591599653354868737  Update from Ukraine - Russia Unveils Its New F...   \n",
              "1591599650188185600  @NorburyKaz It could have been tit  for tat. I...   \n",
              "1591599647503556609  @Natkor7 Russia should bomb Ukraine ez  https:...   \n",
              "1591599638284570624  Em 'dia histÃ³rico', ucranianos celebram recon...   \n",
              "1591599630701076480  On February 24, Russia launched an invasion #å...   \n",
              "\n",
              "                    language  \n",
              "id                            \n",
              "1591599653354868737       en  \n",
              "1591599650188185600       en  \n",
              "1591599647503556609       en  \n",
              "1591599638284570624       pt  \n",
              "1591599630701076480       en  "
            ],
            "text/html": [
              "\n",
              "  <div id=\"df-453f1eb9-96c7-4252-889e-88c40cc5078b\">\n",
              "    <div class=\"colab-df-container\">\n",
              "      <div>\n",
              "<style scoped>\n",
              "    .dataframe tbody tr th:only-of-type {\n",
              "        vertical-align: middle;\n",
              "    }\n",
              "\n",
              "    .dataframe tbody tr th {\n",
              "        vertical-align: top;\n",
              "    }\n",
              "\n",
              "    .dataframe thead th {\n",
              "        text-align: right;\n",
              "    }\n",
              "</style>\n",
              "<table border=\"1\" class=\"dataframe\">\n",
              "  <thead>\n",
              "    <tr style=\"text-align: right;\">\n",
              "      <th></th>\n",
              "      <th>username</th>\n",
              "      <th>created_at</th>\n",
              "      <th>tweet</th>\n",
              "      <th>language</th>\n",
              "    </tr>\n",
              "    <tr>\n",
              "      <th>id</th>\n",
              "      <th></th>\n",
              "      <th></th>\n",
              "      <th></th>\n",
              "      <th></th>\n",
              "    </tr>\n",
              "  </thead>\n",
              "  <tbody>\n",
              "    <tr>\n",
              "      <th>1591599653354868737</th>\n",
              "      <td>aldieramarket</td>\n",
              "      <td>2022-11-13 01:11:42+00:00</td>\n",
              "      <td>Update from Ukraine - Russia Unveils Its New F...</td>\n",
              "      <td>en</td>\n",
              "    </tr>\n",
              "    <tr>\n",
              "      <th>1591599650188185600</th>\n",
              "      <td>yarema9</td>\n",
              "      <td>2022-11-13 01:11:41+00:00</td>\n",
              "      <td>@NorburyKaz It could have been tit  for tat. I...</td>\n",
              "      <td>en</td>\n",
              "    </tr>\n",
              "    <tr>\n",
              "      <th>1591599647503556609</th>\n",
              "      <td>fito_fernando</td>\n",
              "      <td>2022-11-13 01:11:41+00:00</td>\n",
              "      <td>@Natkor7 Russia should bomb Ukraine ez  https:...</td>\n",
              "      <td>en</td>\n",
              "    </tr>\n",
              "    <tr>\n",
              "      <th>1591599638284570624</th>\n",
              "      <td>brasil_livre</td>\n",
              "      <td>2022-11-13 01:11:38+00:00</td>\n",
              "      <td>Em 'dia histÃ³rico', ucranianos celebram recon...</td>\n",
              "      <td>pt</td>\n",
              "    </tr>\n",
              "    <tr>\n",
              "      <th>1591599630701076480</th>\n",
              "      <td>arnogosse</td>\n",
              "      <td>2022-11-13 01:11:37+00:00</td>\n",
              "      <td>On February 24, Russia launched an invasion #å...</td>\n",
              "      <td>en</td>\n",
              "    </tr>\n",
              "  </tbody>\n",
              "</table>\n",
              "</div>\n",
              "      <button class=\"colab-df-convert\" onclick=\"convertToInteractive('df-453f1eb9-96c7-4252-889e-88c40cc5078b')\"\n",
              "              title=\"Convert this dataframe to an interactive table.\"\n",
              "              style=\"display:none;\">\n",
              "        \n",
              "  <svg xmlns=\"http://www.w3.org/2000/svg\" height=\"24px\"viewBox=\"0 0 24 24\"\n",
              "       width=\"24px\">\n",
              "    <path d=\"M0 0h24v24H0V0z\" fill=\"none\"/>\n",
              "    <path d=\"M18.56 5.44l.94 2.06.94-2.06 2.06-.94-2.06-.94-.94-2.06-.94 2.06-2.06.94zm-11 1L8.5 8.5l.94-2.06 2.06-.94-2.06-.94L8.5 2.5l-.94 2.06-2.06.94zm10 10l.94 2.06.94-2.06 2.06-.94-2.06-.94-.94-2.06-.94 2.06-2.06.94z\"/><path d=\"M17.41 7.96l-1.37-1.37c-.4-.4-.92-.59-1.43-.59-.52 0-1.04.2-1.43.59L10.3 9.45l-7.72 7.72c-.78.78-.78 2.05 0 2.83L4 21.41c.39.39.9.59 1.41.59.51 0 1.02-.2 1.41-.59l7.78-7.78 2.81-2.81c.8-.78.8-2.07 0-2.86zM5.41 20L4 18.59l7.72-7.72 1.47 1.35L5.41 20z\"/>\n",
              "  </svg>\n",
              "      </button>\n",
              "      \n",
              "  <style>\n",
              "    .colab-df-container {\n",
              "      display:flex;\n",
              "      flex-wrap:wrap;\n",
              "      gap: 12px;\n",
              "    }\n",
              "\n",
              "    .colab-df-convert {\n",
              "      background-color: #E8F0FE;\n",
              "      border: none;\n",
              "      border-radius: 50%;\n",
              "      cursor: pointer;\n",
              "      display: none;\n",
              "      fill: #1967D2;\n",
              "      height: 32px;\n",
              "      padding: 0 0 0 0;\n",
              "      width: 32px;\n",
              "    }\n",
              "\n",
              "    .colab-df-convert:hover {\n",
              "      background-color: #E2EBFA;\n",
              "      box-shadow: 0px 1px 2px rgba(60, 64, 67, 0.3), 0px 1px 3px 1px rgba(60, 64, 67, 0.15);\n",
              "      fill: #174EA6;\n",
              "    }\n",
              "\n",
              "    [theme=dark] .colab-df-convert {\n",
              "      background-color: #3B4455;\n",
              "      fill: #D2E3FC;\n",
              "    }\n",
              "\n",
              "    [theme=dark] .colab-df-convert:hover {\n",
              "      background-color: #434B5C;\n",
              "      box-shadow: 0px 1px 3px 1px rgba(0, 0, 0, 0.15);\n",
              "      filter: drop-shadow(0px 1px 2px rgba(0, 0, 0, 0.3));\n",
              "      fill: #FFFFFF;\n",
              "    }\n",
              "  </style>\n",
              "\n",
              "      <script>\n",
              "        const buttonEl =\n",
              "          document.querySelector('#df-453f1eb9-96c7-4252-889e-88c40cc5078b button.colab-df-convert');\n",
              "        buttonEl.style.display =\n",
              "          google.colab.kernel.accessAllowed ? 'block' : 'none';\n",
              "\n",
              "        async function convertToInteractive(key) {\n",
              "          const element = document.querySelector('#df-453f1eb9-96c7-4252-889e-88c40cc5078b');\n",
              "          const dataTable =\n",
              "            await google.colab.kernel.invokeFunction('convertToInteractive',\n",
              "                                                     [key], {});\n",
              "          if (!dataTable) return;\n",
              "\n",
              "          const docLinkHtml = 'Like what you see? Visit the ' +\n",
              "            '<a target=\"_blank\" href=https://colab.research.google.com/notebooks/data_table.ipynb>data table notebook</a>'\n",
              "            + ' to learn more about interactive tables.';\n",
              "          element.innerHTML = '';\n",
              "          dataTable['output_type'] = 'display_data';\n",
              "          await google.colab.output.renderOutput(dataTable, element);\n",
              "          const docLink = document.createElement('div');\n",
              "          docLink.innerHTML = docLinkHtml;\n",
              "          element.appendChild(docLink);\n",
              "        }\n",
              "      </script>\n",
              "    </div>\n",
              "  </div>\n",
              "  "
            ]
          },
          "metadata": {},
          "execution_count": 18
        }
      ],
      "source": [
        "df.head()"
      ]
    },
    {
      "cell_type": "markdown",
      "metadata": {
        "id": "96I3Ntxb0GMJ"
      },
      "source": [
        "### Language Analysis"
      ]
    },
    {
      "cell_type": "code",
      "execution_count": null,
      "metadata": {
        "id": "X_5-tpV00GMJ"
      },
      "outputs": [],
      "source": [
        "language_df = pd.DataFrame(df['language'].value_counts().reset_index().values, columns=['language', 'total'])"
      ]
    },
    {
      "cell_type": "code",
      "execution_count": null,
      "metadata": {
        "id": "TwjiqFrU0GMK"
      },
      "outputs": [],
      "source": [
        "df = df.query('language == \"en\" or language == \"uk\"') # English language Tweets comprise greatest dataset"
      ]
    },
    {
      "cell_type": "code",
      "execution_count": null,
      "metadata": {
        "colab": {
          "base_uri": "https://localhost:8080/"
        },
        "id": "n0-FwElc0GMK",
        "outputId": "ae4249da-6938-41b4-e43a-1564e1cff66b"
      },
      "outputs": [
        {
          "output_type": "execute_result",
          "data": {
            "text/plain": [
              "en    8825\n",
              "uk       7\n",
              "Name: language, dtype: int64"
            ]
          },
          "metadata": {},
          "execution_count": 21
        }
      ],
      "source": [
        "df['language'].value_counts() # confirm only English-language Tweets remain."
      ]
    },
    {
      "cell_type": "markdown",
      "metadata": {
        "id": "GqTGlWM00GMU"
      },
      "source": [
        "## Clean & Stem The Tweets"
      ]
    },
    {
      "cell_type": "markdown",
      "metadata": {
        "id": "524YZ2T-h_Pc"
      },
      "source": [
        "## 1. Low Cleaning df['tweet_simple_clean']"
      ]
    },
    {
      "cell_type": "code",
      "execution_count": null,
      "metadata": {
        "id": "a-UbHrGefokK"
      },
      "outputs": [],
      "source": [
        "def clean_tweet(text):\n",
        "    text = str(text).lower() # lowercase the text\n",
        "    text = ' '.join([word for word in text.split() if not word.startswith('@')]) # get rid of usernames\n",
        "    text = ' '.join([word for word in text.split() if not word.startswith('#')]) # get rid of hashtags\n",
        "    text = re.sub('https?://\\S+|www\\.\\S+', '', text) # remove urls\n",
        "    text = BeautifulSoup(text, 'html.parser').string # parse any html and return it as a string\n",
        "    if text is None:\n",
        "        return ''\n",
        "    text = re.sub('\\[.*?\\]', '', text)\n",
        "    text = remove_emojis(text) # get rid of emojis\n",
        "    text = re.sub('\\n', '', text) # drop all line feeds\n",
        "    text = re.sub('[%s]' % re.escape(string.punctuation), '', text) #remove punctuation . , ! ?\n",
        "    # Remove all the special characters\n",
        "    text = re.sub(r'\\W', ' ', str(text))\n",
        " \n",
        "    # remove all single characters\n",
        "    text = re.sub(r'\\s+[a-zA-Z]\\s+', ' ', text)\n",
        " \n",
        "    # Remove single characters from the start\n",
        "    text = re.sub(r'\\^[a-zA-Z]\\s+', ' ', text) \n",
        "    text = re.sub(r'â', ' ', text)\n",
        "    text = re.sub(r'ð', ' ', text)\n",
        "    text = re.sub(r'º', ' ', text)\n",
        " \n",
        "    # Substituting multiple spaces with single space\n",
        "    text= re.sub(r'\\s+', ' ', text, flags=re.I)\n",
        " \n",
        "    # Removing prefixed 'b'\n",
        "    text = re.sub(r'^b\\s+', '', text)\n",
        "    while text.find('  ') != -1:\n",
        "        text = re.sub('\\s\\s', ' ', text) # strip double spaces\n",
        "    return text.strip()"
      ]
    },
    {
      "cell_type": "code",
      "execution_count": null,
      "metadata": {
        "colab": {
          "base_uri": "https://localhost:8080/",
          "height": 54
        },
        "id": "r3K8RLNB0GMU",
        "outputId": "ab426a28-c79e-49c5-c5ef-5be24a7dc575"
      },
      "outputs": [
        {
          "output_type": "execute_result",
          "data": {
            "text/plain": [
              "'@FoxNews Do you mean he is the new â\\x80\\x9cNew Russia ð\\x9f\\x87·ð\\x9f\\x87º Partyâ\\x80\\x9d leader?'"
            ],
            "application/vnd.google.colaboratory.intrinsic+json": {
              "type": "string"
            }
          },
          "metadata": {},
          "execution_count": 23
        }
      ],
      "source": [
        "df['tweet'].iloc[8831] # pre-cleaned tweet"
      ]
    },
    {
      "cell_type": "code",
      "execution_count": null,
      "metadata": {
        "id": "NSLD8sH80GMU"
      },
      "outputs": [],
      "source": [
        "stopword=set(stopwords.words('english'))"
      ]
    },
    {
      "cell_type": "code",
      "execution_count": null,
      "metadata": {
        "id": "w2YXbS-M0GMU"
      },
      "outputs": [],
      "source": [
        "df['tweet_simple_clean'] = df['tweet'].apply(clean_tweet)"
      ]
    },
    {
      "cell_type": "code",
      "execution_count": null,
      "metadata": {
        "colab": {
          "base_uri": "https://localhost:8080/",
          "height": 37
        },
        "id": "0vFbD-cZ0GMU",
        "outputId": "b19320cd-583c-46e5-bfa2-ba83650f6b3f"
      },
      "outputs": [
        {
          "output_type": "execute_result",
          "data": {
            "text/plain": [
              "'do you mean he is the new new russia party leader'"
            ],
            "application/vnd.google.colaboratory.intrinsic+json": {
              "type": "string"
            }
          },
          "metadata": {},
          "execution_count": 26
        }
      ],
      "source": [
        "df['tweet_simple_clean'].iloc[8831] # tweet after cleaning"
      ]
    },
    {
      "cell_type": "code",
      "execution_count": null,
      "metadata": {
        "colab": {
          "base_uri": "https://localhost:8080/",
          "height": 71
        },
        "id": "87n3v41BVqgV",
        "outputId": "c714b881-b8c0-4e51-a996-db304045a1e5"
      },
      "outputs": [
        {
          "output_type": "execute_result",
          "data": {
            "text/plain": [
              "'@spann_laura @GabbyGirl0409 @TravisAllen02 @GovRonDeSantis Oil and gas production. Once again, we own the supplies. You can call russia maybe?  https://t.co/5q7heT3p2e'"
            ],
            "application/vnd.google.colaboratory.intrinsic+json": {
              "type": "string"
            }
          },
          "metadata": {},
          "execution_count": 27
        }
      ],
      "source": [
        "df['tweet'].iloc[47] # pre-cleaned tweet"
      ]
    },
    {
      "cell_type": "code",
      "execution_count": null,
      "metadata": {
        "colab": {
          "base_uri": "https://localhost:8080/",
          "height": 54
        },
        "id": "B2jlrOz1VthO",
        "outputId": "7a01dca4-b0bd-4df4-d8ea-de85d0761721"
      },
      "outputs": [
        {
          "output_type": "execute_result",
          "data": {
            "text/plain": [
              "'oil and gas production once again we own the supplies you can call russia maybe'"
            ],
            "application/vnd.google.colaboratory.intrinsic+json": {
              "type": "string"
            }
          },
          "metadata": {},
          "execution_count": 28
        }
      ],
      "source": [
        "df['tweet_simple_clean'].iloc[47] # pre-cleaned tweet"
      ]
    },
    {
      "cell_type": "markdown",
      "metadata": {
        "id": "4fi22TAYiCRT"
      },
      "source": [
        "## 2. Medium Cleaning df['tweet_no_stopwords']"
      ]
    },
    {
      "cell_type": "code",
      "execution_count": null,
      "metadata": {
        "colab": {
          "base_uri": "https://localhost:8080/"
        },
        "id": "5c68Ewtid0LQ",
        "outputId": "d77a33ad-9a9f-4e3c-8066-685ad5f60cd3"
      },
      "outputs": [
        {
          "output_type": "execute_result",
          "data": {
            "text/plain": [
              "id\n",
              "1591599653354868737    update ukraine russia unveils new fighting pla...\n",
              "1591599650188185600    could tit tat israel refused provide lethal we...\n",
              "1591599647503556609                               russia bomb ukraine ez\n",
              "1591599630701076480                 february 24 russia launched invasion\n",
              "1591599629954875392                   disabilities struggle leave russia\n",
              "Name: tweet_no_stopwords, dtype: object"
            ]
          },
          "metadata": {},
          "execution_count": 29
        }
      ],
      "source": [
        "stop = stopwords.words('english') #Remove stopwords (and, or...)\n",
        "df['tweet_no_stopwords'] = df['tweet_simple_clean'].apply(lambda x: \" \".join(x for x in x.split() if x not in stop))\n",
        "df['tweet_no_stopwords'].head()\n"
      ]
    },
    {
      "cell_type": "code",
      "execution_count": null,
      "metadata": {
        "colab": {
          "base_uri": "https://localhost:8080/",
          "height": 88
        },
        "id": "v21HmFYcV9YF",
        "outputId": "989219da-b878-4a42-c1ca-68ff8c450f94"
      },
      "outputs": [
        {
          "output_type": "execute_result",
          "data": {
            "text/plain": [
              "'a former soviet state on russia border would have no way to generate war effort propaganda without us help country who president owns his own successful tv production company would feel lost wondering how to bolster his country folk moral with reporters all around'"
            ],
            "application/vnd.google.colaboratory.intrinsic+json": {
              "type": "string"
            }
          },
          "metadata": {},
          "execution_count": 30
        }
      ],
      "source": [
        "df['tweet_simple_clean'].iloc[40]"
      ]
    },
    {
      "cell_type": "code",
      "execution_count": null,
      "metadata": {
        "colab": {
          "base_uri": "https://localhost:8080/",
          "height": 71
        },
        "id": "9H-uA6xgif6A",
        "outputId": "60649a54-d2f0-4068-816c-9744250fdcc0"
      },
      "outputs": [
        {
          "output_type": "execute_result",
          "data": {
            "text/plain": [
              "'former soviet state russia border would way generate war effort propaganda without us help country president owns successful tv production company would feel lost wondering bolster country folk moral reporters around'"
            ],
            "application/vnd.google.colaboratory.intrinsic+json": {
              "type": "string"
            }
          },
          "metadata": {},
          "execution_count": 31
        }
      ],
      "source": [
        "df['tweet_no_stopwords'].iloc[40] # tweet after cleaning"
      ]
    },
    {
      "cell_type": "markdown",
      "metadata": {
        "id": "1pT__Yml26cR"
      },
      "source": [
        "## 3. High Cleaning df['tweet_high_clean']"
      ]
    },
    {
      "cell_type": "markdown",
      "metadata": {
        "id": "3QoiCYO__LW1"
      },
      "source": [
        "NLTK Lemmatization is the process of grouping the inflected forms of a word in order to analyze them as a single word in linguistics.Unlike stemming, lemmatization uses the part of speech tags and the meaning of the word in the sentence to see the main context of the document. Thus, NLTK Lemmatization is important for understanding a text and using it for Natural Language Processing, and Natural Language Understanding practices. https://www.holisticseo.digital/python-seo/nltk/lemmatize"
      ]
    },
    {
      "cell_type": "code",
      "execution_count": null,
      "metadata": {
        "colab": {
          "base_uri": "https://localhost:8080/"
        },
        "id": "1ULnGhXQ9oza",
        "outputId": "942a30b5-ee53-4fe9-e8bc-4703443ba0ec"
      },
      "outputs": [
        {
          "output_type": "stream",
          "name": "stderr",
          "text": [
            "[nltk_data] Downloading package averaged_perceptron_tagger to\n",
            "[nltk_data]     /root/nltk_data...\n",
            "[nltk_data]   Package averaged_perceptron_tagger is already up-to-\n",
            "[nltk_data]       date!\n"
          ]
        }
      ],
      "source": [
        "import nltk\n",
        "from nltk.stem import WordNetLemmatizer\n",
        "from nltk.corpus import wordnet\n",
        "nltk.download('averaged_perceptron_tagger')\n",
        "\n",
        "lemmatizer = WordNetLemmatizer()\n",
        "\n",
        "def nltk_pos_tagger(nltk_tag):\n",
        "    if nltk_tag.startswith('J'):\n",
        "        return wordnet.ADJ\n",
        "    elif nltk_tag.startswith('V'):\n",
        "        return wordnet.VERB\n",
        "    elif nltk_tag.startswith('N'):\n",
        "        return wordnet.NOUN\n",
        "    elif nltk_tag.startswith('R'):\n",
        "        return wordnet.ADV\n",
        "    else:          \n",
        "        return None\n",
        "\n",
        "def lemmatize_sentence(sentence):\n",
        "\n",
        "    nltk_tagged = nltk.pos_tag(nltk.word_tokenize(sentence))  \n",
        "    wordnet_tagged = map(lambda x: (x[0], nltk_pos_tagger(x[1])), nltk_tagged)\n",
        "    lemmatized_sentence = []\n",
        "    \n",
        "    for word, tag in wordnet_tagged:\n",
        "        if tag is None:\n",
        "            lemmatized_sentence.append(word)\n",
        "        else:        \n",
        "            lemmatized_sentence.append(lemmatizer.lemmatize(word, tag))\n",
        "    return \" \".join(lemmatized_sentence)"
      ]
    },
    {
      "cell_type": "code",
      "execution_count": null,
      "metadata": {
        "id": "pAeXCqW09wwU"
      },
      "outputs": [],
      "source": [
        "df['tweet_high_clean'] = df['tweet_no_stopwords'].apply(lemmatize_sentence)"
      ]
    },
    {
      "cell_type": "code",
      "execution_count": null,
      "metadata": {
        "colab": {
          "base_uri": "https://localhost:8080/",
          "height": 37
        },
        "id": "A4Nw4jhNWpTh",
        "outputId": "ab7a97d9-cc2e-48b2-dd6e-46bfdff57c2c"
      },
      "outputs": [
        {
          "output_type": "execute_result",
          "data": {
            "text/plain": [
              "'oil gas production supplies call russia maybe'"
            ],
            "application/vnd.google.colaboratory.intrinsic+json": {
              "type": "string"
            }
          },
          "metadata": {},
          "execution_count": 34
        }
      ],
      "source": [
        "df['tweet_no_stopwords'].iloc[47]"
      ]
    },
    {
      "cell_type": "code",
      "execution_count": null,
      "metadata": {
        "colab": {
          "base_uri": "https://localhost:8080/",
          "height": 37
        },
        "id": "XroSd_BQ-KRg",
        "outputId": "df4e2c86-eae1-4e29-f30c-b0b5c2212559"
      },
      "outputs": [
        {
          "output_type": "execute_result",
          "data": {
            "text/plain": [
              "'oil gas production supply call russia maybe'"
            ],
            "application/vnd.google.colaboratory.intrinsic+json": {
              "type": "string"
            }
          },
          "metadata": {},
          "execution_count": 35
        }
      ],
      "source": [
        "df['tweet_high_clean'].iloc[47] # tweet after cleaning"
      ]
    },
    {
      "cell_type": "code",
      "execution_count": null,
      "metadata": {
        "colab": {
          "base_uri": "https://localhost:8080/",
          "height": 71
        },
        "id": "JvqUuLgZWOC_",
        "outputId": "4489f221-2a58-4350-9b26-d8d71b191882"
      },
      "outputs": [
        {
          "output_type": "execute_result",
          "data": {
            "text/plain": [
              "'former soviet state russia border would way generate war effort propaganda without us help country president owns successful tv production company would feel lost wondering bolster country folk moral reporters around'"
            ],
            "application/vnd.google.colaboratory.intrinsic+json": {
              "type": "string"
            }
          },
          "metadata": {},
          "execution_count": 36
        }
      ],
      "source": [
        "df['tweet_no_stopwords'].iloc[40]"
      ]
    },
    {
      "cell_type": "code",
      "execution_count": null,
      "metadata": {
        "colab": {
          "base_uri": "https://localhost:8080/",
          "height": 71
        },
        "id": "c3vCw88sWQY-",
        "outputId": "b92a1248-652a-4222-ad1a-68494b933e5e"
      },
      "outputs": [
        {
          "output_type": "execute_result",
          "data": {
            "text/plain": [
              "'former soviet state russia border would way generate war effort propaganda without us help country president own successful tv production company would feel lose wondering bolster country folk moral reporter around'"
            ],
            "application/vnd.google.colaboratory.intrinsic+json": {
              "type": "string"
            }
          },
          "metadata": {},
          "execution_count": 37
        }
      ],
      "source": [
        "df['tweet_high_clean'].iloc[40]"
      ]
    },
    {
      "cell_type": "markdown",
      "metadata": {
        "id": "cVub24t0ldE-"
      },
      "source": [
        "## Classify Sentiment"
      ]
    },
    {
      "cell_type": "markdown",
      "metadata": {
        "id": "525yjynzmRP8"
      },
      "source": [
        "### Scoring tweets with simple cleaning"
      ]
    },
    {
      "cell_type": "code",
      "execution_count": null,
      "metadata": {
        "id": "jYYy7Q2ymNis"
      },
      "outputs": [],
      "source": [
        "sentiments = SentimentIntensityAnalyzer()\n",
        "\n",
        "df['Positive'] = [sentiments.polarity_scores(i)['pos'] for i in df['tweet_simple_clean']]\n",
        "df['Neutral'] = [sentiments.polarity_scores(i)['neu'] for i in df['tweet_simple_clean']]\n",
        "df['Negative'] = [sentiments.polarity_scores(i)['neg'] for i in df['tweet_simple_clean']]\n",
        "df['Compound'] = [sentiments.polarity_scores(i)['compound'] for i in df['tweet_simple_clean']]"
      ]
    },
    {
      "cell_type": "code",
      "execution_count": null,
      "metadata": {
        "colab": {
          "base_uri": "https://localhost:8080/"
        },
        "id": "BcJGIja7mhL1",
        "outputId": "6e067089-26d2-48ef-e1a2-0dbef0d66f0f"
      },
      "outputs": [
        {
          "output_type": "stream",
          "name": "stdout",
          "text": [
            "oil and gas production once again we own the supplies you can call russia maybe \n",
            " 0.0\n"
          ]
        }
      ],
      "source": [
        "print(df['tweet_simple_clean'].iloc[47],'\\n',df['Compound'].iloc[47])"
      ]
    },
    {
      "cell_type": "code",
      "execution_count": null,
      "metadata": {
        "id": "jcSEijrJlkok"
      },
      "outputs": [],
      "source": [
        "def classify_sentiment(row):\n",
        "    classify = 'Neutral'\n",
        "    if row['Compound'] >= 0.05:\n",
        "        classify = 'Positive'\n",
        "    elif row['Compound'] <= -0.05:\n",
        "        classify = 'Negative'\n",
        "    return classify"
      ]
    },
    {
      "cell_type": "code",
      "execution_count": null,
      "metadata": {
        "id": "eEAeXFfMle1d"
      },
      "outputs": [],
      "source": [
        "df['Sentiment'] = df.apply(classify_sentiment, axis=1)"
      ]
    },
    {
      "cell_type": "code",
      "execution_count": null,
      "metadata": {
        "colab": {
          "base_uri": "https://localhost:8080/"
        },
        "id": "ByKlFVfGlxM5",
        "outputId": "ec010737-db40-4202-865c-08f4acd90fa6"
      },
      "outputs": [
        {
          "output_type": "execute_result",
          "data": {
            "text/plain": [
              "Negative    4209\n",
              "Positive    2795\n",
              "Neutral     1828\n",
              "Name: Sentiment, dtype: int64"
            ]
          },
          "metadata": {},
          "execution_count": 42
        }
      ],
      "source": [
        "pos = df['Sentiment'][df['Sentiment'] == 'Positive'].count()\n",
        "neg = df['Sentiment'][df['Sentiment'] == 'Negative'].count()\n",
        "neu = df['Sentiment'][df['Sentiment'] == 'Neutral'].count()\n",
        "df['Sentiment'].value_counts()"
      ]
    },
    {
      "cell_type": "code",
      "execution_count": null,
      "metadata": {
        "colab": {
          "base_uri": "https://localhost:8080/"
        },
        "id": "lavtNhE1l2h2",
        "outputId": "963d291b-d348-45d6-edc4-ef849e6e0485"
      },
      "outputs": [
        {
          "output_type": "stream",
          "name": "stdout",
          "text": [
            "Ratio of Negative to Positive Tweets by Sentiment Count: 4209:2795 (1.51:1)\n"
          ]
        }
      ],
      "source": [
        "print('Ratio of Negative to Positive Tweets by Sentiment Count: {:.0f}:{:.0f} ({:.2f}:1)'.format(neg, pos, neg / pos))"
      ]
    },
    {
      "cell_type": "code",
      "execution_count": null,
      "metadata": {
        "colab": {
          "base_uri": "https://localhost:8080/"
        },
        "id": "taVW-cx5l3Hi",
        "outputId": "8e08dcb3-5032-4a95-8970-80f735b020cd"
      },
      "outputs": [
        {
          "output_type": "execute_result",
          "data": {
            "text/plain": [
              "{'Negative': 0, 'Positive': 1, 'Neutral': 2}"
            ]
          },
          "metadata": {},
          "execution_count": 44
        }
      ],
      "source": [
        "possible_label = df.Sentiment.unique()\n",
        "dict_label = {}\n",
        "for index,possible_label in enumerate(possible_label):\n",
        "    dict_label[possible_label] = index\n",
        "dict_label"
      ]
    },
    {
      "cell_type": "code",
      "execution_count": null,
      "metadata": {
        "id": "-o-D3Svcl7Az"
      },
      "outputs": [],
      "source": [
        "df[\"Label\"] = df[\"Sentiment\"].replace(dict_label)"
      ]
    },
    {
      "cell_type": "code",
      "execution_count": null,
      "metadata": {
        "colab": {
          "base_uri": "https://localhost:8080/",
          "height": 854
        },
        "id": "F_8pqp66lw_m",
        "outputId": "84d1c465-5c46-43a7-bfc6-06e84f90e9e2"
      },
      "outputs": [
        {
          "output_type": "execute_result",
          "data": {
            "text/plain": [
              "                            username                created_at  \\\n",
              "id                                                               \n",
              "1591599653354868737    aldieramarket 2022-11-13 01:11:42+00:00   \n",
              "1591599650188185600          yarema9 2022-11-13 01:11:41+00:00   \n",
              "1591599647503556609    fito_fernando 2022-11-13 01:11:41+00:00   \n",
              "1591599630701076480        arnogosse 2022-11-13 01:11:37+00:00   \n",
              "1591599629954875392    crichtonmamie 2022-11-13 01:11:36+00:00   \n",
              "...                              ...                       ...   \n",
              "1591547887095533570      txrednecker 2022-11-12 21:46:00+00:00   \n",
              "1591547869751820288   amerikkkakillz 2022-11-12 21:45:56+00:00   \n",
              "1591547862571180032     thelighthnes 2022-11-12 21:45:54+00:00   \n",
              "1591547862026158080  whtaboutjustice 2022-11-12 21:45:54+00:00   \n",
              "1591547859178250241     larissawakef 2022-11-12 21:45:53+00:00   \n",
              "\n",
              "                                                                 tweet  \\\n",
              "id                                                                       \n",
              "1591599653354868737  Update from Ukraine - Russia Unveils Its New F...   \n",
              "1591599650188185600  @NorburyKaz It could have been tit  for tat. I...   \n",
              "1591599647503556609  @Natkor7 Russia should bomb Ukraine ez  https:...   \n",
              "1591599630701076480  On February 24, Russia launched an invasion #å...   \n",
              "1591599629954875392  disabilities struggle more to leave Russia   #...   \n",
              "...                                                                ...   \n",
              "1591547887095533570  @socialiststeve6 Funny when you look at the so...   \n",
              "1591547869751820288  @_rcortney @JohnnySQL8 So is this the work of ...   \n",
              "1591547862571180032  @Gerashchenko_en russians in russia - blame US...   \n",
              "1591547862026158080  @KyivIndependent Dissolve G20. Dissolve UN. Di...   \n",
              "1591547859178250241  @FoxNews Do you mean he is the new âNew Russ...   \n",
              "\n",
              "                    language  \\\n",
              "id                             \n",
              "1591599653354868737       en   \n",
              "1591599650188185600       en   \n",
              "1591599647503556609       en   \n",
              "1591599630701076480       en   \n",
              "1591599629954875392       en   \n",
              "...                      ...   \n",
              "1591547887095533570       en   \n",
              "1591547869751820288       en   \n",
              "1591547862571180032       en   \n",
              "1591547862026158080       en   \n",
              "1591547859178250241       en   \n",
              "\n",
              "                                                    tweet_simple_clean  \\\n",
              "id                                                                       \n",
              "1591599653354868737  update from ukraine russia unveils its new fig...   \n",
              "1591599650188185600  it could have been tit for tat israel has refu...   \n",
              "1591599647503556609                      russia should bomb ukraine ez   \n",
              "1591599630701076480         on february 24 russia launched an invasion   \n",
              "1591599629954875392         disabilities struggle more to leave russia   \n",
              "...                                                                ...   \n",
              "1591547887095533570  funny when you look at the socialist countries...   \n",
              "1591547869751820288  so is this the work of military that commits w...   \n",
              "1591547862571180032  russians in russia blame us russians in englan...   \n",
              "1591547862026158080  dissolve g20 dissolve un dissolve nato dissolv...   \n",
              "1591547859178250241  do you mean he is the new new russia party leader   \n",
              "\n",
              "                                                    tweet_no_stopwords  \\\n",
              "id                                                                       \n",
              "1591599653354868737  update ukraine russia unveils new fighting pla...   \n",
              "1591599650188185600  could tit tat israel refused provide lethal we...   \n",
              "1591599647503556609                             russia bomb ukraine ez   \n",
              "1591599630701076480               february 24 russia launched invasion   \n",
              "1591599629954875392                 disabilities struggle leave russia   \n",
              "...                                                                ...   \n",
              "1591547887095533570  funny look socialist countries world china nor...   \n",
              "1591547869751820288  work military commits war crimes civilians don...   \n",
              "1591547862571180032  russians russia blame us russians england blam...   \n",
              "1591547862026158080  dissolve g20 dissolve un dissolve nato dissolv...   \n",
              "1591547859178250241                   mean new new russia party leader   \n",
              "\n",
              "                                                      tweet_high_clean  \\\n",
              "id                                                                       \n",
              "1591599653354868737  update ukraine russia unveils new fighting pla...   \n",
              "1591599650188185600  could tit tat israel refuse provide lethal wea...   \n",
              "1591599647503556609                             russia bomb ukraine ez   \n",
              "1591599630701076480                 february 24 russia launch invasion   \n",
              "1591599629954875392                   disability struggle leave russia   \n",
              "...                                                                ...   \n",
              "1591547887095533570  funny look socialist country world china north...   \n",
              "1591547869751820288  work military commits war crime civilian dont ...   \n",
              "1591547862571180032  russian russia blame us russian england blame ...   \n",
              "1591547862026158080  dissolve g20 dissolve un dissolve nato dissolv...   \n",
              "1591547859178250241                   mean new new russia party leader   \n",
              "\n",
              "                     Positive  Neutral  Negative  Compound Sentiment  Label  \n",
              "id                                                                           \n",
              "1591599653354868737     0.000    0.641     0.359   -0.6808  Negative      0  \n",
              "1591599650188185600     0.097    0.730     0.172   -0.5736  Negative      0  \n",
              "1591599647503556609     0.287    0.345     0.368   -0.1779  Negative      0  \n",
              "1591599630701076480     0.200    0.800     0.000    0.1280  Positive      1  \n",
              "1591599629954875392     0.000    0.514     0.486   -0.4173  Negative      0  \n",
              "...                       ...      ...       ...       ...       ...    ...  \n",
              "1591547887095533570     0.294    0.706     0.000    0.8750  Positive      1  \n",
              "1591547869751820288     0.033    0.848     0.118   -0.5859  Negative      0  \n",
              "1591547862571180032     0.000    0.735     0.265   -0.7351  Negative      0  \n",
              "1591547862026158080     0.000    0.957     0.043   -0.2044  Negative      0  \n",
              "1591547859178250241     0.213    0.787     0.000    0.4019  Positive      1  \n",
              "\n",
              "[8832 rows x 13 columns]"
            ],
            "text/html": [
              "\n",
              "  <div id=\"df-4d8ebbef-9c81-4781-8e67-bc6fd1f3c6cc\">\n",
              "    <div class=\"colab-df-container\">\n",
              "      <div>\n",
              "<style scoped>\n",
              "    .dataframe tbody tr th:only-of-type {\n",
              "        vertical-align: middle;\n",
              "    }\n",
              "\n",
              "    .dataframe tbody tr th {\n",
              "        vertical-align: top;\n",
              "    }\n",
              "\n",
              "    .dataframe thead th {\n",
              "        text-align: right;\n",
              "    }\n",
              "</style>\n",
              "<table border=\"1\" class=\"dataframe\">\n",
              "  <thead>\n",
              "    <tr style=\"text-align: right;\">\n",
              "      <th></th>\n",
              "      <th>username</th>\n",
              "      <th>created_at</th>\n",
              "      <th>tweet</th>\n",
              "      <th>language</th>\n",
              "      <th>tweet_simple_clean</th>\n",
              "      <th>tweet_no_stopwords</th>\n",
              "      <th>tweet_high_clean</th>\n",
              "      <th>Positive</th>\n",
              "      <th>Neutral</th>\n",
              "      <th>Negative</th>\n",
              "      <th>Compound</th>\n",
              "      <th>Sentiment</th>\n",
              "      <th>Label</th>\n",
              "    </tr>\n",
              "    <tr>\n",
              "      <th>id</th>\n",
              "      <th></th>\n",
              "      <th></th>\n",
              "      <th></th>\n",
              "      <th></th>\n",
              "      <th></th>\n",
              "      <th></th>\n",
              "      <th></th>\n",
              "      <th></th>\n",
              "      <th></th>\n",
              "      <th></th>\n",
              "      <th></th>\n",
              "      <th></th>\n",
              "      <th></th>\n",
              "    </tr>\n",
              "  </thead>\n",
              "  <tbody>\n",
              "    <tr>\n",
              "      <th>1591599653354868737</th>\n",
              "      <td>aldieramarket</td>\n",
              "      <td>2022-11-13 01:11:42+00:00</td>\n",
              "      <td>Update from Ukraine - Russia Unveils Its New F...</td>\n",
              "      <td>en</td>\n",
              "      <td>update from ukraine russia unveils its new fig...</td>\n",
              "      <td>update ukraine russia unveils new fighting pla...</td>\n",
              "      <td>update ukraine russia unveils new fighting pla...</td>\n",
              "      <td>0.000</td>\n",
              "      <td>0.641</td>\n",
              "      <td>0.359</td>\n",
              "      <td>-0.6808</td>\n",
              "      <td>Negative</td>\n",
              "      <td>0</td>\n",
              "    </tr>\n",
              "    <tr>\n",
              "      <th>1591599650188185600</th>\n",
              "      <td>yarema9</td>\n",
              "      <td>2022-11-13 01:11:41+00:00</td>\n",
              "      <td>@NorburyKaz It could have been tit  for tat. I...</td>\n",
              "      <td>en</td>\n",
              "      <td>it could have been tit for tat israel has refu...</td>\n",
              "      <td>could tit tat israel refused provide lethal we...</td>\n",
              "      <td>could tit tat israel refuse provide lethal wea...</td>\n",
              "      <td>0.097</td>\n",
              "      <td>0.730</td>\n",
              "      <td>0.172</td>\n",
              "      <td>-0.5736</td>\n",
              "      <td>Negative</td>\n",
              "      <td>0</td>\n",
              "    </tr>\n",
              "    <tr>\n",
              "      <th>1591599647503556609</th>\n",
              "      <td>fito_fernando</td>\n",
              "      <td>2022-11-13 01:11:41+00:00</td>\n",
              "      <td>@Natkor7 Russia should bomb Ukraine ez  https:...</td>\n",
              "      <td>en</td>\n",
              "      <td>russia should bomb ukraine ez</td>\n",
              "      <td>russia bomb ukraine ez</td>\n",
              "      <td>russia bomb ukraine ez</td>\n",
              "      <td>0.287</td>\n",
              "      <td>0.345</td>\n",
              "      <td>0.368</td>\n",
              "      <td>-0.1779</td>\n",
              "      <td>Negative</td>\n",
              "      <td>0</td>\n",
              "    </tr>\n",
              "    <tr>\n",
              "      <th>1591599630701076480</th>\n",
              "      <td>arnogosse</td>\n",
              "      <td>2022-11-13 01:11:37+00:00</td>\n",
              "      <td>On February 24, Russia launched an invasion #å...</td>\n",
              "      <td>en</td>\n",
              "      <td>on february 24 russia launched an invasion</td>\n",
              "      <td>february 24 russia launched invasion</td>\n",
              "      <td>february 24 russia launch invasion</td>\n",
              "      <td>0.200</td>\n",
              "      <td>0.800</td>\n",
              "      <td>0.000</td>\n",
              "      <td>0.1280</td>\n",
              "      <td>Positive</td>\n",
              "      <td>1</td>\n",
              "    </tr>\n",
              "    <tr>\n",
              "      <th>1591599629954875392</th>\n",
              "      <td>crichtonmamie</td>\n",
              "      <td>2022-11-13 01:11:36+00:00</td>\n",
              "      <td>disabilities struggle more to leave Russia   #...</td>\n",
              "      <td>en</td>\n",
              "      <td>disabilities struggle more to leave russia</td>\n",
              "      <td>disabilities struggle leave russia</td>\n",
              "      <td>disability struggle leave russia</td>\n",
              "      <td>0.000</td>\n",
              "      <td>0.514</td>\n",
              "      <td>0.486</td>\n",
              "      <td>-0.4173</td>\n",
              "      <td>Negative</td>\n",
              "      <td>0</td>\n",
              "    </tr>\n",
              "    <tr>\n",
              "      <th>...</th>\n",
              "      <td>...</td>\n",
              "      <td>...</td>\n",
              "      <td>...</td>\n",
              "      <td>...</td>\n",
              "      <td>...</td>\n",
              "      <td>...</td>\n",
              "      <td>...</td>\n",
              "      <td>...</td>\n",
              "      <td>...</td>\n",
              "      <td>...</td>\n",
              "      <td>...</td>\n",
              "      <td>...</td>\n",
              "      <td>...</td>\n",
              "    </tr>\n",
              "    <tr>\n",
              "      <th>1591547887095533570</th>\n",
              "      <td>txrednecker</td>\n",
              "      <td>2022-11-12 21:46:00+00:00</td>\n",
              "      <td>@socialiststeve6 Funny when you look at the so...</td>\n",
              "      <td>en</td>\n",
              "      <td>funny when you look at the socialist countries...</td>\n",
              "      <td>funny look socialist countries world china nor...</td>\n",
              "      <td>funny look socialist country world china north...</td>\n",
              "      <td>0.294</td>\n",
              "      <td>0.706</td>\n",
              "      <td>0.000</td>\n",
              "      <td>0.8750</td>\n",
              "      <td>Positive</td>\n",
              "      <td>1</td>\n",
              "    </tr>\n",
              "    <tr>\n",
              "      <th>1591547869751820288</th>\n",
              "      <td>amerikkkakillz</td>\n",
              "      <td>2022-11-12 21:45:56+00:00</td>\n",
              "      <td>@_rcortney @JohnnySQL8 So is this the work of ...</td>\n",
              "      <td>en</td>\n",
              "      <td>so is this the work of military that commits w...</td>\n",
              "      <td>work military commits war crimes civilians don...</td>\n",
              "      <td>work military commits war crime civilian dont ...</td>\n",
              "      <td>0.033</td>\n",
              "      <td>0.848</td>\n",
              "      <td>0.118</td>\n",
              "      <td>-0.5859</td>\n",
              "      <td>Negative</td>\n",
              "      <td>0</td>\n",
              "    </tr>\n",
              "    <tr>\n",
              "      <th>1591547862571180032</th>\n",
              "      <td>thelighthnes</td>\n",
              "      <td>2022-11-12 21:45:54+00:00</td>\n",
              "      <td>@Gerashchenko_en russians in russia - blame US...</td>\n",
              "      <td>en</td>\n",
              "      <td>russians in russia blame us russians in englan...</td>\n",
              "      <td>russians russia blame us russians england blam...</td>\n",
              "      <td>russian russia blame us russian england blame ...</td>\n",
              "      <td>0.000</td>\n",
              "      <td>0.735</td>\n",
              "      <td>0.265</td>\n",
              "      <td>-0.7351</td>\n",
              "      <td>Negative</td>\n",
              "      <td>0</td>\n",
              "    </tr>\n",
              "    <tr>\n",
              "      <th>1591547862026158080</th>\n",
              "      <td>whtaboutjustice</td>\n",
              "      <td>2022-11-12 21:45:54+00:00</td>\n",
              "      <td>@KyivIndependent Dissolve G20. Dissolve UN. Di...</td>\n",
              "      <td>en</td>\n",
              "      <td>dissolve g20 dissolve un dissolve nato dissolv...</td>\n",
              "      <td>dissolve g20 dissolve un dissolve nato dissolv...</td>\n",
              "      <td>dissolve g20 dissolve un dissolve nato dissolv...</td>\n",
              "      <td>0.000</td>\n",
              "      <td>0.957</td>\n",
              "      <td>0.043</td>\n",
              "      <td>-0.2044</td>\n",
              "      <td>Negative</td>\n",
              "      <td>0</td>\n",
              "    </tr>\n",
              "    <tr>\n",
              "      <th>1591547859178250241</th>\n",
              "      <td>larissawakef</td>\n",
              "      <td>2022-11-12 21:45:53+00:00</td>\n",
              "      <td>@FoxNews Do you mean he is the new âNew Russ...</td>\n",
              "      <td>en</td>\n",
              "      <td>do you mean he is the new new russia party leader</td>\n",
              "      <td>mean new new russia party leader</td>\n",
              "      <td>mean new new russia party leader</td>\n",
              "      <td>0.213</td>\n",
              "      <td>0.787</td>\n",
              "      <td>0.000</td>\n",
              "      <td>0.4019</td>\n",
              "      <td>Positive</td>\n",
              "      <td>1</td>\n",
              "    </tr>\n",
              "  </tbody>\n",
              "</table>\n",
              "<p>8832 rows × 13 columns</p>\n",
              "</div>\n",
              "      <button class=\"colab-df-convert\" onclick=\"convertToInteractive('df-4d8ebbef-9c81-4781-8e67-bc6fd1f3c6cc')\"\n",
              "              title=\"Convert this dataframe to an interactive table.\"\n",
              "              style=\"display:none;\">\n",
              "        \n",
              "  <svg xmlns=\"http://www.w3.org/2000/svg\" height=\"24px\"viewBox=\"0 0 24 24\"\n",
              "       width=\"24px\">\n",
              "    <path d=\"M0 0h24v24H0V0z\" fill=\"none\"/>\n",
              "    <path d=\"M18.56 5.44l.94 2.06.94-2.06 2.06-.94-2.06-.94-.94-2.06-.94 2.06-2.06.94zm-11 1L8.5 8.5l.94-2.06 2.06-.94-2.06-.94L8.5 2.5l-.94 2.06-2.06.94zm10 10l.94 2.06.94-2.06 2.06-.94-2.06-.94-.94-2.06-.94 2.06-2.06.94z\"/><path d=\"M17.41 7.96l-1.37-1.37c-.4-.4-.92-.59-1.43-.59-.52 0-1.04.2-1.43.59L10.3 9.45l-7.72 7.72c-.78.78-.78 2.05 0 2.83L4 21.41c.39.39.9.59 1.41.59.51 0 1.02-.2 1.41-.59l7.78-7.78 2.81-2.81c.8-.78.8-2.07 0-2.86zM5.41 20L4 18.59l7.72-7.72 1.47 1.35L5.41 20z\"/>\n",
              "  </svg>\n",
              "      </button>\n",
              "      \n",
              "  <style>\n",
              "    .colab-df-container {\n",
              "      display:flex;\n",
              "      flex-wrap:wrap;\n",
              "      gap: 12px;\n",
              "    }\n",
              "\n",
              "    .colab-df-convert {\n",
              "      background-color: #E8F0FE;\n",
              "      border: none;\n",
              "      border-radius: 50%;\n",
              "      cursor: pointer;\n",
              "      display: none;\n",
              "      fill: #1967D2;\n",
              "      height: 32px;\n",
              "      padding: 0 0 0 0;\n",
              "      width: 32px;\n",
              "    }\n",
              "\n",
              "    .colab-df-convert:hover {\n",
              "      background-color: #E2EBFA;\n",
              "      box-shadow: 0px 1px 2px rgba(60, 64, 67, 0.3), 0px 1px 3px 1px rgba(60, 64, 67, 0.15);\n",
              "      fill: #174EA6;\n",
              "    }\n",
              "\n",
              "    [theme=dark] .colab-df-convert {\n",
              "      background-color: #3B4455;\n",
              "      fill: #D2E3FC;\n",
              "    }\n",
              "\n",
              "    [theme=dark] .colab-df-convert:hover {\n",
              "      background-color: #434B5C;\n",
              "      box-shadow: 0px 1px 3px 1px rgba(0, 0, 0, 0.15);\n",
              "      filter: drop-shadow(0px 1px 2px rgba(0, 0, 0, 0.3));\n",
              "      fill: #FFFFFF;\n",
              "    }\n",
              "  </style>\n",
              "\n",
              "      <script>\n",
              "        const buttonEl =\n",
              "          document.querySelector('#df-4d8ebbef-9c81-4781-8e67-bc6fd1f3c6cc button.colab-df-convert');\n",
              "        buttonEl.style.display =\n",
              "          google.colab.kernel.accessAllowed ? 'block' : 'none';\n",
              "\n",
              "        async function convertToInteractive(key) {\n",
              "          const element = document.querySelector('#df-4d8ebbef-9c81-4781-8e67-bc6fd1f3c6cc');\n",
              "          const dataTable =\n",
              "            await google.colab.kernel.invokeFunction('convertToInteractive',\n",
              "                                                     [key], {});\n",
              "          if (!dataTable) return;\n",
              "\n",
              "          const docLinkHtml = 'Like what you see? Visit the ' +\n",
              "            '<a target=\"_blank\" href=https://colab.research.google.com/notebooks/data_table.ipynb>data table notebook</a>'\n",
              "            + ' to learn more about interactive tables.';\n",
              "          element.innerHTML = '';\n",
              "          dataTable['output_type'] = 'display_data';\n",
              "          await google.colab.output.renderOutput(dataTable, element);\n",
              "          const docLink = document.createElement('div');\n",
              "          docLink.innerHTML = docLinkHtml;\n",
              "          element.appendChild(docLink);\n",
              "        }\n",
              "      </script>\n",
              "    </div>\n",
              "  </div>\n",
              "  "
            ]
          },
          "metadata": {},
          "execution_count": 46
        }
      ],
      "source": [
        "df"
      ]
    },
    {
      "cell_type": "code",
      "execution_count": null,
      "metadata": {
        "colab": {
          "base_uri": "https://localhost:8080/",
          "height": 173
        },
        "id": "aFZ5jepcl7_O",
        "outputId": "37551018-1339-48a9-b58f-ca65a7df7aa5"
      },
      "outputs": [
        {
          "output_type": "execute_result",
          "data": {
            "text/plain": [
              "           Counts  Percentage\n",
              "Sentiment                    \n",
              "Negative     4209   47.656250\n",
              "Neutral      1828   20.697464\n",
              "Positive     2795   31.646286"
            ],
            "text/html": [
              "\n",
              "  <div id=\"df-4749eaf1-2dc2-42a7-ae76-df7304b96ed0\">\n",
              "    <div class=\"colab-df-container\">\n",
              "      <div>\n",
              "<style scoped>\n",
              "    .dataframe tbody tr th:only-of-type {\n",
              "        vertical-align: middle;\n",
              "    }\n",
              "\n",
              "    .dataframe tbody tr th {\n",
              "        vertical-align: top;\n",
              "    }\n",
              "\n",
              "    .dataframe thead th {\n",
              "        text-align: right;\n",
              "    }\n",
              "</style>\n",
              "<table border=\"1\" class=\"dataframe\">\n",
              "  <thead>\n",
              "    <tr style=\"text-align: right;\">\n",
              "      <th></th>\n",
              "      <th>Counts</th>\n",
              "      <th>Percentage</th>\n",
              "    </tr>\n",
              "    <tr>\n",
              "      <th>Sentiment</th>\n",
              "      <th></th>\n",
              "      <th></th>\n",
              "    </tr>\n",
              "  </thead>\n",
              "  <tbody>\n",
              "    <tr>\n",
              "      <th>Negative</th>\n",
              "      <td>4209</td>\n",
              "      <td>47.656250</td>\n",
              "    </tr>\n",
              "    <tr>\n",
              "      <th>Neutral</th>\n",
              "      <td>1828</td>\n",
              "      <td>20.697464</td>\n",
              "    </tr>\n",
              "    <tr>\n",
              "      <th>Positive</th>\n",
              "      <td>2795</td>\n",
              "      <td>31.646286</td>\n",
              "    </tr>\n",
              "  </tbody>\n",
              "</table>\n",
              "</div>\n",
              "      <button class=\"colab-df-convert\" onclick=\"convertToInteractive('df-4749eaf1-2dc2-42a7-ae76-df7304b96ed0')\"\n",
              "              title=\"Convert this dataframe to an interactive table.\"\n",
              "              style=\"display:none;\">\n",
              "        \n",
              "  <svg xmlns=\"http://www.w3.org/2000/svg\" height=\"24px\"viewBox=\"0 0 24 24\"\n",
              "       width=\"24px\">\n",
              "    <path d=\"M0 0h24v24H0V0z\" fill=\"none\"/>\n",
              "    <path d=\"M18.56 5.44l.94 2.06.94-2.06 2.06-.94-2.06-.94-.94-2.06-.94 2.06-2.06.94zm-11 1L8.5 8.5l.94-2.06 2.06-.94-2.06-.94L8.5 2.5l-.94 2.06-2.06.94zm10 10l.94 2.06.94-2.06 2.06-.94-2.06-.94-.94-2.06-.94 2.06-2.06.94z\"/><path d=\"M17.41 7.96l-1.37-1.37c-.4-.4-.92-.59-1.43-.59-.52 0-1.04.2-1.43.59L10.3 9.45l-7.72 7.72c-.78.78-.78 2.05 0 2.83L4 21.41c.39.39.9.59 1.41.59.51 0 1.02-.2 1.41-.59l7.78-7.78 2.81-2.81c.8-.78.8-2.07 0-2.86zM5.41 20L4 18.59l7.72-7.72 1.47 1.35L5.41 20z\"/>\n",
              "  </svg>\n",
              "      </button>\n",
              "      \n",
              "  <style>\n",
              "    .colab-df-container {\n",
              "      display:flex;\n",
              "      flex-wrap:wrap;\n",
              "      gap: 12px;\n",
              "    }\n",
              "\n",
              "    .colab-df-convert {\n",
              "      background-color: #E8F0FE;\n",
              "      border: none;\n",
              "      border-radius: 50%;\n",
              "      cursor: pointer;\n",
              "      display: none;\n",
              "      fill: #1967D2;\n",
              "      height: 32px;\n",
              "      padding: 0 0 0 0;\n",
              "      width: 32px;\n",
              "    }\n",
              "\n",
              "    .colab-df-convert:hover {\n",
              "      background-color: #E2EBFA;\n",
              "      box-shadow: 0px 1px 2px rgba(60, 64, 67, 0.3), 0px 1px 3px 1px rgba(60, 64, 67, 0.15);\n",
              "      fill: #174EA6;\n",
              "    }\n",
              "\n",
              "    [theme=dark] .colab-df-convert {\n",
              "      background-color: #3B4455;\n",
              "      fill: #D2E3FC;\n",
              "    }\n",
              "\n",
              "    [theme=dark] .colab-df-convert:hover {\n",
              "      background-color: #434B5C;\n",
              "      box-shadow: 0px 1px 3px 1px rgba(0, 0, 0, 0.15);\n",
              "      filter: drop-shadow(0px 1px 2px rgba(0, 0, 0, 0.3));\n",
              "      fill: #FFFFFF;\n",
              "    }\n",
              "  </style>\n",
              "\n",
              "      <script>\n",
              "        const buttonEl =\n",
              "          document.querySelector('#df-4749eaf1-2dc2-42a7-ae76-df7304b96ed0 button.colab-df-convert');\n",
              "        buttonEl.style.display =\n",
              "          google.colab.kernel.accessAllowed ? 'block' : 'none';\n",
              "\n",
              "        async function convertToInteractive(key) {\n",
              "          const element = document.querySelector('#df-4749eaf1-2dc2-42a7-ae76-df7304b96ed0');\n",
              "          const dataTable =\n",
              "            await google.colab.kernel.invokeFunction('convertToInteractive',\n",
              "                                                     [key], {});\n",
              "          if (!dataTable) return;\n",
              "\n",
              "          const docLinkHtml = 'Like what you see? Visit the ' +\n",
              "            '<a target=\"_blank\" href=https://colab.research.google.com/notebooks/data_table.ipynb>data table notebook</a>'\n",
              "            + ' to learn more about interactive tables.';\n",
              "          element.innerHTML = '';\n",
              "          dataTable['output_type'] = 'display_data';\n",
              "          await google.colab.output.renderOutput(dataTable, element);\n",
              "          const docLink = document.createElement('div');\n",
              "          docLink.innerHTML = docLinkHtml;\n",
              "          element.appendChild(docLink);\n",
              "        }\n",
              "      </script>\n",
              "    </div>\n",
              "  </div>\n",
              "  "
            ]
          },
          "metadata": {},
          "execution_count": 47
        }
      ],
      "source": [
        "pd.DataFrame(df.groupby(['Sentiment'])['Sentiment'].count()).rename(columns={\"Sentiment\":\"Counts\"}).assign(\n",
        "    Percentage=lambda x: (x.Counts/ x.Counts.sum())*100)"
      ]
    },
    {
      "cell_type": "code",
      "execution_count": null,
      "metadata": {
        "colab": {
          "base_uri": "https://localhost:8080/",
          "height": 437
        },
        "id": "JBUXAAMbp5GH",
        "outputId": "a8fcd7f0-0d87-46ff-baf6-cd984a297473"
      },
      "outputs": [
        {
          "output_type": "display_data",
          "data": {
            "text/plain": [
              "<Figure size 432x432 with 1 Axes>"
            ],
            "image/png": "[encoded data removed]"
          },
          "metadata": {}
        }
      ],
      "source": [
        "x = pd.DataFrame(df.groupby(['Sentiment'])['Sentiment'].count()).rename(columns={\"Sentiment\":\"Counts\"})\n",
        "labels = ['Negative','Neutral','Positive']\n",
        "colors = [\"#FF3C38\",\"#A9E4EF\",\"#81F495\"]\n",
        "fig, ax = plt.subplots(figsize=(6, 6))\n",
        "ax.pie(x, labels=labels, autopct='%.1f%%', colors=colors, startangle=90)\n",
        "ax.set_title(\"Percentage of Labeled Tweets\")\n",
        "plt.tight_layout()"
      ]
    },
    {
      "cell_type": "markdown",
      "metadata": {
        "id": "eWQtEQKKcSoN"
      },
      "source": [
        "## Bert"
      ]
    },
    {
      "cell_type": "code",
      "execution_count": null,
      "metadata": {
        "colab": {
          "base_uri": "https://localhost:8080/",
          "height": 854
        },
        "id": "DNsBq5Rm2-d-",
        "outputId": "d6091d3e-5dad-4044-c9cc-d7c90c1e8978"
      },
      "outputs": [
        {
          "output_type": "execute_result",
          "data": {
            "text/plain": [
              "                            username                created_at  \\\n",
              "id                                                               \n",
              "1591599653354868737    aldieramarket 2022-11-13 01:11:42+00:00   \n",
              "1591599650188185600          yarema9 2022-11-13 01:11:41+00:00   \n",
              "1591599647503556609    fito_fernando 2022-11-13 01:11:41+00:00   \n",
              "1591599630701076480        arnogosse 2022-11-13 01:11:37+00:00   \n",
              "1591599629954875392    crichtonmamie 2022-11-13 01:11:36+00:00   \n",
              "...                              ...                       ...   \n",
              "1591547887095533570      txrednecker 2022-11-12 21:46:00+00:00   \n",
              "1591547869751820288   amerikkkakillz 2022-11-12 21:45:56+00:00   \n",
              "1591547862571180032     thelighthnes 2022-11-12 21:45:54+00:00   \n",
              "1591547862026158080  whtaboutjustice 2022-11-12 21:45:54+00:00   \n",
              "1591547859178250241     larissawakef 2022-11-12 21:45:53+00:00   \n",
              "\n",
              "                                                                 tweet  \\\n",
              "id                                                                       \n",
              "1591599653354868737  Update from Ukraine - Russia Unveils Its New F...   \n",
              "1591599650188185600  @NorburyKaz It could have been tit  for tat. I...   \n",
              "1591599647503556609  @Natkor7 Russia should bomb Ukraine ez  https:...   \n",
              "1591599630701076480  On February 24, Russia launched an invasion #å...   \n",
              "1591599629954875392  disabilities struggle more to leave Russia   #...   \n",
              "...                                                                ...   \n",
              "1591547887095533570  @socialiststeve6 Funny when you look at the so...   \n",
              "1591547869751820288  @_rcortney @JohnnySQL8 So is this the work of ...   \n",
              "1591547862571180032  @Gerashchenko_en russians in russia - blame US...   \n",
              "1591547862026158080  @KyivIndependent Dissolve G20. Dissolve UN. Di...   \n",
              "1591547859178250241  @FoxNews Do you mean he is the new âNew Russ...   \n",
              "\n",
              "                    language  \\\n",
              "id                             \n",
              "1591599653354868737       en   \n",
              "1591599650188185600       en   \n",
              "1591599647503556609       en   \n",
              "1591599630701076480       en   \n",
              "1591599629954875392       en   \n",
              "...                      ...   \n",
              "1591547887095533570       en   \n",
              "1591547869751820288       en   \n",
              "1591547862571180032       en   \n",
              "1591547862026158080       en   \n",
              "1591547859178250241       en   \n",
              "\n",
              "                                                    tweet_simple_clean  \\\n",
              "id                                                                       \n",
              "1591599653354868737  update from ukraine russia unveils its new fig...   \n",
              "1591599650188185600  it could have been tit for tat israel has refu...   \n",
              "1591599647503556609                      russia should bomb ukraine ez   \n",
              "1591599630701076480         on february 24 russia launched an invasion   \n",
              "1591599629954875392         disabilities struggle more to leave russia   \n",
              "...                                                                ...   \n",
              "1591547887095533570  funny when you look at the socialist countries...   \n",
              "1591547869751820288  so is this the work of military that commits w...   \n",
              "1591547862571180032  russians in russia blame us russians in englan...   \n",
              "1591547862026158080  dissolve g20 dissolve un dissolve nato dissolv...   \n",
              "1591547859178250241  do you mean he is the new new russia party leader   \n",
              "\n",
              "                                                    tweet_no_stopwords  \\\n",
              "id                                                                       \n",
              "1591599653354868737  update ukraine russia unveils new fighting pla...   \n",
              "1591599650188185600  could tit tat israel refused provide lethal we...   \n",
              "1591599647503556609                             russia bomb ukraine ez   \n",
              "1591599630701076480               february 24 russia launched invasion   \n",
              "1591599629954875392                 disabilities struggle leave russia   \n",
              "...                                                                ...   \n",
              "1591547887095533570  funny look socialist countries world china nor...   \n",
              "1591547869751820288  work military commits war crimes civilians don...   \n",
              "1591547862571180032  russians russia blame us russians england blam...   \n",
              "1591547862026158080  dissolve g20 dissolve un dissolve nato dissolv...   \n",
              "1591547859178250241                   mean new new russia party leader   \n",
              "\n",
              "                                                      tweet_high_clean  \\\n",
              "id                                                                       \n",
              "1591599653354868737  update ukraine russia unveils new fighting pla...   \n",
              "1591599650188185600  could tit tat israel refuse provide lethal wea...   \n",
              "1591599647503556609                             russia bomb ukraine ez   \n",
              "1591599630701076480                 february 24 russia launch invasion   \n",
              "1591599629954875392                   disability struggle leave russia   \n",
              "...                                                                ...   \n",
              "1591547887095533570  funny look socialist country world china north...   \n",
              "1591547869751820288  work military commits war crime civilian dont ...   \n",
              "1591547862571180032  russian russia blame us russian england blame ...   \n",
              "1591547862026158080  dissolve g20 dissolve un dissolve nato dissolv...   \n",
              "1591547859178250241                   mean new new russia party leader   \n",
              "\n",
              "                     Positive  Neutral  Negative  Compound Sentiment  Label  \n",
              "id                                                                           \n",
              "1591599653354868737     0.000    0.641     0.359   -0.6808  Negative      0  \n",
              "1591599650188185600     0.097    0.730     0.172   -0.5736  Negative      0  \n",
              "1591599647503556609     0.287    0.345     0.368   -0.1779  Negative      0  \n",
              "1591599630701076480     0.200    0.800     0.000    0.1280  Positive      1  \n",
              "1591599629954875392     0.000    0.514     0.486   -0.4173  Negative      0  \n",
              "...                       ...      ...       ...       ...       ...    ...  \n",
              "1591547887095533570     0.294    0.706     0.000    0.8750  Positive      1  \n",
              "1591547869751820288     0.033    0.848     0.118   -0.5859  Negative      0  \n",
              "1591547862571180032     0.000    0.735     0.265   -0.7351  Negative      0  \n",
              "1591547862026158080     0.000    0.957     0.043   -0.2044  Negative      0  \n",
              "1591547859178250241     0.213    0.787     0.000    0.4019  Positive      1  \n",
              "\n",
              "[8832 rows x 13 columns]"
            ],
            "text/html": [
              "\n",
              "  <div id=\"df-7452835c-0e6f-4cd5-9e1e-d9dd8dd3a892\">\n",
              "    <div class=\"colab-df-container\">\n",
              "      <div>\n",
              "<style scoped>\n",
              "    .dataframe tbody tr th:only-of-type {\n",
              "        vertical-align: middle;\n",
              "    }\n",
              "\n",
              "    .dataframe tbody tr th {\n",
              "        vertical-align: top;\n",
              "    }\n",
              "\n",
              "    .dataframe thead th {\n",
              "        text-align: right;\n",
              "    }\n",
              "</style>\n",
              "<table border=\"1\" class=\"dataframe\">\n",
              "  <thead>\n",
              "    <tr style=\"text-align: right;\">\n",
              "      <th></th>\n",
              "      <th>username</th>\n",
              "      <th>created_at</th>\n",
              "      <th>tweet</th>\n",
              "      <th>language</th>\n",
              "      <th>tweet_simple_clean</th>\n",
              "      <th>tweet_no_stopwords</th>\n",
              "      <th>tweet_high_clean</th>\n",
              "      <th>Positive</th>\n",
              "      <th>Neutral</th>\n",
              "      <th>Negative</th>\n",
              "      <th>Compound</th>\n",
              "      <th>Sentiment</th>\n",
              "      <th>Label</th>\n",
              "    </tr>\n",
              "    <tr>\n",
              "      <th>id</th>\n",
              "      <th></th>\n",
              "      <th></th>\n",
              "      <th></th>\n",
              "      <th></th>\n",
              "      <th></th>\n",
              "      <th></th>\n",
              "      <th></th>\n",
              "      <th></th>\n",
              "      <th></th>\n",
              "      <th></th>\n",
              "      <th></th>\n",
              "      <th></th>\n",
              "      <th></th>\n",
              "    </tr>\n",
              "  </thead>\n",
              "  <tbody>\n",
              "    <tr>\n",
              "      <th>1591599653354868737</th>\n",
              "      <td>aldieramarket</td>\n",
              "      <td>2022-11-13 01:11:42+00:00</td>\n",
              "      <td>Update from Ukraine - Russia Unveils Its New F...</td>\n",
              "      <td>en</td>\n",
              "      <td>update from ukraine russia unveils its new fig...</td>\n",
              "      <td>update ukraine russia unveils new fighting pla...</td>\n",
              "      <td>update ukraine russia unveils new fighting pla...</td>\n",
              "      <td>0.000</td>\n",
              "      <td>0.641</td>\n",
              "      <td>0.359</td>\n",
              "      <td>-0.6808</td>\n",
              "      <td>Negative</td>\n",
              "      <td>0</td>\n",
              "    </tr>\n",
              "    <tr>\n",
              "      <th>1591599650188185600</th>\n",
              "      <td>yarema9</td>\n",
              "      <td>2022-11-13 01:11:41+00:00</td>\n",
              "      <td>@NorburyKaz It could have been tit  for tat. I...</td>\n",
              "      <td>en</td>\n",
              "      <td>it could have been tit for tat israel has refu...</td>\n",
              "      <td>could tit tat israel refused provide lethal we...</td>\n",
              "      <td>could tit tat israel refuse provide lethal wea...</td>\n",
              "      <td>0.097</td>\n",
              "      <td>0.730</td>\n",
              "      <td>0.172</td>\n",
              "      <td>-0.5736</td>\n",
              "      <td>Negative</td>\n",
              "      <td>0</td>\n",
              "    </tr>\n",
              "    <tr>\n",
              "      <th>1591599647503556609</th>\n",
              "      <td>fito_fernando</td>\n",
              "      <td>2022-11-13 01:11:41+00:00</td>\n",
              "      <td>@Natkor7 Russia should bomb Ukraine ez  https:...</td>\n",
              "      <td>en</td>\n",
              "      <td>russia should bomb ukraine ez</td>\n",
              "      <td>russia bomb ukraine ez</td>\n",
              "      <td>russia bomb ukraine ez</td>\n",
              "      <td>0.287</td>\n",
              "      <td>0.345</td>\n",
              "      <td>0.368</td>\n",
              "      <td>-0.1779</td>\n",
              "      <td>Negative</td>\n",
              "      <td>0</td>\n",
              "    </tr>\n",
              "    <tr>\n",
              "      <th>1591599630701076480</th>\n",
              "      <td>arnogosse</td>\n",
              "      <td>2022-11-13 01:11:37+00:00</td>\n",
              "      <td>On February 24, Russia launched an invasion #å...</td>\n",
              "      <td>en</td>\n",
              "      <td>on february 24 russia launched an invasion</td>\n",
              "      <td>february 24 russia launched invasion</td>\n",
              "      <td>february 24 russia launch invasion</td>\n",
              "      <td>0.200</td>\n",
              "      <td>0.800</td>\n",
              "      <td>0.000</td>\n",
              "      <td>0.1280</td>\n",
              "      <td>Positive</td>\n",
              "      <td>1</td>\n",
              "    </tr>\n",
              "    <tr>\n",
              "      <th>1591599629954875392</th>\n",
              "      <td>crichtonmamie</td>\n",
              "      <td>2022-11-13 01:11:36+00:00</td>\n",
              "      <td>disabilities struggle more to leave Russia   #...</td>\n",
              "      <td>en</td>\n",
              "      <td>disabilities struggle more to leave russia</td>\n",
              "      <td>disabilities struggle leave russia</td>\n",
              "      <td>disability struggle leave russia</td>\n",
              "      <td>0.000</td>\n",
              "      <td>0.514</td>\n",
              "      <td>0.486</td>\n",
              "      <td>-0.4173</td>\n",
              "      <td>Negative</td>\n",
              "      <td>0</td>\n",
              "    </tr>\n",
              "    <tr>\n",
              "      <th>...</th>\n",
              "      <td>...</td>\n",
              "      <td>...</td>\n",
              "      <td>...</td>\n",
              "      <td>...</td>\n",
              "      <td>...</td>\n",
              "      <td>...</td>\n",
              "      <td>...</td>\n",
              "      <td>...</td>\n",
              "      <td>...</td>\n",
              "      <td>...</td>\n",
              "      <td>...</td>\n",
              "      <td>...</td>\n",
              "      <td>...</td>\n",
              "    </tr>\n",
              "    <tr>\n",
              "      <th>1591547887095533570</th>\n",
              "      <td>txrednecker</td>\n",
              "      <td>2022-11-12 21:46:00+00:00</td>\n",
              "      <td>@socialiststeve6 Funny when you look at the so...</td>\n",
              "      <td>en</td>\n",
              "      <td>funny when you look at the socialist countries...</td>\n",
              "      <td>funny look socialist countries world china nor...</td>\n",
              "      <td>funny look socialist country world china north...</td>\n",
              "      <td>0.294</td>\n",
              "      <td>0.706</td>\n",
              "      <td>0.000</td>\n",
              "      <td>0.8750</td>\n",
              "      <td>Positive</td>\n",
              "      <td>1</td>\n",
              "    </tr>\n",
              "    <tr>\n",
              "      <th>1591547869751820288</th>\n",
              "      <td>amerikkkakillz</td>\n",
              "      <td>2022-11-12 21:45:56+00:00</td>\n",
              "      <td>@_rcortney @JohnnySQL8 So is this the work of ...</td>\n",
              "      <td>en</td>\n",
              "      <td>so is this the work of military that commits w...</td>\n",
              "      <td>work military commits war crimes civilians don...</td>\n",
              "      <td>work military commits war crime civilian dont ...</td>\n",
              "      <td>0.033</td>\n",
              "      <td>0.848</td>\n",
              "      <td>0.118</td>\n",
              "      <td>-0.5859</td>\n",
              "      <td>Negative</td>\n",
              "      <td>0</td>\n",
              "    </tr>\n",
              "    <tr>\n",
              "      <th>1591547862571180032</th>\n",
              "      <td>thelighthnes</td>\n",
              "      <td>2022-11-12 21:45:54+00:00</td>\n",
              "      <td>@Gerashchenko_en russians in russia - blame US...</td>\n",
              "      <td>en</td>\n",
              "      <td>russians in russia blame us russians in englan...</td>\n",
              "      <td>russians russia blame us russians england blam...</td>\n",
              "      <td>russian russia blame us russian england blame ...</td>\n",
              "      <td>0.000</td>\n",
              "      <td>0.735</td>\n",
              "      <td>0.265</td>\n",
              "      <td>-0.7351</td>\n",
              "      <td>Negative</td>\n",
              "      <td>0</td>\n",
              "    </tr>\n",
              "    <tr>\n",
              "      <th>1591547862026158080</th>\n",
              "      <td>whtaboutjustice</td>\n",
              "      <td>2022-11-12 21:45:54+00:00</td>\n",
              "      <td>@KyivIndependent Dissolve G20. Dissolve UN. Di...</td>\n",
              "      <td>en</td>\n",
              "      <td>dissolve g20 dissolve un dissolve nato dissolv...</td>\n",
              "      <td>dissolve g20 dissolve un dissolve nato dissolv...</td>\n",
              "      <td>dissolve g20 dissolve un dissolve nato dissolv...</td>\n",
              "      <td>0.000</td>\n",
              "      <td>0.957</td>\n",
              "      <td>0.043</td>\n",
              "      <td>-0.2044</td>\n",
              "      <td>Negative</td>\n",
              "      <td>0</td>\n",
              "    </tr>\n",
              "    <tr>\n",
              "      <th>1591547859178250241</th>\n",
              "      <td>larissawakef</td>\n",
              "      <td>2022-11-12 21:45:53+00:00</td>\n",
              "      <td>@FoxNews Do you mean he is the new âNew Russ...</td>\n",
              "      <td>en</td>\n",
              "      <td>do you mean he is the new new russia party leader</td>\n",
              "      <td>mean new new russia party leader</td>\n",
              "      <td>mean new new russia party leader</td>\n",
              "      <td>0.213</td>\n",
              "      <td>0.787</td>\n",
              "      <td>0.000</td>\n",
              "      <td>0.4019</td>\n",
              "      <td>Positive</td>\n",
              "      <td>1</td>\n",
              "    </tr>\n",
              "  </tbody>\n",
              "</table>\n",
              "<p>8832 rows × 13 columns</p>\n",
              "</div>\n",
              "      <button class=\"colab-df-convert\" onclick=\"convertToInteractive('df-7452835c-0e6f-4cd5-9e1e-d9dd8dd3a892')\"\n",
              "              title=\"Convert this dataframe to an interactive table.\"\n",
              "              style=\"display:none;\">\n",
              "        \n",
              "  <svg xmlns=\"http://www.w3.org/2000/svg\" height=\"24px\"viewBox=\"0 0 24 24\"\n",
              "       width=\"24px\">\n",
              "    <path d=\"M0 0h24v24H0V0z\" fill=\"none\"/>\n",
              "    <path d=\"M18.56 5.44l.94 2.06.94-2.06 2.06-.94-2.06-.94-.94-2.06-.94 2.06-2.06.94zm-11 1L8.5 8.5l.94-2.06 2.06-.94-2.06-.94L8.5 2.5l-.94 2.06-2.06.94zm10 10l.94 2.06.94-2.06 2.06-.94-2.06-.94-.94-2.06-.94 2.06-2.06.94z\"/><path d=\"M17.41 7.96l-1.37-1.37c-.4-.4-.92-.59-1.43-.59-.52 0-1.04.2-1.43.59L10.3 9.45l-7.72 7.72c-.78.78-.78 2.05 0 2.83L4 21.41c.39.39.9.59 1.41.59.51 0 1.02-.2 1.41-.59l7.78-7.78 2.81-2.81c.8-.78.8-2.07 0-2.86zM5.41 20L4 18.59l7.72-7.72 1.47 1.35L5.41 20z\"/>\n",
              "  </svg>\n",
              "      </button>\n",
              "      \n",
              "  <style>\n",
              "    .colab-df-container {\n",
              "      display:flex;\n",
              "      flex-wrap:wrap;\n",
              "      gap: 12px;\n",
              "    }\n",
              "\n",
              "    .colab-df-convert {\n",
              "      background-color: #E8F0FE;\n",
              "      border: none;\n",
              "      border-radius: 50%;\n",
              "      cursor: pointer;\n",
              "      display: none;\n",
              "      fill: #1967D2;\n",
              "      height: 32px;\n",
              "      padding: 0 0 0 0;\n",
              "      width: 32px;\n",
              "    }\n",
              "\n",
              "    .colab-df-convert:hover {\n",
              "      background-color: #E2EBFA;\n",
              "      box-shadow: 0px 1px 2px rgba(60, 64, 67, 0.3), 0px 1px 3px 1px rgba(60, 64, 67, 0.15);\n",
              "      fill: #174EA6;\n",
              "    }\n",
              "\n",
              "    [theme=dark] .colab-df-convert {\n",
              "      background-color: #3B4455;\n",
              "      fill: #D2E3FC;\n",
              "    }\n",
              "\n",
              "    [theme=dark] .colab-df-convert:hover {\n",
              "      background-color: #434B5C;\n",
              "      box-shadow: 0px 1px 3px 1px rgba(0, 0, 0, 0.15);\n",
              "      filter: drop-shadow(0px 1px 2px rgba(0, 0, 0, 0.3));\n",
              "      fill: #FFFFFF;\n",
              "    }\n",
              "  </style>\n",
              "\n",
              "      <script>\n",
              "        const buttonEl =\n",
              "          document.querySelector('#df-7452835c-0e6f-4cd5-9e1e-d9dd8dd3a892 button.colab-df-convert');\n",
              "        buttonEl.style.display =\n",
              "          google.colab.kernel.accessAllowed ? 'block' : 'none';\n",
              "\n",
              "        async function convertToInteractive(key) {\n",
              "          const element = document.querySelector('#df-7452835c-0e6f-4cd5-9e1e-d9dd8dd3a892');\n",
              "          const dataTable =\n",
              "            await google.colab.kernel.invokeFunction('convertToInteractive',\n",
              "                                                     [key], {});\n",
              "          if (!dataTable) return;\n",
              "\n",
              "          const docLinkHtml = 'Like what you see? Visit the ' +\n",
              "            '<a target=\"_blank\" href=https://colab.research.google.com/notebooks/data_table.ipynb>data table notebook</a>'\n",
              "            + ' to learn more about interactive tables.';\n",
              "          element.innerHTML = '';\n",
              "          dataTable['output_type'] = 'display_data';\n",
              "          await google.colab.output.renderOutput(dataTable, element);\n",
              "          const docLink = document.createElement('div');\n",
              "          docLink.innerHTML = docLinkHtml;\n",
              "          element.appendChild(docLink);\n",
              "        }\n",
              "      </script>\n",
              "    </div>\n",
              "  </div>\n",
              "  "
            ]
          },
          "metadata": {},
          "execution_count": 49
        }
      ],
      "source": [
        "df"
      ]
    },
    {
      "cell_type": "code",
      "execution_count": null,
      "metadata": {
        "colab": {
          "base_uri": "https://localhost:8080/"
        },
        "id": "CabIm5_54GUX",
        "outputId": "41c21007-97ac-454c-c3ea-3d25f0d4be67"
      },
      "outputs": [
        {
          "output_type": "stream",
          "name": "stdout",
          "text": [
            "Looking in indexes: https://pypi.org/simple, https://us-python.pkg.dev/colab-wheels/public/simple/\n",
            "Requirement already satisfied: transformers in /usr/local/lib/python3.7/dist-packages (4.25.1)\n",
            "Requirement already satisfied: numpy>=1.17 in /usr/local/lib/python3.7/dist-packages (from transformers) (1.21.6)\n",
            "Requirement already satisfied: filelock in /usr/local/lib/python3.7/dist-packages (from transformers) (3.8.0)\n",
            "Requirement already satisfied: importlib-metadata in /usr/local/lib/python3.7/dist-packages (from transformers) (4.13.0)\n",
            "Requirement already satisfied: pyyaml>=5.1 in /usr/local/lib/python3.7/dist-packages (from transformers) (6.0)\n",
            "Requirement already satisfied: huggingface-hub<1.0,>=0.10.0 in /usr/local/lib/python3.7/dist-packages (from transformers) (0.11.1)\n",
            "Requirement already satisfied: tqdm>=4.27 in /usr/local/lib/python3.7/dist-packages (from transformers) (4.64.1)\n",
            "Requirement already satisfied: packaging>=20.0 in /usr/local/lib/python3.7/dist-packages (from transformers) (21.3)\n",
            "Requirement already satisfied: tokenizers!=0.11.3,<0.14,>=0.11.1 in /usr/local/lib/python3.7/dist-packages (from transformers) (0.13.2)\n",
            "Requirement already satisfied: regex!=2019.12.17 in /usr/local/lib/python3.7/dist-packages (from transformers) (2022.6.2)\n",
            "Requirement already satisfied: requests in /usr/local/lib/python3.7/dist-packages (from transformers) (2.23.0)\n",
            "Requirement already satisfied: typing-extensions>=3.7.4.3 in /usr/local/lib/python3.7/dist-packages (from huggingface-hub<1.0,>=0.10.0->transformers) (4.1.1)\n",
            "Requirement already satisfied: pyparsing!=3.0.5,>=2.0.2 in /usr/local/lib/python3.7/dist-packages (from packaging>=20.0->transformers) (3.0.9)\n",
            "Requirement already satisfied: zipp>=0.5 in /usr/local/lib/python3.7/dist-packages (from importlib-metadata->transformers) (3.10.0)\n",
            "Requirement already satisfied: urllib3!=1.25.0,!=1.25.1,<1.26,>=1.21.1 in /usr/local/lib/python3.7/dist-packages (from requests->transformers) (1.24.3)\n",
            "Requirement already satisfied: certifi>=2017.4.17 in /usr/local/lib/python3.7/dist-packages (from requests->transformers) (2022.9.24)\n",
            "Requirement already satisfied: idna<3,>=2.5 in /usr/local/lib/python3.7/dist-packages (from requests->transformers) (2.10)\n",
            "Requirement already satisfied: chardet<4,>=3.0.2 in /usr/local/lib/python3.7/dist-packages (from requests->transformers) (3.0.4)\n"
          ]
        }
      ],
      "source": [
        "!pip install transformers\n",
        "from transformers import BertTokenizer\n",
        "from torch.utils.data import TensorDataset"
      ]
    },
    {
      "cell_type": "markdown",
      "metadata": {
        "id": "q15UuLE0-Df9"
      },
      "source": [
        "https://www.kaggle.com/code/harshjain123/bert-for-everyone-tutorial-implementation \n"
      ]
    },
    {
      "cell_type": "markdown",
      "metadata": {
        "id": "q5NGobds5k6o"
      },
      "source": [
        "### **Bert**"
      ]
    },
    {
      "cell_type": "code",
      "execution_count": null,
      "metadata": {
        "id": "H-clcF8L5tWO"
      },
      "outputs": [],
      "source": [
        "import numpy as np\n",
        "import pandas as pd\n",
        "from sklearn.model_selection import train_test_split\n",
        "from sklearn.linear_model import LogisticRegression\n",
        "from sklearn.model_selection import GridSearchCV\n",
        "from sklearn.model_selection import cross_val_score\n",
        "import torch\n",
        "import transformers as ppb\n",
        "import warnings\n",
        "warnings.filterwarnings('ignore')"
      ]
    },
    {
      "cell_type": "code",
      "execution_count": null,
      "metadata": {
        "id": "xK270MCT6Nth"
      },
      "outputs": [],
      "source": [
        "batch_1 = df[:2000]"
      ]
    },
    {
      "cell_type": "code",
      "execution_count": null,
      "metadata": {
        "colab": {
          "base_uri": "https://localhost:8080/",
          "height": 854
        },
        "id": "nNCwdzNrye4Q",
        "outputId": "c9071769-11f6-4c55-ef92-34c27e2ba005"
      },
      "outputs": [
        {
          "output_type": "execute_result",
          "data": {
            "text/plain": [
              "                           username                created_at  \\\n",
              "id                                                              \n",
              "1591599653354868737   aldieramarket 2022-11-13 01:11:42+00:00   \n",
              "1591599650188185600         yarema9 2022-11-13 01:11:41+00:00   \n",
              "1591599647503556609   fito_fernando 2022-11-13 01:11:41+00:00   \n",
              "1591599630701076480       arnogosse 2022-11-13 01:11:37+00:00   \n",
              "1591599629954875392   crichtonmamie 2022-11-13 01:11:36+00:00   \n",
              "...                             ...                       ...   \n",
              "1591587051639820288   nickdemersusa 2022-11-13 00:21:38+00:00   \n",
              "1591587035290148865      humuhumu79 2022-11-13 00:21:34+00:00   \n",
              "1591587012506697733     labmom32136 2022-11-13 00:21:28+00:00   \n",
              "1591587010338328577     sheepledipz 2022-11-13 00:21:28+00:00   \n",
              "1591586994227773440  edmundhalifax2 2022-11-13 00:21:24+00:00   \n",
              "\n",
              "                                                                 tweet  \\\n",
              "id                                                                       \n",
              "1591599653354868737  Update from Ukraine - Russia Unveils Its New F...   \n",
              "1591599650188185600  @NorburyKaz It could have been tit  for tat. I...   \n",
              "1591599647503556609  @Natkor7 Russia should bomb Ukraine ez  https:...   \n",
              "1591599630701076480  On February 24, Russia launched an invasion #å...   \n",
              "1591599629954875392  disabilities struggle more to leave Russia   #...   \n",
              "...                                                                ...   \n",
              "1591587051639820288  @mikepompeo The war in Ukraine is a ðºð¸ p...   \n",
              "1591587035290148865  @mfa_russia Traditional Russian Spiritual and ...   \n",
              "1591587012506697733  @AdamParkhomenko Geez, I hope you are correct....   \n",
              "1591587010338328577  @FiorellaIsabelM Good luck learning it. I lear...   \n",
              "1591586994227773440  If Russia implements its withdrawal from   #å¼...   \n",
              "\n",
              "                    language  \\\n",
              "id                             \n",
              "1591599653354868737       en   \n",
              "1591599650188185600       en   \n",
              "1591599647503556609       en   \n",
              "1591599630701076480       en   \n",
              "1591599629954875392       en   \n",
              "...                      ...   \n",
              "1591587051639820288       en   \n",
              "1591587035290148865       en   \n",
              "1591587012506697733       en   \n",
              "1591587010338328577       en   \n",
              "1591586994227773440       en   \n",
              "\n",
              "                                                    tweet_simple_clean  \\\n",
              "id                                                                       \n",
              "1591599653354868737  update from ukraine russia unveils its new fig...   \n",
              "1591599650188185600  it could have been tit for tat israel has refu...   \n",
              "1591599647503556609                      russia should bomb ukraine ez   \n",
              "1591599630701076480         on february 24 russia launched an invasion   \n",
              "1591599629954875392         disabilities struggle more to leave russia   \n",
              "...                                                                ...   \n",
              "1591587051639820288  the war in ukraine is proxy war against russia...   \n",
              "1591587035290148865  traditional russian spiritual and moral values...   \n",
              "1591587012506697733  geez hope you are correct can kari see russia ...   \n",
              "1591587010338328577  good luck learning it learned to read russian ...   \n",
              "1591586994227773440           if russia implements its withdrawal from   \n",
              "\n",
              "                                                    tweet_no_stopwords  \\\n",
              "id                                                                       \n",
              "1591599653354868737  update ukraine russia unveils new fighting pla...   \n",
              "1591599650188185600  could tit tat israel refused provide lethal we...   \n",
              "1591599647503556609                             russia bomb ukraine ez   \n",
              "1591599630701076480               february 24 russia launched invasion   \n",
              "1591599629954875392                 disabilities struggle leave russia   \n",
              "...                                                                ...   \n",
              "1591587051639820288  war ukraine proxy war russia led democrats act...   \n",
              "1591587035290148865  traditional russian spiritual moral values sat...   \n",
              "1591587012506697733             geez hope correct kari see russia home   \n",
              "1591587010338328577  good luck learning learned read russian drivin...   \n",
              "1591586994227773440                       russia implements withdrawal   \n",
              "\n",
              "                                                      tweet_high_clean  \\\n",
              "id                                                                       \n",
              "1591599653354868737  update ukraine russia unveils new fighting pla...   \n",
              "1591599650188185600  could tit tat israel refuse provide lethal wea...   \n",
              "1591599647503556609                             russia bomb ukraine ez   \n",
              "1591599630701076480                 february 24 russia launch invasion   \n",
              "1591599629954875392                   disability struggle leave russia   \n",
              "...                                                                ...   \n",
              "1591587051639820288  war ukraine proxy war russia lead democrat act...   \n",
              "1591587035290148865  traditional russian spiritual moral value sata...   \n",
              "1591587012506697733             geez hope correct kari see russia home   \n",
              "1591587010338328577  good luck learning learn read russian drive we...   \n",
              "1591586994227773440                        russia implement withdrawal   \n",
              "\n",
              "                     Positive  Neutral  Negative  Compound Sentiment  Label  \n",
              "id                                                                           \n",
              "1591599653354868737     0.000    0.641     0.359   -0.6808  Negative      0  \n",
              "1591599650188185600     0.097    0.730     0.172   -0.5736  Negative      0  \n",
              "1591599647503556609     0.287    0.345     0.368   -0.1779  Negative      0  \n",
              "1591599630701076480     0.200    0.800     0.000    0.1280  Positive      1  \n",
              "1591599629954875392     0.000    0.514     0.486   -0.4173  Negative      0  \n",
              "...                       ...      ...       ...       ...       ...    ...  \n",
              "1591587051639820288     0.023    0.689     0.288   -0.9287  Negative      0  \n",
              "1591587035290148865     0.055    0.530     0.415   -0.9623  Negative      0  \n",
              "1591587012506697733     0.195    0.805     0.000    0.4404  Positive      1  \n",
              "1591587010338328577     0.266    0.734     0.000    0.8271  Positive      1  \n",
              "1591586994227773440     0.180    0.820     0.000    0.0258   Neutral      2  \n",
              "\n",
              "[2000 rows x 13 columns]"
            ],
            "text/html": [
              "\n",
              "  <div id=\"df-60b54058-b126-453f-ac20-366902422177\">\n",
              "    <div class=\"colab-df-container\">\n",
              "      <div>\n",
              "<style scoped>\n",
              "    .dataframe tbody tr th:only-of-type {\n",
              "        vertical-align: middle;\n",
              "    }\n",
              "\n",
              "    .dataframe tbody tr th {\n",
              "        vertical-align: top;\n",
              "    }\n",
              "\n",
              "    .dataframe thead th {\n",
              "        text-align: right;\n",
              "    }\n",
              "</style>\n",
              "<table border=\"1\" class=\"dataframe\">\n",
              "  <thead>\n",
              "    <tr style=\"text-align: right;\">\n",
              "      <th></th>\n",
              "      <th>username</th>\n",
              "      <th>created_at</th>\n",
              "      <th>tweet</th>\n",
              "      <th>language</th>\n",
              "      <th>tweet_simple_clean</th>\n",
              "      <th>tweet_no_stopwords</th>\n",
              "      <th>tweet_high_clean</th>\n",
              "      <th>Positive</th>\n",
              "      <th>Neutral</th>\n",
              "      <th>Negative</th>\n",
              "      <th>Compound</th>\n",
              "      <th>Sentiment</th>\n",
              "      <th>Label</th>\n",
              "    </tr>\n",
              "    <tr>\n",
              "      <th>id</th>\n",
              "      <th></th>\n",
              "      <th></th>\n",
              "      <th></th>\n",
              "      <th></th>\n",
              "      <th></th>\n",
              "      <th></th>\n",
              "      <th></th>\n",
              "      <th></th>\n",
              "      <th></th>\n",
              "      <th></th>\n",
              "      <th></th>\n",
              "      <th></th>\n",
              "      <th></th>\n",
              "    </tr>\n",
              "  </thead>\n",
              "  <tbody>\n",
              "    <tr>\n",
              "      <th>1591599653354868737</th>\n",
              "      <td>aldieramarket</td>\n",
              "      <td>2022-11-13 01:11:42+00:00</td>\n",
              "      <td>Update from Ukraine - Russia Unveils Its New F...</td>\n",
              "      <td>en</td>\n",
              "      <td>update from ukraine russia unveils its new fig...</td>\n",
              "      <td>update ukraine russia unveils new fighting pla...</td>\n",
              "      <td>update ukraine russia unveils new fighting pla...</td>\n",
              "      <td>0.000</td>\n",
              "      <td>0.641</td>\n",
              "      <td>0.359</td>\n",
              "      <td>-0.6808</td>\n",
              "      <td>Negative</td>\n",
              "      <td>0</td>\n",
              "    </tr>\n",
              "    <tr>\n",
              "      <th>1591599650188185600</th>\n",
              "      <td>yarema9</td>\n",
              "      <td>2022-11-13 01:11:41+00:00</td>\n",
              "      <td>@NorburyKaz It could have been tit  for tat. I...</td>\n",
              "      <td>en</td>\n",
              "      <td>it could have been tit for tat israel has refu...</td>\n",
              "      <td>could tit tat israel refused provide lethal we...</td>\n",
              "      <td>could tit tat israel refuse provide lethal wea...</td>\n",
              "      <td>0.097</td>\n",
              "      <td>0.730</td>\n",
              "      <td>0.172</td>\n",
              "      <td>-0.5736</td>\n",
              "      <td>Negative</td>\n",
              "      <td>0</td>\n",
              "    </tr>\n",
              "    <tr>\n",
              "      <th>1591599647503556609</th>\n",
              "      <td>fito_fernando</td>\n",
              "      <td>2022-11-13 01:11:41+00:00</td>\n",
              "      <td>@Natkor7 Russia should bomb Ukraine ez  https:...</td>\n",
              "      <td>en</td>\n",
              "      <td>russia should bomb ukraine ez</td>\n",
              "      <td>russia bomb ukraine ez</td>\n",
              "      <td>russia bomb ukraine ez</td>\n",
              "      <td>0.287</td>\n",
              "      <td>0.345</td>\n",
              "      <td>0.368</td>\n",
              "      <td>-0.1779</td>\n",
              "      <td>Negative</td>\n",
              "      <td>0</td>\n",
              "    </tr>\n",
              "    <tr>\n",
              "      <th>1591599630701076480</th>\n",
              "      <td>arnogosse</td>\n",
              "      <td>2022-11-13 01:11:37+00:00</td>\n",
              "      <td>On February 24, Russia launched an invasion #å...</td>\n",
              "      <td>en</td>\n",
              "      <td>on february 24 russia launched an invasion</td>\n",
              "      <td>february 24 russia launched invasion</td>\n",
              "      <td>february 24 russia launch invasion</td>\n",
              "      <td>0.200</td>\n",
              "      <td>0.800</td>\n",
              "      <td>0.000</td>\n",
              "      <td>0.1280</td>\n",
              "      <td>Positive</td>\n",
              "      <td>1</td>\n",
              "    </tr>\n",
              "    <tr>\n",
              "      <th>1591599629954875392</th>\n",
              "      <td>crichtonmamie</td>\n",
              "      <td>2022-11-13 01:11:36+00:00</td>\n",
              "      <td>disabilities struggle more to leave Russia   #...</td>\n",
              "      <td>en</td>\n",
              "      <td>disabilities struggle more to leave russia</td>\n",
              "      <td>disabilities struggle leave russia</td>\n",
              "      <td>disability struggle leave russia</td>\n",
              "      <td>0.000</td>\n",
              "      <td>0.514</td>\n",
              "      <td>0.486</td>\n",
              "      <td>-0.4173</td>\n",
              "      <td>Negative</td>\n",
              "      <td>0</td>\n",
              "    </tr>\n",
              "    <tr>\n",
              "      <th>...</th>\n",
              "      <td>...</td>\n",
              "      <td>...</td>\n",
              "      <td>...</td>\n",
              "      <td>...</td>\n",
              "      <td>...</td>\n",
              "      <td>...</td>\n",
              "      <td>...</td>\n",
              "      <td>...</td>\n",
              "      <td>...</td>\n",
              "      <td>...</td>\n",
              "      <td>...</td>\n",
              "      <td>...</td>\n",
              "      <td>...</td>\n",
              "    </tr>\n",
              "    <tr>\n",
              "      <th>1591587051639820288</th>\n",
              "      <td>nickdemersusa</td>\n",
              "      <td>2022-11-13 00:21:38+00:00</td>\n",
              "      <td>@mikepompeo The war in Ukraine is a ðºð¸ p...</td>\n",
              "      <td>en</td>\n",
              "      <td>the war in ukraine is proxy war against russia...</td>\n",
              "      <td>war ukraine proxy war russia led democrats act...</td>\n",
              "      <td>war ukraine proxy war russia lead democrat act...</td>\n",
              "      <td>0.023</td>\n",
              "      <td>0.689</td>\n",
              "      <td>0.288</td>\n",
              "      <td>-0.9287</td>\n",
              "      <td>Negative</td>\n",
              "      <td>0</td>\n",
              "    </tr>\n",
              "    <tr>\n",
              "      <th>1591587035290148865</th>\n",
              "      <td>humuhumu79</td>\n",
              "      <td>2022-11-13 00:21:34+00:00</td>\n",
              "      <td>@mfa_russia Traditional Russian Spiritual and ...</td>\n",
              "      <td>en</td>\n",
              "      <td>traditional russian spiritual and moral values...</td>\n",
              "      <td>traditional russian spiritual moral values sat...</td>\n",
              "      <td>traditional russian spiritual moral value sata...</td>\n",
              "      <td>0.055</td>\n",
              "      <td>0.530</td>\n",
              "      <td>0.415</td>\n",
              "      <td>-0.9623</td>\n",
              "      <td>Negative</td>\n",
              "      <td>0</td>\n",
              "    </tr>\n",
              "    <tr>\n",
              "      <th>1591587012506697733</th>\n",
              "      <td>labmom32136</td>\n",
              "      <td>2022-11-13 00:21:28+00:00</td>\n",
              "      <td>@AdamParkhomenko Geez, I hope you are correct....</td>\n",
              "      <td>en</td>\n",
              "      <td>geez hope you are correct can kari see russia ...</td>\n",
              "      <td>geez hope correct kari see russia home</td>\n",
              "      <td>geez hope correct kari see russia home</td>\n",
              "      <td>0.195</td>\n",
              "      <td>0.805</td>\n",
              "      <td>0.000</td>\n",
              "      <td>0.4404</td>\n",
              "      <td>Positive</td>\n",
              "      <td>1</td>\n",
              "    </tr>\n",
              "    <tr>\n",
              "      <th>1591587010338328577</th>\n",
              "      <td>sheepledipz</td>\n",
              "      <td>2022-11-13 00:21:28+00:00</td>\n",
              "      <td>@FiorellaIsabelM Good luck learning it. I lear...</td>\n",
              "      <td>en</td>\n",
              "      <td>good luck learning it learned to read russian ...</td>\n",
              "      <td>good luck learning learned read russian drivin...</td>\n",
              "      <td>good luck learning learn read russian drive we...</td>\n",
              "      <td>0.266</td>\n",
              "      <td>0.734</td>\n",
              "      <td>0.000</td>\n",
              "      <td>0.8271</td>\n",
              "      <td>Positive</td>\n",
              "      <td>1</td>\n",
              "    </tr>\n",
              "    <tr>\n",
              "      <th>1591586994227773440</th>\n",
              "      <td>edmundhalifax2</td>\n",
              "      <td>2022-11-13 00:21:24+00:00</td>\n",
              "      <td>If Russia implements its withdrawal from   #å¼...</td>\n",
              "      <td>en</td>\n",
              "      <td>if russia implements its withdrawal from</td>\n",
              "      <td>russia implements withdrawal</td>\n",
              "      <td>russia implement withdrawal</td>\n",
              "      <td>0.180</td>\n",
              "      <td>0.820</td>\n",
              "      <td>0.000</td>\n",
              "      <td>0.0258</td>\n",
              "      <td>Neutral</td>\n",
              "      <td>2</td>\n",
              "    </tr>\n",
              "  </tbody>\n",
              "</table>\n",
              "<p>2000 rows × 13 columns</p>\n",
              "</div>\n",
              "      <button class=\"colab-df-convert\" onclick=\"convertToInteractive('df-60b54058-b126-453f-ac20-366902422177')\"\n",
              "              title=\"Convert this dataframe to an interactive table.\"\n",
              "              style=\"display:none;\">\n",
              "        \n",
              "  <svg xmlns=\"http://www.w3.org/2000/svg\" height=\"24px\"viewBox=\"0 0 24 24\"\n",
              "       width=\"24px\">\n",
              "    <path d=\"M0 0h24v24H0V0z\" fill=\"none\"/>\n",
              "    <path d=\"M18.56 5.44l.94 2.06.94-2.06 2.06-.94-2.06-.94-.94-2.06-.94 2.06-2.06.94zm-11 1L8.5 8.5l.94-2.06 2.06-.94-2.06-.94L8.5 2.5l-.94 2.06-2.06.94zm10 10l.94 2.06.94-2.06 2.06-.94-2.06-.94-.94-2.06-.94 2.06-2.06.94z\"/><path d=\"M17.41 7.96l-1.37-1.37c-.4-.4-.92-.59-1.43-.59-.52 0-1.04.2-1.43.59L10.3 9.45l-7.72 7.72c-.78.78-.78 2.05 0 2.83L4 21.41c.39.39.9.59 1.41.59.51 0 1.02-.2 1.41-.59l7.78-7.78 2.81-2.81c.8-.78.8-2.07 0-2.86zM5.41 20L4 18.59l7.72-7.72 1.47 1.35L5.41 20z\"/>\n",
              "  </svg>\n",
              "      </button>\n",
              "      \n",
              "  <style>\n",
              "    .colab-df-container {\n",
              "      display:flex;\n",
              "      flex-wrap:wrap;\n",
              "      gap: 12px;\n",
              "    }\n",
              "\n",
              "    .colab-df-convert {\n",
              "      background-color: #E8F0FE;\n",
              "      border: none;\n",
              "      border-radius: 50%;\n",
              "      cursor: pointer;\n",
              "      display: none;\n",
              "      fill: #1967D2;\n",
              "      height: 32px;\n",
              "      padding: 0 0 0 0;\n",
              "      width: 32px;\n",
              "    }\n",
              "\n",
              "    .colab-df-convert:hover {\n",
              "      background-color: #E2EBFA;\n",
              "      box-shadow: 0px 1px 2px rgba(60, 64, 67, 0.3), 0px 1px 3px 1px rgba(60, 64, 67, 0.15);\n",
              "      fill: #174EA6;\n",
              "    }\n",
              "\n",
              "    [theme=dark] .colab-df-convert {\n",
              "      background-color: #3B4455;\n",
              "      fill: #D2E3FC;\n",
              "    }\n",
              "\n",
              "    [theme=dark] .colab-df-convert:hover {\n",
              "      background-color: #434B5C;\n",
              "      box-shadow: 0px 1px 3px 1px rgba(0, 0, 0, 0.15);\n",
              "      filter: drop-shadow(0px 1px 2px rgba(0, 0, 0, 0.3));\n",
              "      fill: #FFFFFF;\n",
              "    }\n",
              "  </style>\n",
              "\n",
              "      <script>\n",
              "        const buttonEl =\n",
              "          document.querySelector('#df-60b54058-b126-453f-ac20-366902422177 button.colab-df-convert');\n",
              "        buttonEl.style.display =\n",
              "          google.colab.kernel.accessAllowed ? 'block' : 'none';\n",
              "\n",
              "        async function convertToInteractive(key) {\n",
              "          const element = document.querySelector('#df-60b54058-b126-453f-ac20-366902422177');\n",
              "          const dataTable =\n",
              "            await google.colab.kernel.invokeFunction('convertToInteractive',\n",
              "                                                     [key], {});\n",
              "          if (!dataTable) return;\n",
              "\n",
              "          const docLinkHtml = 'Like what you see? Visit the ' +\n",
              "            '<a target=\"_blank\" href=https://colab.research.google.com/notebooks/data_table.ipynb>data table notebook</a>'\n",
              "            + ' to learn more about interactive tables.';\n",
              "          element.innerHTML = '';\n",
              "          dataTable['output_type'] = 'display_data';\n",
              "          await google.colab.output.renderOutput(dataTable, element);\n",
              "          const docLink = document.createElement('div');\n",
              "          docLink.innerHTML = docLinkHtml;\n",
              "          element.appendChild(docLink);\n",
              "        }\n",
              "      </script>\n",
              "    </div>\n",
              "  </div>\n",
              "  "
            ]
          },
          "metadata": {},
          "execution_count": 53
        }
      ],
      "source": [
        "batch_1"
      ]
    },
    {
      "cell_type": "code",
      "execution_count": null,
      "metadata": {
        "colab": {
          "base_uri": "https://localhost:8080/"
        },
        "id": "YhGXh3EX5tdx",
        "outputId": "0156f40d-6b92-4643-f4a0-c0108199eaae"
      },
      "outputs": [
        {
          "output_type": "stream",
          "name": "stderr",
          "text": [
            "Some weights of the model checkpoint at distilbert-base-uncased were not used when initializing DistilBertModel: ['vocab_layer_norm.weight', 'vocab_projector.weight', 'vocab_transform.bias', 'vocab_layer_norm.bias', 'vocab_projector.bias', 'vocab_transform.weight']\n",
            "- This IS expected if you are initializing DistilBertModel from the checkpoint of a model trained on another task or with another architecture (e.g. initializing a BertForSequenceClassification model from a BertForPreTraining model).\n",
            "- This IS NOT expected if you are initializing DistilBertModel from the checkpoint of a model that you expect to be exactly identical (initializing a BertForSequenceClassification model from a BertForSequenceClassification model).\n"
          ]
        }
      ],
      "source": [
        "model_class, tokenizer_class, pretrained_weights = (ppb.DistilBertModel, ppb.DistilBertTokenizer, 'distilbert-base-uncased')\n",
        "\n",
        "\n",
        "# Load pretrained model/tokenizer\n",
        "tokenizer = tokenizer_class.from_pretrained(pretrained_weights)\n",
        "model = model_class.from_pretrained(pretrained_weights)"
      ]
    },
    {
      "cell_type": "code",
      "execution_count": null,
      "metadata": {
        "id": "kE-GP7d_6SFd"
      },
      "outputs": [],
      "source": [
        "tokenized = batch_1[\"tweet_simple_clean\"].apply((lambda x: tokenizer.encode(x, add_special_tokens=True)))"
      ]
    },
    {
      "cell_type": "code",
      "execution_count": null,
      "metadata": {
        "id": "BR1auWz36SrC"
      },
      "outputs": [],
      "source": [
        "max_len = 0\n",
        "for i in tokenized.values:\n",
        "    if len(i) > max_len:\n",
        "        max_len = len(i)\n",
        "\n",
        "padded = np.array([i + [0]*(max_len-len(i)) for i in tokenized.values])"
      ]
    },
    {
      "cell_type": "code",
      "execution_count": null,
      "metadata": {
        "colab": {
          "base_uri": "https://localhost:8080/"
        },
        "id": "a1bLWXjx2vd8",
        "outputId": "7e5e1156-6618-414a-ff38-6f7adb0397a0"
      },
      "outputs": [
        {
          "output_type": "execute_result",
          "data": {
            "text/plain": [
              "array([[  101, 10651,  2013, ...,     0,     0,     0],\n",
              "       [  101,  2009,  2071, ...,     0,     0,     0],\n",
              "       [  101,  3607,  2323, ...,     0,     0,     0],\n",
              "       ...,\n",
              "       [  101, 20277,  2480, ...,     0,     0,     0],\n",
              "       [  101,  2204,  6735, ...,     0,     0,     0],\n",
              "       [  101,  2065,  3607, ...,     0,     0,     0]])"
            ]
          },
          "metadata": {},
          "execution_count": 57
        }
      ],
      "source": [
        "padded"
      ]
    },
    {
      "cell_type": "code",
      "execution_count": null,
      "metadata": {
        "colab": {
          "base_uri": "https://localhost:8080/"
        },
        "id": "NUPcGT3wzKmp",
        "outputId": "d09fb665-a16e-4174-de2d-3362784c5164"
      },
      "outputs": [
        {
          "output_type": "execute_result",
          "data": {
            "text/plain": [
              "(2000, 85)"
            ]
          },
          "metadata": {},
          "execution_count": 58
        }
      ],
      "source": [
        "attention_mask = np.where(padded != 0, 1, 0)\n",
        "attention_mask.shape"
      ]
    },
    {
      "cell_type": "code",
      "execution_count": null,
      "metadata": {
        "id": "_uQcYn1z6Stj"
      },
      "outputs": [],
      "source": [
        "input_ids = torch.tensor(padded)  \n",
        "attention_mask = torch.tensor(attention_mask)\n",
        "\n",
        "with torch.no_grad():\n",
        "    last_hidden_states = model(input_ids, attention_mask=attention_mask)"
      ]
    },
    {
      "cell_type": "code",
      "execution_count": null,
      "metadata": {
        "id": "6sZiooQB6SwO"
      },
      "outputs": [],
      "source": [
        "features = last_hidden_states[0][:,0,:].numpy()"
      ]
    },
    {
      "cell_type": "code",
      "execution_count": null,
      "metadata": {
        "id": "HozKPstb6Yya"
      },
      "outputs": [],
      "source": [
        "labels = batch_1['Label']"
      ]
    },
    {
      "cell_type": "code",
      "execution_count": null,
      "metadata": {
        "id": "y5aLP7bbOMnb"
      },
      "outputs": [],
      "source": [
        "X_train, X_test, y_train, y_test = train_test_split(features, labels, \n",
        "                                                    test_size=0.2,\n",
        "                                                   random_state=100,\n",
        "                                                    stratify=labels)"
      ]
    },
    {
      "cell_type": "markdown",
      "metadata": {
        "id": "L9IZmwgzW1t_"
      },
      "source": [
        "Bert with Logistic regression without fine-tunning"
      ]
    },
    {
      "cell_type": "code",
      "execution_count": null,
      "metadata": {
        "id": "DB3lgC_n6Y_6"
      },
      "outputs": [],
      "source": [
        "lr_clf = LogisticRegression()\n",
        "lr_clf.fit(X_train, y_train)\n",
        "lr_clf.score(X_train, y_train)\n",
        "predictions = lr_clf.predict(X_test)"
      ]
    },
    {
      "cell_type": "code",
      "execution_count": null,
      "metadata": {
        "colab": {
          "base_uri": "https://localhost:8080/"
        },
        "id": "DMWUzdfbWi5j",
        "outputId": "77fb07fb-326a-4eb2-b023-bb001b938619"
      },
      "outputs": [
        {
          "output_type": "stream",
          "name": "stdout",
          "text": [
            "[[133  30  10]\n",
            " [ 53  73  11]\n",
            " [ 13  11  66]]\n",
            "              precision    recall  f1-score   support\n",
            "\n",
            "           0       0.67      0.77      0.72       173\n",
            "           1       0.64      0.53      0.58       137\n",
            "           2       0.76      0.73      0.75        90\n",
            "\n",
            "    accuracy                           0.68       400\n",
            "   macro avg       0.69      0.68      0.68       400\n",
            "weighted avg       0.68      0.68      0.68       400\n",
            "\n",
            "Model evaluation\n",
            "Accuracy: 0.68\n"
          ]
        }
      ],
      "source": [
        "from sklearn.metrics import classification_report, confusion_matrix, accuracy_score,precision_score, recall_score, f1_score\n",
        "\n",
        "print(confusion_matrix(y_test,predictions))  \n",
        "print(classification_report(y_test,predictions))  \n",
        "print(\"Model evaluation\")\n",
        "print(\"Accuracy:\", accuracy_score(y_test, predictions))"
      ]
    },
    {
      "cell_type": "markdown",
      "metadata": {
        "id": "8qhxnQ_CW-6v"
      },
      "source": [
        "Bert with Logistic regression with fine-tunning"
      ]
    },
    {
      "cell_type": "code",
      "execution_count": null,
      "metadata": {
        "colab": {
          "base_uri": "https://localhost:8080/"
        },
        "id": "sD-CW-74S9Sn",
        "outputId": "17d7edb8-9320-47f5-ad10-9ec2f006348f"
      },
      "outputs": [
        {
          "output_type": "execute_result",
          "data": {
            "text/plain": [
              "{'C': 1.0,\n",
              " 'class_weight': None,\n",
              " 'dual': False,\n",
              " 'fit_intercept': True,\n",
              " 'intercept_scaling': 1,\n",
              " 'l1_ratio': None,\n",
              " 'max_iter': 100,\n",
              " 'multi_class': 'auto',\n",
              " 'n_jobs': None,\n",
              " 'penalty': 'l2',\n",
              " 'random_state': None,\n",
              " 'solver': 'lbfgs',\n",
              " 'tol': 0.0001,\n",
              " 'verbose': 0,\n",
              " 'warm_start': False}"
            ]
          },
          "metadata": {},
          "execution_count": 65
        }
      ],
      "source": [
        "lr_clf.get_params()"
      ]
    },
    {
      "cell_type": "code",
      "source": [
        "!pip install scikit-optimize"
      ],
      "metadata": {
        "colab": {
          "base_uri": "https://localhost:8080/"
        },
        "id": "elUN_M-R-9r1",
        "outputId": "7b84a592-e220-48b4-dcd9-aa86037d634f"
      },
      "execution_count": null,
      "outputs": [
        {
          "output_type": "stream",
          "name": "stdout",
          "text": [
            "Looking in indexes: https://pypi.org/simple, https://us-python.pkg.dev/colab-wheels/public/simple/\n",
            "Requirement already satisfied: scikit-optimize in /usr/local/lib/python3.7/dist-packages (0.9.0)\n",
            "Requirement already satisfied: pyaml>=16.9 in /usr/local/lib/python3.7/dist-packages (from scikit-optimize) (21.10.1)\n",
            "Requirement already satisfied: scikit-learn>=0.20.0 in /usr/local/lib/python3.7/dist-packages (from scikit-optimize) (1.0.2)\n",
            "Requirement already satisfied: joblib>=0.11 in /usr/local/lib/python3.7/dist-packages (from scikit-optimize) (1.2.0)\n",
            "Requirement already satisfied: numpy>=1.13.3 in /usr/local/lib/python3.7/dist-packages (from scikit-optimize) (1.21.6)\n",
            "Requirement already satisfied: scipy>=0.19.1 in /usr/local/lib/python3.7/dist-packages (from scikit-optimize) (1.7.3)\n",
            "Requirement already satisfied: PyYAML in /usr/local/lib/python3.7/dist-packages (from pyaml>=16.9->scikit-optimize) (6.0)\n",
            "Requirement already satisfied: threadpoolctl>=2.0.0 in /usr/local/lib/python3.7/dist-packages (from scikit-learn>=0.20.0->scikit-optimize) (3.1.0)\n"
          ]
        }
      ]
    },
    {
      "cell_type": "code",
      "execution_count": null,
      "metadata": {
        "colab": {
          "base_uri": "https://localhost:8080/"
        },
        "id": "3kLuOkkvT9ga",
        "outputId": "799c51c8-039c-4d14-94fe-8784427a5ec3"
      },
      "outputs": [
        {
          "output_type": "execute_result",
          "data": {
            "text/plain": [
              "OrderedDict([('C', 0.3)])"
            ]
          },
          "metadata": {},
          "execution_count": 67
        }
      ],
      "source": [
        "from skopt import BayesSearchCV\n",
        "parameters = {'C':[0.1,0.2,0.3,0.4,0.5,0.6,0.7,0.8,0.9,1]}\n",
        "log_reg_model = LogisticRegression()\n",
        "\n",
        "cv = BayesSearchCV(log_reg_model, parameters)\n",
        "cv.fit(X_train, y_train)\n",
        "best_params = cv.best_params_\n",
        "best_params\n",
        "\n"
      ]
    },
    {
      "cell_type": "code",
      "execution_count": null,
      "metadata": {
        "id": "M6wEZSMBUR6r"
      },
      "outputs": [],
      "source": [
        "logistic = LogisticRegression(**best_params, class_weight='balanced', random_state = 42, \n",
        "                              max_iter=10000)\n",
        "\n",
        "logistic.fit(X_train, y_train)\n",
        "predictions = logistic.predict(X_test)\n"
      ]
    },
    {
      "cell_type": "code",
      "execution_count": null,
      "metadata": {
        "colab": {
          "base_uri": "https://localhost:8080/"
        },
        "id": "pEdkixFFVluu",
        "outputId": "89632df3-f0fa-466f-848e-e45493a45743"
      },
      "outputs": [
        {
          "output_type": "stream",
          "name": "stdout",
          "text": [
            "[[125  33  15]\n",
            " [ 42  77  18]\n",
            " [  9  12  69]]\n",
            "              precision    recall  f1-score   support\n",
            "\n",
            "           0       0.71      0.72      0.72       173\n",
            "           1       0.63      0.56      0.59       137\n",
            "           2       0.68      0.77      0.72        90\n",
            "\n",
            "    accuracy                           0.68       400\n",
            "   macro avg       0.67      0.68      0.68       400\n",
            "weighted avg       0.68      0.68      0.68       400\n",
            "\n",
            "Model evaluation\n",
            "Accuracy: 0.6775\n"
          ]
        }
      ],
      "source": [
        "from sklearn.metrics import classification_report, confusion_matrix, accuracy_score,precision_score, recall_score, f1_score\n",
        " \n",
        "print(confusion_matrix(y_test,predictions))  \n",
        "print(classification_report(y_test,predictions))  \n",
        "print(\"Model evaluation\")\n",
        "print(\"Accuracy:\", accuracy_score(y_test, predictions))"
      ]
    },
    {
      "cell_type": "markdown",
      "metadata": {
        "id": "tZZq_ACVXniQ"
      },
      "source": [
        "Bert with XGBoost without fine-tunning"
      ]
    },
    {
      "cell_type": "code",
      "execution_count": null,
      "metadata": {
        "id": "CNfBxlYrXmoJ"
      },
      "outputs": [],
      "source": [
        "from xgboost import XGBClassifier\n",
        "import xgboost as xgb\n",
        "\n",
        "\n",
        "xgboost = XGBClassifier()\n",
        "xgboost.fit(X_train, y_train)\n",
        "xgboost.score(X_train, y_train)\n",
        "predictions = xgboost.predict(X_test)"
      ]
    },
    {
      "cell_type": "code",
      "execution_count": null,
      "metadata": {
        "colab": {
          "base_uri": "https://localhost:8080/"
        },
        "id": "2jDYsugUXnFG",
        "outputId": "c0fae742-cf57-4ee7-9c9d-2e9f7657901d"
      },
      "outputs": [
        {
          "output_type": "stream",
          "name": "stdout",
          "text": [
            "[[135  33   5]\n",
            " [ 64  61  12]\n",
            " [ 24  11  55]]\n",
            "              precision    recall  f1-score   support\n",
            "\n",
            "           0       0.61      0.78      0.68       173\n",
            "           1       0.58      0.45      0.50       137\n",
            "           2       0.76      0.61      0.68        90\n",
            "\n",
            "    accuracy                           0.63       400\n",
            "   macro avg       0.65      0.61      0.62       400\n",
            "weighted avg       0.63      0.63      0.62       400\n",
            "\n",
            "Model evaluation\n",
            "Accuracy: 0.6275\n"
          ]
        }
      ],
      "source": [
        "print(confusion_matrix(y_test,predictions))  \n",
        "print(classification_report(y_test,predictions))  \n",
        "print(\"Model evaluation\")\n",
        "print(\"Accuracy:\", accuracy_score(y_test, predictions))"
      ]
    },
    {
      "cell_type": "markdown",
      "metadata": {
        "id": "CQ4y_douX-Y_"
      },
      "source": [
        "Bert with XGBoost with fine-tunning"
      ]
    },
    {
      "cell_type": "code",
      "execution_count": null,
      "metadata": {
        "colab": {
          "base_uri": "https://localhost:8080/"
        },
        "id": "1_WgWdCbYCnU",
        "outputId": "8286eb94-e8e3-4f15-9977-767c9204f97f"
      },
      "outputs": [
        {
          "output_type": "execute_result",
          "data": {
            "text/plain": [
              "{'base_score': 0.5,\n",
              " 'booster': 'gbtree',\n",
              " 'colsample_bylevel': 1,\n",
              " 'colsample_bynode': 1,\n",
              " 'colsample_bytree': 1,\n",
              " 'gamma': 0,\n",
              " 'learning_rate': 0.1,\n",
              " 'max_delta_step': 0,\n",
              " 'max_depth': 3,\n",
              " 'min_child_weight': 1,\n",
              " 'missing': None,\n",
              " 'n_estimators': 100,\n",
              " 'n_jobs': 1,\n",
              " 'nthread': None,\n",
              " 'objective': 'multi:softprob',\n",
              " 'random_state': 0,\n",
              " 'reg_alpha': 0,\n",
              " 'reg_lambda': 1,\n",
              " 'scale_pos_weight': 1,\n",
              " 'seed': None,\n",
              " 'silent': None,\n",
              " 'subsample': 1,\n",
              " 'verbosity': 1}"
            ]
          },
          "metadata": {},
          "execution_count": 72
        }
      ],
      "source": [
        "xgboost.get_params()"
      ]
    },
    {
      "cell_type": "code",
      "execution_count": null,
      "metadata": {
        "colab": {
          "base_uri": "https://localhost:8080/"
        },
        "id": "gAl1YY8hYCp4",
        "outputId": "3cb681fe-1614-40fc-fb54-58651e6a6b30"
      },
      "outputs": [
        {
          "output_type": "execute_result",
          "data": {
            "text/plain": [
              "OrderedDict([('learning_rate', 0.6),\n",
              "             ('min_child_weight', 0),\n",
              "             ('subsample', 0.9)])"
            ]
          },
          "metadata": {},
          "execution_count": 73
        }
      ],
      "source": [
        "parameters = {'learning_rate':[0.1,0.2,0.3,0.4,0.5,0.6,0.7,0.8,0.9,1], \n",
        "              'subsample':[0.6, 0.7, 0.8, 0.9, 1], \n",
        "              'min_child_weight' : [0,1,2,3,4,5,6,7,8,9,10]}\n",
        "xgboost_model = XGBClassifier()\n",
        "\n",
        "cv = BayesSearchCV(xgboost_model, parameters)\n",
        "cv.fit(X_train, y_train)\n",
        "best_params = cv.best_params_\n",
        "best_params"
      ]
    },
    {
      "cell_type": "code",
      "execution_count": null,
      "metadata": {
        "id": "5mgVRWsAYCxc"
      },
      "outputs": [],
      "source": [
        "xgboost= XGBClassifier(**best_params, class_weight='balanced', random_state = 42, \n",
        "                              max_iter=10000)\n",
        "\n",
        "xgboost.fit(X_train, y_train)\n",
        "predictions = xgboost.predict(X_test)"
      ]
    },
    {
      "cell_type": "code",
      "source": [
        "from sklearn.metrics import classification_report, confusion_matrix, accuracy_score,precision_score, recall_score, f1_score\n",
        " \n",
        "print(confusion_matrix(y_test,predictions))  \n",
        "print(classification_report(y_test,predictions))  \n",
        "print(\"Model evaluation\")\n",
        "print(\"Accuracy:\", accuracy_score(y_test, predictions))"
      ],
      "metadata": {
        "colab": {
          "base_uri": "https://localhost:8080/"
        },
        "id": "qPSqEYc29DN5",
        "outputId": "7532b168-ba76-4a11-8040-ae7db7f4feb1"
      },
      "execution_count": null,
      "outputs": [
        {
          "output_type": "stream",
          "name": "stdout",
          "text": [
            "[[135  31   7]\n",
            " [ 60  70   7]\n",
            " [ 22  12  56]]\n",
            "              precision    recall  f1-score   support\n",
            "\n",
            "           0       0.62      0.78      0.69       173\n",
            "           1       0.62      0.51      0.56       137\n",
            "           2       0.80      0.62      0.70        90\n",
            "\n",
            "    accuracy                           0.65       400\n",
            "   macro avg       0.68      0.64      0.65       400\n",
            "weighted avg       0.66      0.65      0.65       400\n",
            "\n",
            "Model evaluation\n",
            "Accuracy: 0.6525\n"
          ]
        }
      ]
    },
    {
      "cell_type": "markdown",
      "source": [
        "Bert with Naïve Bayes without fine-tunning"
      ],
      "metadata": {
        "id": "cYJ_D-Lk9T0o"
      }
    },
    {
      "cell_type": "code",
      "source": [
        "from sklearn.naive_bayes import GaussianNB\n",
        "text_classifier = GaussianNB()\n",
        "text_classifier.fit(X_train, y_train)\n",
        "text_classifier.score(X_train, y_train)\n",
        "predictions = text_classifier.predict(X_test)"
      ],
      "metadata": {
        "id": "g2xfmHrp9DQu"
      },
      "execution_count": null,
      "outputs": []
    },
    {
      "cell_type": "code",
      "source": [
        "print(confusion_matrix(y_test,predictions))  \n",
        "print(classification_report(y_test,predictions))  \n",
        "print(\"Model evaluation\")\n",
        "print(\"Accuracy:\", accuracy_score(y_test, predictions))"
      ],
      "metadata": {
        "colab": {
          "base_uri": "https://localhost:8080/"
        },
        "id": "jo1DJFD99DT6",
        "outputId": "5a51d0a9-398f-4f67-84a6-e4565de4c013"
      },
      "execution_count": null,
      "outputs": [
        {
          "output_type": "stream",
          "name": "stdout",
          "text": [
            "[[103  22  48]\n",
            " [ 52  48  37]\n",
            " [ 12  12  66]]\n",
            "              precision    recall  f1-score   support\n",
            "\n",
            "           0       0.62      0.60      0.61       173\n",
            "           1       0.59      0.35      0.44       137\n",
            "           2       0.44      0.73      0.55        90\n",
            "\n",
            "    accuracy                           0.54       400\n",
            "   macro avg       0.55      0.56      0.53       400\n",
            "weighted avg       0.57      0.54      0.54       400\n",
            "\n",
            "Model evaluation\n",
            "Accuracy: 0.5425\n"
          ]
        }
      ]
    },
    {
      "cell_type": "markdown",
      "source": [
        "Bert with Naïve Bayes with fine-tunning"
      ],
      "metadata": {
        "id": "87NHXJZAAJ8B"
      }
    },
    {
      "cell_type": "code",
      "source": [
        "text_classifier.get_params()"
      ],
      "metadata": {
        "colab": {
          "base_uri": "https://localhost:8080/"
        },
        "id": "m3bhpqD19DXR",
        "outputId": "e0248f28-b62c-4f6e-a4cd-4f93266ba626"
      },
      "execution_count": null,
      "outputs": [
        {
          "output_type": "execute_result",
          "data": {
            "text/plain": [
              "{'priors': None, 'var_smoothing': 1e-09}"
            ]
          },
          "metadata": {},
          "execution_count": 78
        }
      ]
    },
    {
      "cell_type": "code",
      "source": [
        "parameters = {'var_smoothing': np.logspace(0,-9, num=100)}\n",
        "text_classifier = GaussianNB()\n",
        "\n",
        "cv = BayesSearchCV(text_classifier, parameters)\n",
        "cv.fit(X_train, y_train)\n",
        "best_params = cv.best_params_\n",
        "best_params"
      ],
      "metadata": {
        "colab": {
          "base_uri": "https://localhost:8080/"
        },
        "id": "Xanj-bL1RkU0",
        "outputId": "04dd62dd-926e-4f7c-d8a6-07b1673cc270"
      },
      "execution_count": null,
      "outputs": [
        {
          "output_type": "execute_result",
          "data": {
            "text/plain": [
              "OrderedDict([('var_smoothing', 6.579332246575682e-08)])"
            ]
          },
          "metadata": {},
          "execution_count": 79
        }
      ]
    },
    {
      "cell_type": "code",
      "source": [
        " text_classifier = GaussianNB(**best_params)\n",
        "\n",
        "text_classifier.fit(X_train, y_train)\n",
        "predictions = text_classifier.predict(X_test)"
      ],
      "metadata": {
        "id": "3ZGakCeuRkYQ"
      },
      "execution_count": null,
      "outputs": []
    },
    {
      "cell_type": "code",
      "source": [
        "print(confusion_matrix(y_test,predictions))  \n",
        "print(classification_report(y_test,predictions))  \n",
        "print(\"Model evaluation\")\n",
        "print(\"Accuracy:\", accuracy_score(y_test, predictions))"
      ],
      "metadata": {
        "colab": {
          "base_uri": "https://localhost:8080/"
        },
        "id": "zrufNlA_RkcR",
        "outputId": "52fce600-86b8-4ae5-954e-960d7740253d"
      },
      "execution_count": null,
      "outputs": [
        {
          "output_type": "stream",
          "name": "stdout",
          "text": [
            "[[103  22  48]\n",
            " [ 52  48  37]\n",
            " [ 12  12  66]]\n",
            "              precision    recall  f1-score   support\n",
            "\n",
            "           0       0.62      0.60      0.61       173\n",
            "           1       0.59      0.35      0.44       137\n",
            "           2       0.44      0.73      0.55        90\n",
            "\n",
            "    accuracy                           0.54       400\n",
            "   macro avg       0.55      0.56      0.53       400\n",
            "weighted avg       0.57      0.54      0.54       400\n",
            "\n",
            "Model evaluation\n",
            "Accuracy: 0.5425\n"
          ]
        }
      ]
    },
    {
      "cell_type": "code",
      "source": [],
      "metadata": {
        "id": "2WR8z7ZkRkf_"
      },
      "execution_count": null,
      "outputs": []
    },
    {
      "cell_type": "markdown",
      "metadata": {
        "id": "FL3Z0BVCaibY"
      },
      "source": [
        "**RoBerta**"
      ]
    },
    {
      "cell_type": "code",
      "execution_count": null,
      "metadata": {
        "id": "xQrbHAPD3XpF",
        "colab": {
          "base_uri": "https://localhost:8080/",
          "height": 216,
          "referenced_widgets": [
            "9639862c3485403ca44a2383f1d346a2",
            "d3ece52496614d6e99c629de4a07d36e",
            "dbaeb3a14e1b448693fa4fc27668902c",
            "60a7d47fb3c44790a735a1b5aad3679e",
            "3e04cbaeb02944c1b7d446e546cdc578",
            "086b1273aa1447188d183d96b0dbae07",
            "029d86797cd24d80aa648be333f9b828",
            "2c334b8c3d994d4e8162c9cf7a3a3d01",
            "a695002c84a741a1a51d4c25b76568a2",
            "a85f276d84004a5fb7e3e1b8a2615082",
            "3b73279eb1e842dca8872e2168483e10",
            "11e26662a562405daebf763c4fdd46f4",
            "36399fe2c9514caf9e42966b1ab2e31e",
            "515b568d1bea439fb95f43db1f3ec05f",
            "a9b41ed6bb7147469b519ee07ba83cfb",
            "2b0acf3c0fc24b5bb8b752abe16059a0",
            "85f605826fae4406b6d27a948bae37cb",
            "3dbc902835d444baa43e7963d575303b",
            "9e0a19fd78944be19f336a6359042bea",
            "5a5d8593318547c08f56d92a2d39e4d5",
            "c231b0f16736465fa5e1175b8736bfa8",
            "4865940a95394144a1cd8340abced08d",
            "8ea51b93e63d400bae72095ccbb2ddbb",
            "e216e8f291cb40dd94e1ccf34c150083",
            "a055068d5be94a9db89cab63080b183f",
            "bea3c7146fa84be6a7073210f8c08cdd",
            "9ba3772f56e34a5ab982f3a8739510bf",
            "3bc372c4cc3246709383e144d0fd4257",
            "8a765083de3d4d29912395cda8bd87d2",
            "94420fe22022488a96fbbaff9ca91598",
            "20609405adac4208bbdcd7d0efd8ae12",
            "6192f0744023493580ef8f6f04a39495",
            "3ebc280ab93143be9f559cbcd813143a",
            "732ea037dc3744d2b037f7de170b9463",
            "bf2a3f3f03674d308d42e6b85ea310ef",
            "a8a09efef9264c7db72c4a2ea534c5ff",
            "6c680d37bc1d4a488e539fd89b145a34",
            "5308b14bbe04430d87a4bd30bab1cfdc",
            "fe98908223e04b14904440440aa26cf1",
            "3ad6d04565484333a25410dcf528c8cf",
            "15e00bc4a80f43bdaf8ee5454791e102",
            "e198bd619c894a2d8cf60e954f058a83",
            "c99c40a6e74f471e9b6441005e08294a",
            "cae40a392d3a4527b8a358c8b1309351"
          ]
        },
        "outputId": "e7e4e93a-faf4-4f42-ee3f-b39da82f7231"
      },
      "outputs": [
        {
          "output_type": "display_data",
          "data": {
            "text/plain": [
              "Downloading:   0%|          | 0.00/899k [00:00<?, ?B/s]"
            ],
            "application/vnd.jupyter.widget-view+json": {
              "version_major": 2,
              "version_minor": 0,
              "model_id": "9639862c3485403ca44a2383f1d346a2"
            }
          },
          "metadata": {}
        },
        {
          "output_type": "display_data",
          "data": {
            "text/plain": [
              "Downloading:   0%|          | 0.00/456k [00:00<?, ?B/s]"
            ],
            "application/vnd.jupyter.widget-view+json": {
              "version_major": 2,
              "version_minor": 0,
              "model_id": "11e26662a562405daebf763c4fdd46f4"
            }
          },
          "metadata": {}
        },
        {
          "output_type": "display_data",
          "data": {
            "text/plain": [
              "Downloading:   0%|          | 0.00/481 [00:00<?, ?B/s]"
            ],
            "application/vnd.jupyter.widget-view+json": {
              "version_major": 2,
              "version_minor": 0,
              "model_id": "8ea51b93e63d400bae72095ccbb2ddbb"
            }
          },
          "metadata": {}
        },
        {
          "output_type": "display_data",
          "data": {
            "text/plain": [
              "Downloading:   0%|          | 0.00/501M [00:00<?, ?B/s]"
            ],
            "application/vnd.jupyter.widget-view+json": {
              "version_major": 2,
              "version_minor": 0,
              "model_id": "732ea037dc3744d2b037f7de170b9463"
            }
          },
          "metadata": {}
        },
        {
          "output_type": "stream",
          "name": "stderr",
          "text": [
            "Some weights of the model checkpoint at roberta-base were not used when initializing RobertaModel: ['lm_head.dense.weight', 'lm_head.decoder.weight', 'lm_head.bias', 'lm_head.layer_norm.weight', 'lm_head.dense.bias', 'lm_head.layer_norm.bias']\n",
            "- This IS expected if you are initializing RobertaModel from the checkpoint of a model trained on another task or with another architecture (e.g. initializing a BertForSequenceClassification model from a BertForPreTraining model).\n",
            "- This IS NOT expected if you are initializing RobertaModel from the checkpoint of a model that you expect to be exactly identical (initializing a BertForSequenceClassification model from a BertForSequenceClassification model).\n"
          ]
        }
      ],
      "source": [
        "from transformers import RobertaTokenizer, RobertaModel\n",
        "tokenizer = RobertaTokenizer.from_pretrained('roberta-base')\n",
        "model = RobertaModel.from_pretrained('roberta-base')"
      ]
    },
    {
      "cell_type": "code",
      "execution_count": null,
      "metadata": {
        "id": "jwvZ-9Ki3Xro"
      },
      "outputs": [],
      "source": [
        "tokenized = batch_1[\"tweet_simple_clean\"].apply((lambda x: tokenizer.encode(x, add_special_tokens=True)))"
      ]
    },
    {
      "cell_type": "code",
      "execution_count": null,
      "metadata": {
        "id": "RsoSuJYR3Xul"
      },
      "outputs": [],
      "source": [
        "max_len = 0\n",
        "for i in tokenized.values:\n",
        "    if len(i) > max_len:\n",
        "        max_len = len(i)\n",
        "\n",
        "padded = np.array([i + [0]*(max_len-len(i)) for i in tokenized.values])\n"
      ]
    },
    {
      "cell_type": "code",
      "execution_count": null,
      "metadata": {
        "id": "Kn4p-a2E3xER",
        "colab": {
          "base_uri": "https://localhost:8080/"
        },
        "outputId": "6deb80d4-0268-4e56-cd25-bfd06f9e2a38"
      },
      "outputs": [
        {
          "output_type": "execute_result",
          "data": {
            "text/plain": [
              "(2000, 141)"
            ]
          },
          "metadata": {},
          "execution_count": 85
        }
      ],
      "source": [
        "attention_mask = np.where(padded != 0, 1, 0)\n",
        "attention_mask.shape"
      ]
    },
    {
      "cell_type": "code",
      "execution_count": null,
      "metadata": {
        "id": "IJd-6Co93Xw3"
      },
      "outputs": [],
      "source": [
        "input_ids = torch.tensor(padded)  \n",
        "attention_mask = torch.tensor(attention_mask)\n",
        "\n",
        "with torch.no_grad():\n",
        "    last_hidden_states = model(input_ids, attention_mask=attention_mask)"
      ]
    },
    {
      "cell_type": "code",
      "execution_count": null,
      "metadata": {
        "id": "5EJ3NQSW3Xzc"
      },
      "outputs": [],
      "source": [
        "features = last_hidden_states[0][:,0,:].numpy()"
      ]
    },
    {
      "cell_type": "code",
      "execution_count": null,
      "metadata": {
        "id": "UqRYYq5j3X2e"
      },
      "outputs": [],
      "source": [
        "labels = batch_1['Label']"
      ]
    },
    {
      "cell_type": "code",
      "execution_count": null,
      "metadata": {
        "id": "aTdTXLFY3X5e"
      },
      "outputs": [],
      "source": [
        "X_train, X_test, y_train, y_test = train_test_split(features, labels, \n",
        "                                                    test_size=0.2,\n",
        "                                                   random_state=100,\n",
        "                                                    stratify=labels)"
      ]
    },
    {
      "cell_type": "markdown",
      "source": [
        "Robert with logistic regression without fine-tunning."
      ],
      "metadata": {
        "id": "GrS5d3eJV1D_"
      }
    },
    {
      "cell_type": "code",
      "source": [
        "lr_clf = LogisticRegression()\n",
        "lr_clf.fit(X_train, y_train)\n",
        "lr_clf.score(X_train, y_train)\n",
        "predictions = lr_clf.predict(X_test)"
      ],
      "metadata": {
        "id": "0_nsw1X9Szl5"
      },
      "execution_count": null,
      "outputs": []
    },
    {
      "cell_type": "code",
      "source": [
        "print(confusion_matrix(y_test,predictions))  \n",
        "print(classification_report(y_test,predictions))  \n",
        "print(\"Model evaluation\")\n",
        "print(\"Accuracy:\", accuracy_score(y_test, predictions))"
      ],
      "metadata": {
        "id": "QNsZle4GSzpz",
        "colab": {
          "base_uri": "https://localhost:8080/"
        },
        "outputId": "740b2546-4dfe-46cf-d084-db5dd8c61e08"
      },
      "execution_count": null,
      "outputs": [
        {
          "output_type": "stream",
          "name": "stdout",
          "text": [
            "[[126  33  14]\n",
            " [ 69  59   9]\n",
            " [ 27   9  54]]\n",
            "              precision    recall  f1-score   support\n",
            "\n",
            "           0       0.57      0.73      0.64       173\n",
            "           1       0.58      0.43      0.50       137\n",
            "           2       0.70      0.60      0.65        90\n",
            "\n",
            "    accuracy                           0.60       400\n",
            "   macro avg       0.62      0.59      0.59       400\n",
            "weighted avg       0.60      0.60      0.59       400\n",
            "\n",
            "Model evaluation\n",
            "Accuracy: 0.5975\n"
          ]
        }
      ]
    },
    {
      "cell_type": "markdown",
      "source": [
        "Robert with logistic regression with fine-tunning."
      ],
      "metadata": {
        "id": "-_J3FmVjV7nf"
      }
    },
    {
      "cell_type": "code",
      "source": [
        "parameters = {'C':[0.1,0.2,0.3,0.4,0.5,0.6,0.7,0.8,0.9,1]}\n",
        "log_reg_model = LogisticRegression()\n",
        "\n",
        "cv = BayesSearchCV(log_reg_model, parameters)\n",
        "cv.fit(X_train, y_train)\n",
        "best_params = cv.best_params_\n",
        "best_params"
      ],
      "metadata": {
        "colab": {
          "base_uri": "https://localhost:8080/"
        },
        "id": "xcFIWsBJWEIi",
        "outputId": "9d480b56-8a86-4823-ea75-4ef2af44d521"
      },
      "execution_count": null,
      "outputs": [
        {
          "output_type": "execute_result",
          "data": {
            "text/plain": [
              "OrderedDict([('C', 1.0)])"
            ]
          },
          "metadata": {},
          "execution_count": 92
        }
      ]
    },
    {
      "cell_type": "code",
      "source": [
        "logistic = LogisticRegression(**best_params, class_weight='balanced', random_state = 42, \n",
        "                              max_iter=10000)\n",
        "\n",
        "logistic.fit(X_train, y_train)\n",
        "predictions = logistic.predict(X_test)"
      ],
      "metadata": {
        "id": "rJkIAANKWEK4"
      },
      "execution_count": null,
      "outputs": []
    },
    {
      "cell_type": "code",
      "source": [
        "print(confusion_matrix(y_test,predictions))  \n",
        "print(classification_report(y_test,predictions))  \n",
        "print(\"Model evaluation\")\n",
        "print(\"Accuracy:\", accuracy_score(y_test, predictions))"
      ],
      "metadata": {
        "colab": {
          "base_uri": "https://localhost:8080/"
        },
        "id": "R1E7tbK_WENw",
        "outputId": "55f7f7d4-e024-4101-f32a-95f2302b721e"
      },
      "execution_count": null,
      "outputs": [
        {
          "output_type": "stream",
          "name": "stdout",
          "text": [
            "[[109  38  26]\n",
            " [ 52  65  20]\n",
            " [ 16   9  65]]\n",
            "              precision    recall  f1-score   support\n",
            "\n",
            "           0       0.62      0.63      0.62       173\n",
            "           1       0.58      0.47      0.52       137\n",
            "           2       0.59      0.72      0.65        90\n",
            "\n",
            "    accuracy                           0.60       400\n",
            "   macro avg       0.59      0.61      0.60       400\n",
            "weighted avg       0.60      0.60      0.59       400\n",
            "\n",
            "Model evaluation\n",
            "Accuracy: 0.5975\n"
          ]
        }
      ]
    },
    {
      "cell_type": "markdown",
      "source": [
        "Robert with XGBoost without fine-tuning. "
      ],
      "metadata": {
        "id": "bG_AEiN-Wo1L"
      }
    },
    {
      "cell_type": "code",
      "source": [
        "xgboost = XGBClassifier()\n",
        "xgboost.fit(X_train, y_train)\n",
        "xgboost.score(X_train, y_train)\n",
        "predictions = xgboost.predict(X_test)"
      ],
      "metadata": {
        "id": "2jIUkEl1WEQ8"
      },
      "execution_count": null,
      "outputs": []
    },
    {
      "cell_type": "code",
      "source": [
        "print(confusion_matrix(y_test,predictions))  \n",
        "print(classification_report(y_test,predictions))  \n",
        "print(\"Model evaluation\")\n",
        "print(\"Accuracy:\", accuracy_score(y_test, predictions))"
      ],
      "metadata": {
        "colab": {
          "base_uri": "https://localhost:8080/"
        },
        "id": "fEig1COpWEUB",
        "outputId": "c00c5a52-a061-4ef7-a41a-b435b822d664"
      },
      "execution_count": null,
      "outputs": [
        {
          "output_type": "stream",
          "name": "stdout",
          "text": [
            "[[128  33  12]\n",
            " [ 72  53  12]\n",
            " [ 27  13  50]]\n",
            "              precision    recall  f1-score   support\n",
            "\n",
            "           0       0.56      0.74      0.64       173\n",
            "           1       0.54      0.39      0.45       137\n",
            "           2       0.68      0.56      0.61        90\n",
            "\n",
            "    accuracy                           0.58       400\n",
            "   macro avg       0.59      0.56      0.57       400\n",
            "weighted avg       0.58      0.58      0.57       400\n",
            "\n",
            "Model evaluation\n",
            "Accuracy: 0.5775\n"
          ]
        }
      ]
    },
    {
      "cell_type": "markdown",
      "source": [
        "Robert with XGBoost with fine-tuning."
      ],
      "metadata": {
        "id": "AyVvH1dYXI4M"
      }
    },
    {
      "cell_type": "code",
      "source": [
        "parameters = {'learning_rate':[0.1,0.2,0.3,0.4,0.5,0.6,0.7,0.8,0.9,1], \n",
        "              'subsample':[0.6, 0.7, 0.8, 0.9, 1], \n",
        "              'min_child_weight' : [0,1,2,3,4,5,6,7,8,9,10]}\n",
        "xgboost_model = XGBClassifier()\n",
        "\n",
        "cv = BayesSearchCV(xgboost_model, parameters)\n",
        "cv.fit(X_train, y_train)\n",
        "best_params = cv.best_params_\n",
        "best_params"
      ],
      "metadata": {
        "colab": {
          "base_uri": "https://localhost:8080/"
        },
        "id": "IK9h1V2UWEZD",
        "outputId": "0600266a-4c87-4cce-db28-2b7a1a351f90"
      },
      "execution_count": null,
      "outputs": [
        {
          "output_type": "execute_result",
          "data": {
            "text/plain": [
              "OrderedDict([('learning_rate', 0.9),\n",
              "             ('min_child_weight', 10),\n",
              "             ('subsample', 1.0)])"
            ]
          },
          "metadata": {},
          "execution_count": 97
        }
      ]
    },
    {
      "cell_type": "code",
      "source": [
        "xgboost= XGBClassifier(**best_params, class_weight='balanced', random_state = 42, \n",
        "                              max_iter=10000)\n",
        "\n",
        "xgboost.fit(X_train, y_train)\n",
        "predictions = xgboost.predict(X_test)"
      ],
      "metadata": {
        "id": "xax1y1nNWEbG"
      },
      "execution_count": null,
      "outputs": []
    },
    {
      "cell_type": "code",
      "source": [
        "print(confusion_matrix(y_test,predictions))  \n",
        "print(classification_report(y_test,predictions))  \n",
        "print(\"Model evaluation\")\n",
        "print(\"Accuracy:\", accuracy_score(y_test, predictions))"
      ],
      "metadata": {
        "colab": {
          "base_uri": "https://localhost:8080/"
        },
        "id": "TpTWsUBJWEeg",
        "outputId": "fcf416ad-c655-4468-b241-88e30ab8ba9c"
      },
      "execution_count": null,
      "outputs": [
        {
          "output_type": "stream",
          "name": "stdout",
          "text": [
            "[[116  40  17]\n",
            " [ 62  62  13]\n",
            " [ 24  13  53]]\n",
            "              precision    recall  f1-score   support\n",
            "\n",
            "           0       0.57      0.67      0.62       173\n",
            "           1       0.54      0.45      0.49       137\n",
            "           2       0.64      0.59      0.61        90\n",
            "\n",
            "    accuracy                           0.58       400\n",
            "   macro avg       0.58      0.57      0.57       400\n",
            "weighted avg       0.58      0.58      0.57       400\n",
            "\n",
            "Model evaluation\n",
            "Accuracy: 0.5775\n"
          ]
        }
      ]
    },
    {
      "cell_type": "markdown",
      "source": [
        "Roberta with Naive Bayes without fine-tuning. \n"
      ],
      "metadata": {
        "id": "5V3tzonwXdvE"
      }
    },
    {
      "cell_type": "code",
      "source": [
        "text_classifier = GaussianNB()\n",
        "text_classifier.fit(X_train, y_train)\n",
        "text_classifier.score(X_train, y_train)\n",
        "predictions = text_classifier.predict(X_test)"
      ],
      "metadata": {
        "id": "1GSuC2fyZImo"
      },
      "execution_count": null,
      "outputs": []
    },
    {
      "cell_type": "code",
      "source": [
        "print(confusion_matrix(y_test,predictions))  \n",
        "print(classification_report(y_test,predictions))  \n",
        "print(\"Model evaluation\")\n",
        "print(\"Accuracy:\", accuracy_score(y_test, predictions))"
      ],
      "metadata": {
        "colab": {
          "base_uri": "https://localhost:8080/"
        },
        "id": "Y1Jo2l7jZIqA",
        "outputId": "833e43e0-3e45-4c8c-95bc-6b9dc6b28952"
      },
      "execution_count": null,
      "outputs": [
        {
          "output_type": "stream",
          "name": "stdout",
          "text": [
            "[[  4 143  26]\n",
            " [  3 123  11]\n",
            " [  2  60  28]]\n",
            "              precision    recall  f1-score   support\n",
            "\n",
            "           0       0.44      0.02      0.04       173\n",
            "           1       0.38      0.90      0.53       137\n",
            "           2       0.43      0.31      0.36        90\n",
            "\n",
            "    accuracy                           0.39       400\n",
            "   macro avg       0.42      0.41      0.31       400\n",
            "weighted avg       0.42      0.39      0.28       400\n",
            "\n",
            "Model evaluation\n",
            "Accuracy: 0.3875\n"
          ]
        }
      ]
    },
    {
      "cell_type": "markdown",
      "source": [
        "Roberta with Naive Bayes with fine-tuning."
      ],
      "metadata": {
        "id": "GHNT07OaZRPg"
      }
    },
    {
      "cell_type": "code",
      "source": [
        "parameters = {'var_smoothing': np.logspace(0,-9, num=100)}\n",
        "text_classifier = GaussianNB()\n",
        "\n",
        "cv = BayesSearchCV(text_classifier, parameters)\n",
        "cv.fit(X_train, y_train)\n",
        "best_params = cv.best_params_\n",
        "best_params"
      ],
      "metadata": {
        "colab": {
          "base_uri": "https://localhost:8080/"
        },
        "id": "96DNMCkKZIvP",
        "outputId": "05f66e62-e649-46ac-92f2-6419605837f9"
      },
      "execution_count": null,
      "outputs": [
        {
          "output_type": "execute_result",
          "data": {
            "text/plain": [
              "OrderedDict([('var_smoothing', 0.657933224657568)])"
            ]
          },
          "metadata": {},
          "execution_count": 102
        }
      ]
    },
    {
      "cell_type": "code",
      "source": [
        "text_classifier = GaussianNB(**best_params)\n",
        "\n",
        "text_classifier.fit(X_train, y_train)\n",
        "predictions = text_classifier.predict(X_test)"
      ],
      "metadata": {
        "id": "vCDAAnm8ZIxV"
      },
      "execution_count": null,
      "outputs": []
    },
    {
      "cell_type": "code",
      "source": [
        "print(confusion_matrix(y_test,predictions))  \n",
        "print(classification_report(y_test,predictions))  \n",
        "print(\"Model evaluation\")\n",
        "print(\"Accuracy:\", accuracy_score(y_test, predictions))"
      ],
      "metadata": {
        "colab": {
          "base_uri": "https://localhost:8080/"
        },
        "id": "NsxwZYNfZIzs",
        "outputId": "a4358ea0-1fa8-472a-98ae-a1a11cce99e6"
      },
      "execution_count": null,
      "outputs": [
        {
          "output_type": "stream",
          "name": "stdout",
          "text": [
            "[[103  62   8]\n",
            " [ 84  52   1]\n",
            " [ 65  20   5]]\n",
            "              precision    recall  f1-score   support\n",
            "\n",
            "           0       0.41      0.60      0.48       173\n",
            "           1       0.39      0.38      0.38       137\n",
            "           2       0.36      0.06      0.10        90\n",
            "\n",
            "    accuracy                           0.40       400\n",
            "   macro avg       0.38      0.34      0.32       400\n",
            "weighted avg       0.39      0.40      0.36       400\n",
            "\n",
            "Model evaluation\n",
            "Accuracy: 0.4\n"
          ]
        }
      ]
    },
    {
      "cell_type": "markdown",
      "metadata": {
        "id": "7yxJMZnRIBKZ"
      },
      "source": [
        "Alberta\n"
      ]
    },
    {
      "cell_type": "code",
      "execution_count": null,
      "metadata": {
        "id": "J_ozzGihIDZI",
        "colab": {
          "base_uri": "https://localhost:8080/",
          "height": 184,
          "referenced_widgets": [
            "c7a78961186541fe82554e91c6112819",
            "9652e0728d6b4c07a386fd2bb1c49a29",
            "d252a4eead624e23a99f8f9c16cca8ae",
            "33d8c017a11f4332b33c075c3e0b7299",
            "690e8141d9a64e8ebe806d170a29beea",
            "993ebe9bb3eb4deeb4326f92436c90b2",
            "163fdd597ced4fc683e3a43d490b4462",
            "d379d03ba2964c8db38ae050927d94f8",
            "2901e174cb61433e81abf667cd902282",
            "98bf578220d74257a763a0916b95343b",
            "3e644fc4900644bf8422eed076dbd686",
            "1a6b92f45eba4207920070f106429920",
            "88f4ef6b24a241a7843e7252ebf5306e",
            "cb7c8e26e37541f581cd158ed6a647a1",
            "c2b5e9fbc04d405496660500703b6eac",
            "5baa42e3a5bb4674a00db87e9566a8b6",
            "dfe4f0e1885e4aa19a2024c9f3b5852f",
            "59fc485ac2694204aac0d362b1175dcc",
            "c38ad2eac6a14ca98072a3db6c66dd6c",
            "a21729a05d4b4494881d98f47e72252d",
            "7610067b548d4ba6b22c740559805474",
            "54101b5e8d9245448ea59d26cbb10147",
            "7c6274ec4a414a2ca15b538950c67414",
            "8cdf670d13734c1399582fd64d53c58e",
            "3ba2ee3beaf64cb59bd43af628cf3703",
            "f46c850a11064b619c2178cf1135b1c3",
            "c2952be6b92f49c7a3b2b5ac5496634d",
            "712be948455d4e54925b1b9d23957f21",
            "40371fa3183543c6a905480e0e1e3b07",
            "1027320f9f254e099dbeb90a64a1e49e",
            "fd0bc9f5acba4c6bb0f4287a02264e89",
            "d697cf99a159490c90566e20fac781f6",
            "5120dcf4032e4365899ec58e97b1ad27"
          ]
        },
        "outputId": "ceab73b6-6969-40f3-dedb-a9abbfb3841f"
      },
      "outputs": [
        {
          "output_type": "display_data",
          "data": {
            "text/plain": [
              "Downloading:   0%|          | 0.00/760k [00:00<?, ?B/s]"
            ],
            "application/vnd.jupyter.widget-view+json": {
              "version_major": 2,
              "version_minor": 0,
              "model_id": "c7a78961186541fe82554e91c6112819"
            }
          },
          "metadata": {}
        },
        {
          "output_type": "display_data",
          "data": {
            "text/plain": [
              "Downloading:   0%|          | 0.00/684 [00:00<?, ?B/s]"
            ],
            "application/vnd.jupyter.widget-view+json": {
              "version_major": 2,
              "version_minor": 0,
              "model_id": "1a6b92f45eba4207920070f106429920"
            }
          },
          "metadata": {}
        },
        {
          "output_type": "display_data",
          "data": {
            "text/plain": [
              "Downloading:   0%|          | 0.00/47.4M [00:00<?, ?B/s]"
            ],
            "application/vnd.jupyter.widget-view+json": {
              "version_major": 2,
              "version_minor": 0,
              "model_id": "7c6274ec4a414a2ca15b538950c67414"
            }
          },
          "metadata": {}
        },
        {
          "output_type": "stream",
          "name": "stderr",
          "text": [
            "Some weights of the model checkpoint at albert-base-v1 were not used when initializing AlbertModel: ['predictions.decoder.bias', 'predictions.LayerNorm.weight', 'predictions.dense.weight', 'predictions.dense.bias', 'predictions.decoder.weight', 'predictions.bias', 'predictions.LayerNorm.bias']\n",
            "- This IS expected if you are initializing AlbertModel from the checkpoint of a model trained on another task or with another architecture (e.g. initializing a BertForSequenceClassification model from a BertForPreTraining model).\n",
            "- This IS NOT expected if you are initializing AlbertModel from the checkpoint of a model that you expect to be exactly identical (initializing a BertForSequenceClassification model from a BertForSequenceClassification model).\n"
          ]
        }
      ],
      "source": [
        "from transformers import AlbertTokenizer, AlbertModel\n",
        "tokenizer = AlbertTokenizer.from_pretrained('albert-base-v1')\n",
        "model = AlbertModel.from_pretrained(\"albert-base-v1\")"
      ]
    },
    {
      "cell_type": "code",
      "execution_count": null,
      "metadata": {
        "id": "aieCS2fAIDb9"
      },
      "outputs": [],
      "source": [
        "tokenized = batch_1[\"tweet_simple_clean\"].apply((lambda x: tokenizer.encode(x, add_special_tokens=True)))"
      ]
    },
    {
      "cell_type": "code",
      "execution_count": null,
      "metadata": {
        "id": "93UXPLiKIDeU"
      },
      "outputs": [],
      "source": [
        "max_len = 0\n",
        "for i in tokenized.values:\n",
        "    if len(i) > max_len:\n",
        "        max_len = len(i)\n",
        "\n",
        "padded = np.array([i + [0]*(max_len-len(i)) for i in tokenized.values])\n"
      ]
    },
    {
      "cell_type": "code",
      "execution_count": null,
      "metadata": {
        "id": "gwYs8cLFIDhd",
        "colab": {
          "base_uri": "https://localhost:8080/"
        },
        "outputId": "0abfd84b-959a-4e42-f5f3-45cda4c5e255"
      },
      "outputs": [
        {
          "output_type": "execute_result",
          "data": {
            "text/plain": [
              "(2000, 167)"
            ]
          },
          "metadata": {},
          "execution_count": 108
        }
      ],
      "source": [
        "attention_mask = np.where(padded != 0, 1, 0)\n",
        "attention_mask.shape"
      ]
    },
    {
      "cell_type": "code",
      "execution_count": null,
      "metadata": {
        "id": "VHHYLJ2SIDlM"
      },
      "outputs": [],
      "source": [
        "input_ids = torch.tensor(padded)  \n",
        "attention_mask = torch.tensor(attention_mask)\n",
        "\n",
        "with torch.no_grad():\n",
        "    last_hidden_states = model(input_ids, attention_mask=attention_mask)"
      ]
    },
    {
      "cell_type": "code",
      "execution_count": null,
      "metadata": {
        "id": "5goCCwKTIDo8"
      },
      "outputs": [],
      "source": [
        "features = last_hidden_states[0][:,0,:].numpy()"
      ]
    },
    {
      "cell_type": "code",
      "execution_count": null,
      "metadata": {
        "id": "AMiIsV2bIDq9"
      },
      "outputs": [],
      "source": [
        "labels = batch_1['Label']"
      ]
    },
    {
      "cell_type": "code",
      "execution_count": null,
      "metadata": {
        "id": "GYBZvKCyIDtA"
      },
      "outputs": [],
      "source": [
        "X_train, X_test, y_train, y_test = train_test_split(features, labels, \n",
        "                                                    test_size=0.2,\n",
        "                                                   random_state=100,\n",
        "                                                    stratify=labels)"
      ]
    },
    {
      "cell_type": "markdown",
      "source": [
        "Albert with logistic regression without fine-tuning. \n",
        "\n"
      ],
      "metadata": {
        "id": "rqpwoxB9aDbK"
      }
    },
    {
      "cell_type": "code",
      "source": [
        "lr_clf = LogisticRegression()\n",
        "lr_clf.fit(X_train, y_train)\n",
        "lr_clf.score(X_train, y_train)\n",
        "predictions = lr_clf.predict(X_test)"
      ],
      "metadata": {
        "id": "mpW11N-TaLAU"
      },
      "execution_count": null,
      "outputs": []
    },
    {
      "cell_type": "code",
      "source": [
        "print(confusion_matrix(y_test,predictions))  \n",
        "print(classification_report(y_test,predictions))  \n",
        "print(\"Model evaluation\")\n",
        "print(\"Accuracy:\", accuracy_score(y_test, predictions))"
      ],
      "metadata": {
        "id": "Z8Yfa3ydaLEK"
      },
      "execution_count": null,
      "outputs": []
    },
    {
      "cell_type": "markdown",
      "source": [
        "Albert with logistic regression with fine-tuning. \n"
      ],
      "metadata": {
        "id": "lZC5NS_aaOlP"
      }
    },
    {
      "cell_type": "code",
      "source": [
        "parameters = {'C':[0.1,0.2,0.3,0.4,0.5,0.6,0.7,0.8,0.9,1]}\n",
        "log_reg_model = LogisticRegression()\n",
        "\n",
        "cv = BayesSearchCV(log_reg_model, parameters)\n",
        "cv.fit(X_train, y_train)\n",
        "best_params = cv.best_params_\n",
        "best_params"
      ],
      "metadata": {
        "id": "Wv2_IVtlaLGH"
      },
      "execution_count": null,
      "outputs": []
    },
    {
      "cell_type": "code",
      "source": [
        "logistic = LogisticRegression(**best_params, class_weight='balanced', random_state = 42, \n",
        "                              max_iter=10000)\n",
        "\n",
        "logistic.fit(X_train, y_train)\n",
        "predictions = logistic.predict(X_test)"
      ],
      "metadata": {
        "id": "6LhtFY4faLH7"
      },
      "execution_count": null,
      "outputs": []
    },
    {
      "cell_type": "code",
      "source": [
        "print(confusion_matrix(y_test,predictions))  \n",
        "print(classification_report(y_test,predictions))  \n",
        "print(\"Model evaluation\")\n",
        "print(\"Accuracy:\", accuracy_score(y_test, predictions))"
      ],
      "metadata": {
        "id": "CKWLxalCaLKc"
      },
      "execution_count": null,
      "outputs": []
    },
    {
      "cell_type": "markdown",
      "source": [
        "Albert with XGBoost without fine-tuning."
      ],
      "metadata": {
        "id": "NVEo8mJradx3"
      }
    },
    {
      "cell_type": "code",
      "source": [
        "xgboost = XGBClassifier()\n",
        "xgboost.fit(X_train, y_train)\n",
        "xgboost.score(X_train, y_train)\n",
        "predictions = xgboost.predict(X_test)"
      ],
      "metadata": {
        "id": "KG4XB7lWaLM0"
      },
      "execution_count": null,
      "outputs": []
    },
    {
      "cell_type": "code",
      "source": [
        "print(confusion_matrix(y_test,predictions))  \n",
        "print(classification_report(y_test,predictions))  \n",
        "print(\"Model evaluation\")\n",
        "print(\"Accuracy:\", accuracy_score(y_test, predictions))"
      ],
      "metadata": {
        "id": "B-NnylhmaLQk"
      },
      "execution_count": null,
      "outputs": []
    },
    {
      "cell_type": "markdown",
      "source": [
        "Albert with XGBoost with fine-tuning."
      ],
      "metadata": {
        "id": "Ritnd5GaajuC"
      }
    },
    {
      "cell_type": "code",
      "source": [
        "parameters = {'learning_rate':[0.1,0.2,0.3,0.4,0.5,0.6,0.7,0.8,0.9,1], \n",
        "              'subsample':[0.6, 0.7, 0.8, 0.9, 1], \n",
        "              'min_child_weight' : [0,1,2,3,4,5,6,7,8,9,10]}\n",
        "xgboost_model = XGBClassifier()\n",
        "\n",
        "cv = BayesSearchCV(xgboost_model, parameters)\n",
        "cv.fit(X_train, y_train)\n",
        "best_params = cv.best_params_\n",
        "best_params"
      ],
      "metadata": {
        "id": "ZfmEBgB1avgL"
      },
      "execution_count": null,
      "outputs": []
    },
    {
      "cell_type": "code",
      "source": [
        "xgboost= XGBClassifier(**best_params, class_weight='balanced', random_state = 42, \n",
        "                              max_iter=10000)\n",
        "\n",
        "xgboost.fit(X_train, y_train)\n",
        "predictions = xgboost.predict(X_test)"
      ],
      "metadata": {
        "id": "eeSn4ko_ayy2"
      },
      "execution_count": null,
      "outputs": []
    },
    {
      "cell_type": "code",
      "source": [
        "print(confusion_matrix(y_test,predictions))  \n",
        "print(classification_report(y_test,predictions))  \n",
        "print(\"Model evaluation\")\n",
        "print(\"Accuracy:\", accuracy_score(y_test, predictions))"
      ],
      "metadata": {
        "id": "exZmAdz2aqcg"
      },
      "execution_count": null,
      "outputs": []
    },
    {
      "cell_type": "markdown",
      "source": [
        "Albert with Naive Bayes without fine-tuning. "
      ],
      "metadata": {
        "id": "ajtWk_BibNen"
      }
    },
    {
      "cell_type": "code",
      "source": [
        "text_classifier = GaussianNB()\n",
        "text_classifier.fit(X_train, y_train)\n",
        "text_classifier.score(X_train, y_train)\n",
        "predictions = text_classifier.predict(X_test)"
      ],
      "metadata": {
        "id": "KVurh1IvbkWY"
      },
      "execution_count": null,
      "outputs": []
    },
    {
      "cell_type": "code",
      "source": [
        "print(confusion_matrix(y_test,predictions))  \n",
        "print(classification_report(y_test,predictions))  \n",
        "print(\"Model evaluation\")\n",
        "print(\"Accuracy:\", accuracy_score(y_test, predictions))"
      ],
      "metadata": {
        "id": "I28c4ooAbmCt"
      },
      "execution_count": null,
      "outputs": []
    },
    {
      "cell_type": "markdown",
      "source": [
        "Albert with Naive Bayes with fine-tuning. "
      ],
      "metadata": {
        "id": "h65yVXfhby2x"
      }
    },
    {
      "cell_type": "code",
      "source": [
        "parameters = {'var_smoothing': np.logspace(0,-9, num=100)}\n",
        "text_classifier = GaussianNB()\n",
        "\n",
        "cv = BayesSearchCV(text_classifier, parameters)\n",
        "cv.fit(X_train, y_train)\n",
        "best_params = cv.best_params_\n",
        "best_params"
      ],
      "metadata": {
        "id": "BjKYDsDDb6dN"
      },
      "execution_count": null,
      "outputs": []
    },
    {
      "cell_type": "code",
      "source": [
        "text_classifier = GaussianNB(**best_params)\n",
        "\n",
        "text_classifier.fit(X_train, y_train)\n",
        "predictions = text_classifier.predict(X_test)"
      ],
      "metadata": {
        "id": "1y_0y3BAcBlB"
      },
      "execution_count": null,
      "outputs": []
    },
    {
      "cell_type": "code",
      "source": [
        "print(confusion_matrix(y_test,predictions))  \n",
        "print(classification_report(y_test,predictions))  \n",
        "print(\"Model evaluation\")\n",
        "print(\"Accuracy:\", accuracy_score(y_test, predictions))"
      ],
      "metadata": {
        "id": "DXiXn_aqcDBe"
      },
      "execution_count": null,
      "outputs": []
    },
    {
      "cell_type": "markdown",
      "metadata": {
        "id": "ZJD-zFvbzcWD"
      },
      "source": [
        "## Feature extraction "
      ]
    },
    {
      "cell_type": "markdown",
      "metadata": {
        "id": "V0X6W_VzzmIx"
      },
      "source": [
        "**TF-IDF**\n",
        "\n",
        "\n",
        "---\n",
        "\n"
      ]
    },
    {
      "cell_type": "code",
      "execution_count": null,
      "metadata": {
        "id": "zYPcGhmF4HXD"
      },
      "outputs": [],
      "source": [
        "df"
      ]
    },
    {
      "cell_type": "code",
      "execution_count": null,
      "metadata": {
        "id": "cfAc2Vc13-pT"
      },
      "outputs": [],
      "source": [
        "tweets = df['tweet_simple_clean']\n",
        "y = df['Sentiment']\n",
        "print(tweets)"
      ]
    },
    {
      "cell_type": "markdown",
      "metadata": {
        "id": "GpGyg1A8-W27"
      },
      "source": [
        "**Data Preprocessing**\n",
        "\n",
        "\n",
        "---\n",
        "\n"
      ]
    },
    {
      "cell_type": "markdown",
      "metadata": {
        "id": "pL2jfIAjlCok"
      },
      "source": [
        "**TF**  = (Frequency of a word in the document)/(Total words in the document)\n",
        "\n",
        "\n",
        "---\n",
        "\n",
        "\n",
        "**IDF** = Log((Total number of docs)/(Number of docs containing the word))"
      ]
    },
    {
      "cell_type": "code",
      "execution_count": null,
      "metadata": {
        "id": "_lMOJ4Ih3a89"
      },
      "outputs": [],
      "source": [
        "from sklearn.feature_extraction.text import TfidfVectorizer\n",
        "\n",
        "# import Naïve Bayes \n",
        "from sklearn.naive_bayes import GaussianNB\n",
        "\n",
        "# import Logistic Regression\n",
        "from sklearn.linear_model import LogisticRegression\n",
        "\n",
        "# import XGBoost\n",
        "from xgboost import XGBClassifier\n",
        "import xgboost as xgb"
      ]
    },
    {
      "cell_type": "code",
      "execution_count": null,
      "metadata": {
        "id": "m9Ul1S3qk7sC"
      },
      "outputs": [],
      "source": [
        "tfidf = TfidfVectorizer()"
      ]
    },
    {
      "cell_type": "code",
      "execution_count": null,
      "metadata": {
        "id": "McPn9R58rS7F"
      },
      "outputs": [],
      "source": [
        "#Convert your dataset into corresponding TF-IDF feature vectors\n",
        "\n",
        "X = tfidf.fit_transform( df['tweet_simple_clean']).toarray()\n",
        "tfidf.get_feature_names_out()"
      ]
    },
    {
      "cell_type": "code",
      "execution_count": null,
      "metadata": {
        "id": "Fgw6mm0Tr3uj"
      },
      "outputs": [],
      "source": [
        "from sklearn.model_selection import train_test_split  \n",
        "X_train, X_test, y_train, y_test = train_test_split(X, y, test_size=0.2, random_state=0)"
      ]
    },
    {
      "cell_type": "code",
      "execution_count": null,
      "metadata": {
        "id": "znPZX7NUvN3f"
      },
      "outputs": [],
      "source": [
        "# Naïve Bayes without fine-tuning\n",
        "text_classifier = GaussianNB()\n",
        "text_classifier.fit(X_train, y_train)"
      ]
    },
    {
      "cell_type": "code",
      "execution_count": null,
      "metadata": {
        "id": "49ucZgHWwQ_P"
      },
      "outputs": [],
      "source": [
        "predictions = text_classifier.predict(X_test)"
      ]
    },
    {
      "cell_type": "code",
      "execution_count": null,
      "metadata": {
        "id": "o_Q87ifmwU5h"
      },
      "outputs": [],
      "source": [
        "from sklearn.metrics import classification_report, confusion_matrix, accuracy_score,precision_score, recall_score, f1_score\n",
        " \n",
        "print(confusion_matrix(y_test,predictions))  \n",
        "print(classification_report(y_test,predictions))  \n",
        "print(\"Model evaluation\")\n",
        "print(\"Accuracy:\", accuracy_score(y_test, predictions))"
      ]
    },
    {
      "cell_type": "code",
      "execution_count": null,
      "metadata": {
        "id": "OLk75vEz2uhj"
      },
      "outputs": [],
      "source": [
        "# Logistic Regression without fine-tuning\n",
        "lg = LogisticRegression()\n",
        "lg.fit(X_train, y_train)"
      ]
    },
    {
      "cell_type": "code",
      "execution_count": null,
      "metadata": {
        "id": "ieNiogR3clF8"
      },
      "outputs": [],
      "source": [
        "predictions = lg.predict(X_test)"
      ]
    },
    {
      "cell_type": "code",
      "execution_count": null,
      "metadata": {
        "id": "N37B7pChceJw"
      },
      "outputs": [],
      "source": [
        "print(confusion_matrix(y_test,predictions))  \n",
        "print(classification_report(y_test,predictions))  \n",
        "print(\"Model evaluation\")\n",
        "print(\"Accuracy:\", accuracy_score(y_test, predictions))"
      ]
    },
    {
      "cell_type": "code",
      "execution_count": null,
      "metadata": {
        "id": "Kj6ovRuAcp6U"
      },
      "outputs": [],
      "source": [
        "# XGBoost without fine-tuning\n",
        "xgboost = XGBClassifier()\n",
        "xgboost.fit(X_train, y_train)"
      ]
    },
    {
      "cell_type": "code",
      "execution_count": null,
      "metadata": {
        "id": "FFUyyc4Ucr2x"
      },
      "outputs": [],
      "source": [
        "predictions = xgboost.predict(X_test)"
      ]
    },
    {
      "cell_type": "code",
      "execution_count": null,
      "metadata": {
        "id": "27qcvMJEcss5"
      },
      "outputs": [],
      "source": [
        "print(confusion_matrix(y_test,predictions))  \n",
        "print(classification_report(y_test,predictions))  \n",
        "print(\"Model evaluation\")\n",
        "print(\"Accuracy:\", accuracy_score(y_test, predictions))"
      ]
    },
    {
      "cell_type": "code",
      "execution_count": null,
      "metadata": {
        "id": "qpjijj-Kv4wM"
      },
      "outputs": [],
      "source": []
    }
  ],
  "metadata": {
    "colab": {
      "collapsed_sections": [
        "GqTGlWM00GMU"
      ],
      "provenance": []
    },
    "gpuClass": "standard",
    "kernelspec": {
      "display_name": "Python 3 (ipykernel)",
      "language": "python",
      "name": "python3"
    },
    "language_info": {
      "codemirror_mode": {
        "name": "ipython",
        "version": 3
      },
      "file_extension": ".py",
      "mimetype": "text/x-python",
      "name": "python",
      "nbconvert_exporter": "python",
      "pygments_lexer": "ipython3",
      "version": "3.9.7"
    },
    "vscode": {
      "interpreter": {
        "hash": "55ab825fb078217004f90f61c2dc6e209a5d48b24365a594820db8d6e57ccb48"
      }
    },
    "widgets": {
      "application/vnd.jupyter.widget-state+json": {
        "9639862c3485403ca44a2383f1d346a2": {
          "model_module": "@jupyter-widgets/controls",
          "model_name": "HBoxModel",
          "model_module_version": "1.5.0",
          "state": {
            "_dom_classes": [],
            "_model_module": "@jupyter-widgets/controls",
            "_model_module_version": "1.5.0",
            "_model_name": "HBoxModel",
            "_view_count": null,
            "_view_module": "@jupyter-widgets/controls",
            "_view_module_version": "1.5.0",
            "_view_name": "HBoxView",
            "box_style": "",
            "children": [
              "IPY_MODEL_d3ece52496614d6e99c629de4a07d36e",
              "IPY_MODEL_dbaeb3a14e1b448693fa4fc27668902c",
              "IPY_MODEL_60a7d47fb3c44790a735a1b5aad3679e"
            ],
            "layout": "IPY_MODEL_3e04cbaeb02944c1b7d446e546cdc578"
          }
        },
        "d3ece52496614d6e99c629de4a07d36e": {
          "model_module": "@jupyter-widgets/controls",
          "model_name": "HTMLModel",
          "model_module_version": "1.5.0",
          "state": {
            "_dom_classes": [],
            "_model_module": "@jupyter-widgets/controls",
            "_model_module_version": "1.5.0",
            "_model_name": "HTMLModel",
            "_view_count": null,
            "_view_module": "@jupyter-widgets/controls",
            "_view_module_version": "1.5.0",
            "_view_name": "HTMLView",
            "description": "",
            "description_tooltip": null,
            "layout": "IPY_MODEL_086b1273aa1447188d183d96b0dbae07",
            "placeholder": "​",
            "style": "IPY_MODEL_029d86797cd24d80aa648be333f9b828",
            "value": "Downloading: 100%"
          }
        },
        "dbaeb3a14e1b448693fa4fc27668902c": {
          "model_module": "@jupyter-widgets/controls",
          "model_name": "FloatProgressModel",
          "model_module_version": "1.5.0",
          "state": {
            "_dom_classes": [],
            "_model_module": "@jupyter-widgets/controls",
            "_model_module_version": "1.5.0",
            "_model_name": "FloatProgressModel",
            "_view_count": null,
            "_view_module": "@jupyter-widgets/controls",
            "_view_module_version": "1.5.0",
            "_view_name": "ProgressView",
            "bar_style": "success",
            "description": "",
            "description_tooltip": null,
            "layout": "IPY_MODEL_2c334b8c3d994d4e8162c9cf7a3a3d01",
            "max": 898823,
            "min": 0,
            "orientation": "horizontal",
            "style": "IPY_MODEL_a695002c84a741a1a51d4c25b76568a2",
            "value": 898823
          }
        },
        "60a7d47fb3c44790a735a1b5aad3679e": {
          "model_module": "@jupyter-widgets/controls",
          "model_name": "HTMLModel",
          "model_module_version": "1.5.0",
          "state": {
            "_dom_classes": [],
            "_model_module": "@jupyter-widgets/controls",
            "_model_module_version": "1.5.0",
            "_model_name": "HTMLModel",
            "_view_count": null,
            "_view_module": "@jupyter-widgets/controls",
            "_view_module_version": "1.5.0",
            "_view_name": "HTMLView",
            "description": "",
            "description_tooltip": null,
            "layout": "IPY_MODEL_a85f276d84004a5fb7e3e1b8a2615082",
            "placeholder": "​",
            "style": "IPY_MODEL_3b73279eb1e842dca8872e2168483e10",
            "value": " 899k/899k [00:00&lt;00:00, 1.04MB/s]"
          }
        },
        "3e04cbaeb02944c1b7d446e546cdc578": {
          "model_module": "@jupyter-widgets/base",
          "model_name": "LayoutModel",
          "model_module_version": "1.2.0",
          "state": {
            "_model_module": "@jupyter-widgets/base",
            "_model_module_version": "1.2.0",
            "_model_name": "LayoutModel",
            "_view_count": null,
            "_view_module": "@jupyter-widgets/base",
            "_view_module_version": "1.2.0",
            "_view_name": "LayoutView",
            "align_content": null,
            "align_items": null,
            "align_self": null,
            "border": null,
            "bottom": null,
            "display": null,
            "flex": null,
            "flex_flow": null,
            "grid_area": null,
            "grid_auto_columns": null,
            "grid_auto_flow": null,
            "grid_auto_rows": null,
            "grid_column": null,
            "grid_gap": null,
            "grid_row": null,
            "grid_template_areas": null,
            "grid_template_columns": null,
            "grid_template_rows": null,
            "height": null,
            "justify_content": null,
            "justify_items": null,
            "left": null,
            "margin": null,
            "max_height": null,
            "max_width": null,
            "min_height": null,
            "min_width": null,
            "object_fit": null,
            "object_position": null,
            "order": null,
            "overflow": null,
            "overflow_x": null,
            "overflow_y": null,
            "padding": null,
            "right": null,
            "top": null,
            "visibility": null,
            "width": null
          }
        },
        "086b1273aa1447188d183d96b0dbae07": {
          "model_module": "@jupyter-widgets/base",
          "model_name": "LayoutModel",
          "model_module_version": "1.2.0",
          "state": {
            "_model_module": "@jupyter-widgets/base",
            "_model_module_version": "1.2.0",
            "_model_name": "LayoutModel",
            "_view_count": null,
            "_view_module": "@jupyter-widgets/base",
            "_view_module_version": "1.2.0",
            "_view_name": "LayoutView",
            "align_content": null,
            "align_items": null,
            "align_self": null,
            "border": null,
            "bottom": null,
            "display": null,
            "flex": null,
            "flex_flow": null,
            "grid_area": null,
            "grid_auto_columns": null,
            "grid_auto_flow": null,
            "grid_auto_rows": null,
            "grid_column": null,
            "grid_gap": null,
            "grid_row": null,
            "grid_template_areas": null,
            "grid_template_columns": null,
            "grid_template_rows": null,
            "height": null,
            "justify_content": null,
            "justify_items": null,
            "left": null,
            "margin": null,
            "max_height": null,
            "max_width": null,
            "min_height": null,
            "min_width": null,
            "object_fit": null,
            "object_position": null,
            "order": null,
            "overflow": null,
            "overflow_x": null,
            "overflow_y": null,
            "padding": null,
            "right": null,
            "top": null,
            "visibility": null,
            "width": null
          }
        },
        "029d86797cd24d80aa648be333f9b828": {
          "model_module": "@jupyter-widgets/controls",
          "model_name": "DescriptionStyleModel",
          "model_module_version": "1.5.0",
          "state": {
            "_model_module": "@jupyter-widgets/controls",
            "_model_module_version": "1.5.0",
            "_model_name": "DescriptionStyleModel",
            "_view_count": null,
            "_view_module": "@jupyter-widgets/base",
            "_view_module_version": "1.2.0",
            "_view_name": "StyleView",
            "description_width": ""
          }
        },
        "2c334b8c3d994d4e8162c9cf7a3a3d01": {
          "model_module": "@jupyter-widgets/base",
          "model_name": "LayoutModel",
          "model_module_version": "1.2.0",
          "state": {
            "_model_module": "@jupyter-widgets/base",
            "_model_module_version": "1.2.0",
            "_model_name": "LayoutModel",
            "_view_count": null,
            "_view_module": "@jupyter-widgets/base",
            "_view_module_version": "1.2.0",
            "_view_name": "LayoutView",
            "align_content": null,
            "align_items": null,
            "align_self": null,
            "border": null,
            "bottom": null,
            "display": null,
            "flex": null,
            "flex_flow": null,
            "grid_area": null,
            "grid_auto_columns": null,
            "grid_auto_flow": null,
            "grid_auto_rows": null,
            "grid_column": null,
            "grid_gap": null,
            "grid_row": null,
            "grid_template_areas": null,
            "grid_template_columns": null,
            "grid_template_rows": null,
            "height": null,
            "justify_content": null,
            "justify_items": null,
            "left": null,
            "margin": null,
            "max_height": null,
            "max_width": null,
            "min_height": null,
            "min_width": null,
            "object_fit": null,
            "object_position": null,
            "order": null,
            "overflow": null,
            "overflow_x": null,
            "overflow_y": null,
            "padding": null,
            "right": null,
            "top": null,
            "visibility": null,
            "width": null
          }
        },
        "a695002c84a741a1a51d4c25b76568a2": {
          "model_module": "@jupyter-widgets/controls",
          "model_name": "ProgressStyleModel",
          "model_module_version": "1.5.0",
          "state": {
            "_model_module": "@jupyter-widgets/controls",
            "_model_module_version": "1.5.0",
            "_model_name": "ProgressStyleModel",
            "_view_count": null,
            "_view_module": "@jupyter-widgets/base",
            "_view_module_version": "1.2.0",
            "_view_name": "StyleView",
            "bar_color": null,
            "description_width": ""
          }
        },
        "a85f276d84004a5fb7e3e1b8a2615082": {
          "model_module": "@jupyter-widgets/base",
          "model_name": "LayoutModel",
          "model_module_version": "1.2.0",
          "state": {
            "_model_module": "@jupyter-widgets/base",
            "_model_module_version": "1.2.0",
            "_model_name": "LayoutModel",
            "_view_count": null,
            "_view_module": "@jupyter-widgets/base",
            "_view_module_version": "1.2.0",
            "_view_name": "LayoutView",
            "align_content": null,
            "align_items": null,
            "align_self": null,
            "border": null,
            "bottom": null,
            "display": null,
            "flex": null,
            "flex_flow": null,
            "grid_area": null,
            "grid_auto_columns": null,
            "grid_auto_flow": null,
            "grid_auto_rows": null,
            "grid_column": null,
            "grid_gap": null,
            "grid_row": null,
            "grid_template_areas": null,
            "grid_template_columns": null,
            "grid_template_rows": null,
            "height": null,
            "justify_content": null,
            "justify_items": null,
            "left": null,
            "margin": null,
            "max_height": null,
            "max_width": null,
            "min_height": null,
            "min_width": null,
            "object_fit": null,
            "object_position": null,
            "order": null,
            "overflow": null,
            "overflow_x": null,
            "overflow_y": null,
            "padding": null,
            "right": null,
            "top": null,
            "visibility": null,
            "width": null
          }
        },
        "3b73279eb1e842dca8872e2168483e10": {
          "model_module": "@jupyter-widgets/controls",
          "model_name": "DescriptionStyleModel",
          "model_module_version": "1.5.0",
          "state": {
            "_model_module": "@jupyter-widgets/controls",
            "_model_module_version": "1.5.0",
            "_model_name": "DescriptionStyleModel",
            "_view_count": null,
            "_view_module": "@jupyter-widgets/base",
            "_view_module_version": "1.2.0",
            "_view_name": "StyleView",
            "description_width": ""
          }
        },
        "11e26662a562405daebf763c4fdd46f4": {
          "model_module": "@jupyter-widgets/controls",
          "model_name": "HBoxModel",
          "model_module_version": "1.5.0",
          "state": {
            "_dom_classes": [],
            "_model_module": "@jupyter-widgets/controls",
            "_model_module_version": "1.5.0",
            "_model_name": "HBoxModel",
            "_view_count": null,
            "_view_module": "@jupyter-widgets/controls",
            "_view_module_version": "1.5.0",
            "_view_name": "HBoxView",
            "box_style": "",
            "children": [
              "IPY_MODEL_36399fe2c9514caf9e42966b1ab2e31e",
              "IPY_MODEL_515b568d1bea439fb95f43db1f3ec05f",
              "IPY_MODEL_a9b41ed6bb7147469b519ee07ba83cfb"
            ],
            "layout": "IPY_MODEL_2b0acf3c0fc24b5bb8b752abe16059a0"
          }
        },
        "36399fe2c9514caf9e42966b1ab2e31e": {
          "model_module": "@jupyter-widgets/controls",
          "model_name": "HTMLModel",
          "model_module_version": "1.5.0",
          "state": {
            "_dom_classes": [],
            "_model_module": "@jupyter-widgets/controls",
            "_model_module_version": "1.5.0",
            "_model_name": "HTMLModel",
            "_view_count": null,
            "_view_module": "@jupyter-widgets/controls",
            "_view_module_version": "1.5.0",
            "_view_name": "HTMLView",
            "description": "",
            "description_tooltip": null,
            "layout": "IPY_MODEL_85f605826fae4406b6d27a948bae37cb",
            "placeholder": "​",
            "style": "IPY_MODEL_3dbc902835d444baa43e7963d575303b",
            "value": "Downloading: 100%"
          }
        },
        "515b568d1bea439fb95f43db1f3ec05f": {
          "model_module": "@jupyter-widgets/controls",
          "model_name": "FloatProgressModel",
          "model_module_version": "1.5.0",
          "state": {
            "_dom_classes": [],
            "_model_module": "@jupyter-widgets/controls",
            "_model_module_version": "1.5.0",
            "_model_name": "FloatProgressModel",
            "_view_count": null,
            "_view_module": "@jupyter-widgets/controls",
            "_view_module_version": "1.5.0",
            "_view_name": "ProgressView",
            "bar_style": "success",
            "description": "",
            "description_tooltip": null,
            "layout": "IPY_MODEL_9e0a19fd78944be19f336a6359042bea",
            "max": 456318,
            "min": 0,
            "orientation": "horizontal",
            "style": "IPY_MODEL_5a5d8593318547c08f56d92a2d39e4d5",
            "value": 456318
          }
        },
        "a9b41ed6bb7147469b519ee07ba83cfb": {
          "model_module": "@jupyter-widgets/controls",
          "model_name": "HTMLModel",
          "model_module_version": "1.5.0",
          "state": {
            "_dom_classes": [],
            "_model_module": "@jupyter-widgets/controls",
            "_model_module_version": "1.5.0",
            "_model_name": "HTMLModel",
            "_view_count": null,
            "_view_module": "@jupyter-widgets/controls",
            "_view_module_version": "1.5.0",
            "_view_name": "HTMLView",
            "description": "",
            "description_tooltip": null,
            "layout": "IPY_MODEL_c231b0f16736465fa5e1175b8736bfa8",
            "placeholder": "​",
            "style": "IPY_MODEL_4865940a95394144a1cd8340abced08d",
            "value": " 456k/456k [00:00&lt;00:00, 1.51MB/s]"
          }
        },
        "2b0acf3c0fc24b5bb8b752abe16059a0": {
          "model_module": "@jupyter-widgets/base",
          "model_name": "LayoutModel",
          "model_module_version": "1.2.0",
          "state": {
            "_model_module": "@jupyter-widgets/base",
            "_model_module_version": "1.2.0",
            "_model_name": "LayoutModel",
            "_view_count": null,
            "_view_module": "@jupyter-widgets/base",
            "_view_module_version": "1.2.0",
            "_view_name": "LayoutView",
            "align_content": null,
            "align_items": null,
            "align_self": null,
            "border": null,
            "bottom": null,
            "display": null,
            "flex": null,
            "flex_flow": null,
            "grid_area": null,
            "grid_auto_columns": null,
            "grid_auto_flow": null,
            "grid_auto_rows": null,
            "grid_column": null,
            "grid_gap": null,
            "grid_row": null,
            "grid_template_areas": null,
            "grid_template_columns": null,
            "grid_template_rows": null,
            "height": null,
            "justify_content": null,
            "justify_items": null,
            "left": null,
            "margin": null,
            "max_height": null,
            "max_width": null,
            "min_height": null,
            "min_width": null,
            "object_fit": null,
            "object_position": null,
            "order": null,
            "overflow": null,
            "overflow_x": null,
            "overflow_y": null,
            "padding": null,
            "right": null,
            "top": null,
            "visibility": null,
            "width": null
          }
        },
        "85f605826fae4406b6d27a948bae37cb": {
          "model_module": "@jupyter-widgets/base",
          "model_name": "LayoutModel",
          "model_module_version": "1.2.0",
          "state": {
            "_model_module": "@jupyter-widgets/base",
            "_model_module_version": "1.2.0",
            "_model_name": "LayoutModel",
            "_view_count": null,
            "_view_module": "@jupyter-widgets/base",
            "_view_module_version": "1.2.0",
            "_view_name": "LayoutView",
            "align_content": null,
            "align_items": null,
            "align_self": null,
            "border": null,
            "bottom": null,
            "display": null,
            "flex": null,
            "flex_flow": null,
            "grid_area": null,
            "grid_auto_columns": null,
            "grid_auto_flow": null,
            "grid_auto_rows": null,
            "grid_column": null,
            "grid_gap": null,
            "grid_row": null,
            "grid_template_areas": null,
            "grid_template_columns": null,
            "grid_template_rows": null,
            "height": null,
            "justify_content": null,
            "justify_items": null,
            "left": null,
            "margin": null,
            "max_height": null,
            "max_width": null,
            "min_height": null,
            "min_width": null,
            "object_fit": null,
            "object_position": null,
            "order": null,
            "overflow": null,
            "overflow_x": null,
            "overflow_y": null,
            "padding": null,
            "right": null,
            "top": null,
            "visibility": null,
            "width": null
          }
        },
        "3dbc902835d444baa43e7963d575303b": {
          "model_module": "@jupyter-widgets/controls",
          "model_name": "DescriptionStyleModel",
          "model_module_version": "1.5.0",
          "state": {
            "_model_module": "@jupyter-widgets/controls",
            "_model_module_version": "1.5.0",
            "_model_name": "DescriptionStyleModel",
            "_view_count": null,
            "_view_module": "@jupyter-widgets/base",
            "_view_module_version": "1.2.0",
            "_view_name": "StyleView",
            "description_width": ""
          }
        },
        "9e0a19fd78944be19f336a6359042bea": {
          "model_module": "@jupyter-widgets/base",
          "model_name": "LayoutModel",
          "model_module_version": "1.2.0",
          "state": {
            "_model_module": "@jupyter-widgets/base",
            "_model_module_version": "1.2.0",
            "_model_name": "LayoutModel",
            "_view_count": null,
            "_view_module": "@jupyter-widgets/base",
            "_view_module_version": "1.2.0",
            "_view_name": "LayoutView",
            "align_content": null,
            "align_items": null,
            "align_self": null,
            "border": null,
            "bottom": null,
            "display": null,
            "flex": null,
            "flex_flow": null,
            "grid_area": null,
            "grid_auto_columns": null,
            "grid_auto_flow": null,
            "grid_auto_rows": null,
            "grid_column": null,
            "grid_gap": null,
            "grid_row": null,
            "grid_template_areas": null,
            "grid_template_columns": null,
            "grid_template_rows": null,
            "height": null,
            "justify_content": null,
            "justify_items": null,
            "left": null,
            "margin": null,
            "max_height": null,
            "max_width": null,
            "min_height": null,
            "min_width": null,
            "object_fit": null,
            "object_position": null,
            "order": null,
            "overflow": null,
            "overflow_x": null,
            "overflow_y": null,
            "padding": null,
            "right": null,
            "top": null,
            "visibility": null,
            "width": null
          }
        },
        "5a5d8593318547c08f56d92a2d39e4d5": {
          "model_module": "@jupyter-widgets/controls",
          "model_name": "ProgressStyleModel",
          "model_module_version": "1.5.0",
          "state": {
            "_model_module": "@jupyter-widgets/controls",
            "_model_module_version": "1.5.0",
            "_model_name": "ProgressStyleModel",
            "_view_count": null,
            "_view_module": "@jupyter-widgets/base",
            "_view_module_version": "1.2.0",
            "_view_name": "StyleView",
            "bar_color": null,
            "description_width": ""
          }
        },
        "c231b0f16736465fa5e1175b8736bfa8": {
          "model_module": "@jupyter-widgets/base",
          "model_name": "LayoutModel",
          "model_module_version": "1.2.0",
          "state": {
            "_model_module": "@jupyter-widgets/base",
            "_model_module_version": "1.2.0",
            "_model_name": "LayoutModel",
            "_view_count": null,
            "_view_module": "@jupyter-widgets/base",
            "_view_module_version": "1.2.0",
            "_view_name": "LayoutView",
            "align_content": null,
            "align_items": null,
            "align_self": null,
            "border": null,
            "bottom": null,
            "display": null,
            "flex": null,
            "flex_flow": null,
            "grid_area": null,
            "grid_auto_columns": null,
            "grid_auto_flow": null,
            "grid_auto_rows": null,
            "grid_column": null,
            "grid_gap": null,
            "grid_row": null,
            "grid_template_areas": null,
            "grid_template_columns": null,
            "grid_template_rows": null,
            "height": null,
            "justify_content": null,
            "justify_items": null,
            "left": null,
            "margin": null,
            "max_height": null,
            "max_width": null,
            "min_height": null,
            "min_width": null,
            "object_fit": null,
            "object_position": null,
            "order": null,
            "overflow": null,
            "overflow_x": null,
            "overflow_y": null,
            "padding": null,
            "right": null,
            "top": null,
            "visibility": null,
            "width": null
          }
        },
        "4865940a95394144a1cd8340abced08d": {
          "model_module": "@jupyter-widgets/controls",
          "model_name": "DescriptionStyleModel",
          "model_module_version": "1.5.0",
          "state": {
            "_model_module": "@jupyter-widgets/controls",
            "_model_module_version": "1.5.0",
            "_model_name": "DescriptionStyleModel",
            "_view_count": null,
            "_view_module": "@jupyter-widgets/base",
            "_view_module_version": "1.2.0",
            "_view_name": "StyleView",
            "description_width": ""
          }
        },
        "8ea51b93e63d400bae72095ccbb2ddbb": {
          "model_module": "@jupyter-widgets/controls",
          "model_name": "HBoxModel",
          "model_module_version": "1.5.0",
          "state": {
            "_dom_classes": [],
            "_model_module": "@jupyter-widgets/controls",
            "_model_module_version": "1.5.0",
            "_model_name": "HBoxModel",
            "_view_count": null,
            "_view_module": "@jupyter-widgets/controls",
            "_view_module_version": "1.5.0",
            "_view_name": "HBoxView",
            "box_style": "",
            "children": [
              "IPY_MODEL_e216e8f291cb40dd94e1ccf34c150083",
              "IPY_MODEL_a055068d5be94a9db89cab63080b183f",
              "IPY_MODEL_bea3c7146fa84be6a7073210f8c08cdd"
            ],
            "layout": "IPY_MODEL_9ba3772f56e34a5ab982f3a8739510bf"
          }
        },
        "e216e8f291cb40dd94e1ccf34c150083": {
          "model_module": "@jupyter-widgets/controls",
          "model_name": "HTMLModel",
          "model_module_version": "1.5.0",
          "state": {
            "_dom_classes": [],
            "_model_module": "@jupyter-widgets/controls",
            "_model_module_version": "1.5.0",
            "_model_name": "HTMLModel",
            "_view_count": null,
            "_view_module": "@jupyter-widgets/controls",
            "_view_module_version": "1.5.0",
            "_view_name": "HTMLView",
            "description": "",
            "description_tooltip": null,
            "layout": "IPY_MODEL_3bc372c4cc3246709383e144d0fd4257",
            "placeholder": "​",
            "style": "IPY_MODEL_8a765083de3d4d29912395cda8bd87d2",
            "value": "Downloading: 100%"
          }
        },
        "a055068d5be94a9db89cab63080b183f": {
          "model_module": "@jupyter-widgets/controls",
          "model_name": "FloatProgressModel",
          "model_module_version": "1.5.0",
          "state": {
            "_dom_classes": [],
            "_model_module": "@jupyter-widgets/controls",
            "_model_module_version": "1.5.0",
            "_model_name": "FloatProgressModel",
            "_view_count": null,
            "_view_module": "@jupyter-widgets/controls",
            "_view_module_version": "1.5.0",
            "_view_name": "ProgressView",
            "bar_style": "success",
            "description": "",
            "description_tooltip": null,
            "layout": "IPY_MODEL_94420fe22022488a96fbbaff9ca91598",
            "max": 481,
            "min": 0,
            "orientation": "horizontal",
            "style": "IPY_MODEL_20609405adac4208bbdcd7d0efd8ae12",
            "value": 481
          }
        },
        "bea3c7146fa84be6a7073210f8c08cdd": {
          "model_module": "@jupyter-widgets/controls",
          "model_name": "HTMLModel",
          "model_module_version": "1.5.0",
          "state": {
            "_dom_classes": [],
            "_model_module": "@jupyter-widgets/controls",
            "_model_module_version": "1.5.0",
            "_model_name": "HTMLModel",
            "_view_count": null,
            "_view_module": "@jupyter-widgets/controls",
            "_view_module_version": "1.5.0",
            "_view_name": "HTMLView",
            "description": "",
            "description_tooltip": null,
            "layout": "IPY_MODEL_6192f0744023493580ef8f6f04a39495",
            "placeholder": "​",
            "style": "IPY_MODEL_3ebc280ab93143be9f559cbcd813143a",
            "value": " 481/481 [00:00&lt;00:00, 11.4kB/s]"
          }
        },
        "9ba3772f56e34a5ab982f3a8739510bf": {
          "model_module": "@jupyter-widgets/base",
          "model_name": "LayoutModel",
          "model_module_version": "1.2.0",
          "state": {
            "_model_module": "@jupyter-widgets/base",
            "_model_module_version": "1.2.0",
            "_model_name": "LayoutModel",
            "_view_count": null,
            "_view_module": "@jupyter-widgets/base",
            "_view_module_version": "1.2.0",
            "_view_name": "LayoutView",
            "align_content": null,
            "align_items": null,
            "align_self": null,
            "border": null,
            "bottom": null,
            "display": null,
            "flex": null,
            "flex_flow": null,
            "grid_area": null,
            "grid_auto_columns": null,
            "grid_auto_flow": null,
            "grid_auto_rows": null,
            "grid_column": null,
            "grid_gap": null,
            "grid_row": null,
            "grid_template_areas": null,
            "grid_template_columns": null,
            "grid_template_rows": null,
            "height": null,
            "justify_content": null,
            "justify_items": null,
            "left": null,
            "margin": null,
            "max_height": null,
            "max_width": null,
            "min_height": null,
            "min_width": null,
            "object_fit": null,
            "object_position": null,
            "order": null,
            "overflow": null,
            "overflow_x": null,
            "overflow_y": null,
            "padding": null,
            "right": null,
            "top": null,
            "visibility": null,
            "width": null
          }
        },
        "3bc372c4cc3246709383e144d0fd4257": {
          "model_module": "@jupyter-widgets/base",
          "model_name": "LayoutModel",
          "model_module_version": "1.2.0",
          "state": {
            "_model_module": "@jupyter-widgets/base",
            "_model_module_version": "1.2.0",
            "_model_name": "LayoutModel",
            "_view_count": null,
            "_view_module": "@jupyter-widgets/base",
            "_view_module_version": "1.2.0",
            "_view_name": "LayoutView",
            "align_content": null,
            "align_items": null,
            "align_self": null,
            "border": null,
            "bottom": null,
            "display": null,
            "flex": null,
            "flex_flow": null,
            "grid_area": null,
            "grid_auto_columns": null,
            "grid_auto_flow": null,
            "grid_auto_rows": null,
            "grid_column": null,
            "grid_gap": null,
            "grid_row": null,
            "grid_template_areas": null,
            "grid_template_columns": null,
            "grid_template_rows": null,
            "height": null,
            "justify_content": null,
            "justify_items": null,
            "left": null,
            "margin": null,
            "max_height": null,
            "max_width": null,
            "min_height": null,
            "min_width": null,
            "object_fit": null,
            "object_position": null,
            "order": null,
            "overflow": null,
            "overflow_x": null,
            "overflow_y": null,
            "padding": null,
            "right": null,
            "top": null,
            "visibility": null,
            "width": null
          }
        },
        "8a765083de3d4d29912395cda8bd87d2": {
          "model_module": "@jupyter-widgets/controls",
          "model_name": "DescriptionStyleModel",
          "model_module_version": "1.5.0",
          "state": {
            "_model_module": "@jupyter-widgets/controls",
            "_model_module_version": "1.5.0",
            "_model_name": "DescriptionStyleModel",
            "_view_count": null,
            "_view_module": "@jupyter-widgets/base",
            "_view_module_version": "1.2.0",
            "_view_name": "StyleView",
            "description_width": ""
          }
        },
        "94420fe22022488a96fbbaff9ca91598": {
          "model_module": "@jupyter-widgets/base",
          "model_name": "LayoutModel",
          "model_module_version": "1.2.0",
          "state": {
            "_model_module": "@jupyter-widgets/base",
            "_model_module_version": "1.2.0",
            "_model_name": "LayoutModel",
            "_view_count": null,
            "_view_module": "@jupyter-widgets/base",
            "_view_module_version": "1.2.0",
            "_view_name": "LayoutView",
            "align_content": null,
            "align_items": null,
            "align_self": null,
            "border": null,
            "bottom": null,
            "display": null,
            "flex": null,
            "flex_flow": null,
            "grid_area": null,
            "grid_auto_columns": null,
            "grid_auto_flow": null,
            "grid_auto_rows": null,
            "grid_column": null,
            "grid_gap": null,
            "grid_row": null,
            "grid_template_areas": null,
            "grid_template_columns": null,
            "grid_template_rows": null,
            "height": null,
            "justify_content": null,
            "justify_items": null,
            "left": null,
            "margin": null,
            "max_height": null,
            "max_width": null,
            "min_height": null,
            "min_width": null,
            "object_fit": null,
            "object_position": null,
            "order": null,
            "overflow": null,
            "overflow_x": null,
            "overflow_y": null,
            "padding": null,
            "right": null,
            "top": null,
            "visibility": null,
            "width": null
          }
        },
        "20609405adac4208bbdcd7d0efd8ae12": {
          "model_module": "@jupyter-widgets/controls",
          "model_name": "ProgressStyleModel",
          "model_module_version": "1.5.0",
          "state": {
            "_model_module": "@jupyter-widgets/controls",
            "_model_module_version": "1.5.0",
            "_model_name": "ProgressStyleModel",
            "_view_count": null,
            "_view_module": "@jupyter-widgets/base",
            "_view_module_version": "1.2.0",
            "_view_name": "StyleView",
            "bar_color": null,
            "description_width": ""
          }
        },
        "6192f0744023493580ef8f6f04a39495": {
          "model_module": "@jupyter-widgets/base",
          "model_name": "LayoutModel",
          "model_module_version": "1.2.0",
          "state": {
            "_model_module": "@jupyter-widgets/base",
            "_model_module_version": "1.2.0",
            "_model_name": "LayoutModel",
            "_view_count": null,
            "_view_module": "@jupyter-widgets/base",
            "_view_module_version": "1.2.0",
            "_view_name": "LayoutView",
            "align_content": null,
            "align_items": null,
            "align_self": null,
            "border": null,
            "bottom": null,
            "display": null,
            "flex": null,
            "flex_flow": null,
            "grid_area": null,
            "grid_auto_columns": null,
            "grid_auto_flow": null,
            "grid_auto_rows": null,
            "grid_column": null,
            "grid_gap": null,
            "grid_row": null,
            "grid_template_areas": null,
            "grid_template_columns": null,
            "grid_template_rows": null,
            "height": null,
            "justify_content": null,
            "justify_items": null,
            "left": null,
            "margin": null,
            "max_height": null,
            "max_width": null,
            "min_height": null,
            "min_width": null,
            "object_fit": null,
            "object_position": null,
            "order": null,
            "overflow": null,
            "overflow_x": null,
            "overflow_y": null,
            "padding": null,
            "right": null,
            "top": null,
            "visibility": null,
            "width": null
          }
        },
        "3ebc280ab93143be9f559cbcd813143a": {
          "model_module": "@jupyter-widgets/controls",
          "model_name": "DescriptionStyleModel",
          "model_module_version": "1.5.0",
          "state": {
            "_model_module": "@jupyter-widgets/controls",
            "_model_module_version": "1.5.0",
            "_model_name": "DescriptionStyleModel",
            "_view_count": null,
            "_view_module": "@jupyter-widgets/base",
            "_view_module_version": "1.2.0",
            "_view_name": "StyleView",
            "description_width": ""
          }
        },
        "732ea037dc3744d2b037f7de170b9463": {
          "model_module": "@jupyter-widgets/controls",
          "model_name": "HBoxModel",
          "model_module_version": "1.5.0",
          "state": {
            "_dom_classes": [],
            "_model_module": "@jupyter-widgets/controls",
            "_model_module_version": "1.5.0",
            "_model_name": "HBoxModel",
            "_view_count": null,
            "_view_module": "@jupyter-widgets/controls",
            "_view_module_version": "1.5.0",
            "_view_name": "HBoxView",
            "box_style": "",
            "children": [
              "IPY_MODEL_bf2a3f3f03674d308d42e6b85ea310ef",
              "IPY_MODEL_a8a09efef9264c7db72c4a2ea534c5ff",
              "IPY_MODEL_6c680d37bc1d4a488e539fd89b145a34"
            ],
            "layout": "IPY_MODEL_5308b14bbe04430d87a4bd30bab1cfdc"
          }
        },
        "bf2a3f3f03674d308d42e6b85ea310ef": {
          "model_module": "@jupyter-widgets/controls",
          "model_name": "HTMLModel",
          "model_module_version": "1.5.0",
          "state": {
            "_dom_classes": [],
            "_model_module": "@jupyter-widgets/controls",
            "_model_module_version": "1.5.0",
            "_model_name": "HTMLModel",
            "_view_count": null,
            "_view_module": "@jupyter-widgets/controls",
            "_view_module_version": "1.5.0",
            "_view_name": "HTMLView",
            "description": "",
            "description_tooltip": null,
            "layout": "IPY_MODEL_fe98908223e04b14904440440aa26cf1",
            "placeholder": "​",
            "style": "IPY_MODEL_3ad6d04565484333a25410dcf528c8cf",
            "value": "Downloading: 100%"
          }
        },
        "a8a09efef9264c7db72c4a2ea534c5ff": {
          "model_module": "@jupyter-widgets/controls",
          "model_name": "FloatProgressModel",
          "model_module_version": "1.5.0",
          "state": {
            "_dom_classes": [],
            "_model_module": "@jupyter-widgets/controls",
            "_model_module_version": "1.5.0",
            "_model_name": "FloatProgressModel",
            "_view_count": null,
            "_view_module": "@jupyter-widgets/controls",
            "_view_module_version": "1.5.0",
            "_view_name": "ProgressView",
            "bar_style": "success",
            "description": "",
            "description_tooltip": null,
            "layout": "IPY_MODEL_15e00bc4a80f43bdaf8ee5454791e102",
            "max": 501200538,
            "min": 0,
            "orientation": "horizontal",
            "style": "IPY_MODEL_e198bd619c894a2d8cf60e954f058a83",
            "value": 501200538
          }
        },
        "6c680d37bc1d4a488e539fd89b145a34": {
          "model_module": "@jupyter-widgets/controls",
          "model_name": "HTMLModel",
          "model_module_version": "1.5.0",
          "state": {
            "_dom_classes": [],
            "_model_module": "@jupyter-widgets/controls",
            "_model_module_version": "1.5.0",
            "_model_name": "HTMLModel",
            "_view_count": null,
            "_view_module": "@jupyter-widgets/controls",
            "_view_module_version": "1.5.0",
            "_view_name": "HTMLView",
            "description": "",
            "description_tooltip": null,
            "layout": "IPY_MODEL_c99c40a6e74f471e9b6441005e08294a",
            "placeholder": "​",
            "style": "IPY_MODEL_cae40a392d3a4527b8a358c8b1309351",
            "value": " 501M/501M [00:12&lt;00:00, 42.6MB/s]"
          }
        },
        "5308b14bbe04430d87a4bd30bab1cfdc": {
          "model_module": "@jupyter-widgets/base",
          "model_name": "LayoutModel",
          "model_module_version": "1.2.0",
          "state": {
            "_model_module": "@jupyter-widgets/base",
            "_model_module_version": "1.2.0",
            "_model_name": "LayoutModel",
            "_view_count": null,
            "_view_module": "@jupyter-widgets/base",
            "_view_module_version": "1.2.0",
            "_view_name": "LayoutView",
            "align_content": null,
            "align_items": null,
            "align_self": null,
            "border": null,
            "bottom": null,
            "display": null,
            "flex": null,
            "flex_flow": null,
            "grid_area": null,
            "grid_auto_columns": null,
            "grid_auto_flow": null,
            "grid_auto_rows": null,
            "grid_column": null,
            "grid_gap": null,
            "grid_row": null,
            "grid_template_areas": null,
            "grid_template_columns": null,
            "grid_template_rows": null,
            "height": null,
            "justify_content": null,
            "justify_items": null,
            "left": null,
            "margin": null,
            "max_height": null,
            "max_width": null,
            "min_height": null,
            "min_width": null,
            "object_fit": null,
            "object_position": null,
            "order": null,
            "overflow": null,
            "overflow_x": null,
            "overflow_y": null,
            "padding": null,
            "right": null,
            "top": null,
            "visibility": null,
            "width": null
          }
        },
        "fe98908223e04b14904440440aa26cf1": {
          "model_module": "@jupyter-widgets/base",
          "model_name": "LayoutModel",
          "model_module_version": "1.2.0",
          "state": {
            "_model_module": "@jupyter-widgets/base",
            "_model_module_version": "1.2.0",
            "_model_name": "LayoutModel",
            "_view_count": null,
            "_view_module": "@jupyter-widgets/base",
            "_view_module_version": "1.2.0",
            "_view_name": "LayoutView",
            "align_content": null,
            "align_items": null,
            "align_self": null,
            "border": null,
            "bottom": null,
            "display": null,
            "flex": null,
            "flex_flow": null,
            "grid_area": null,
            "grid_auto_columns": null,
            "grid_auto_flow": null,
            "grid_auto_rows": null,
            "grid_column": null,
            "grid_gap": null,
            "grid_row": null,
            "grid_template_areas": null,
            "grid_template_columns": null,
            "grid_template_rows": null,
            "height": null,
            "justify_content": null,
            "justify_items": null,
            "left": null,
            "margin": null,
            "max_height": null,
            "max_width": null,
            "min_height": null,
            "min_width": null,
            "object_fit": null,
            "object_position": null,
            "order": null,
            "overflow": null,
            "overflow_x": null,
            "overflow_y": null,
            "padding": null,
            "right": null,
            "top": null,
            "visibility": null,
            "width": null
          }
        },
        "3ad6d04565484333a25410dcf528c8cf": {
          "model_module": "@jupyter-widgets/controls",
          "model_name": "DescriptionStyleModel",
          "model_module_version": "1.5.0",
          "state": {
            "_model_module": "@jupyter-widgets/controls",
            "_model_module_version": "1.5.0",
            "_model_name": "DescriptionStyleModel",
            "_view_count": null,
            "_view_module": "@jupyter-widgets/base",
            "_view_module_version": "1.2.0",
            "_view_name": "StyleView",
            "description_width": ""
          }
        },
        "15e00bc4a80f43bdaf8ee5454791e102": {
          "model_module": "@jupyter-widgets/base",
          "model_name": "LayoutModel",
          "model_module_version": "1.2.0",
          "state": {
            "_model_module": "@jupyter-widgets/base",
            "_model_module_version": "1.2.0",
            "_model_name": "LayoutModel",
            "_view_count": null,
            "_view_module": "@jupyter-widgets/base",
            "_view_module_version": "1.2.0",
            "_view_name": "LayoutView",
            "align_content": null,
            "align_items": null,
            "align_self": null,
            "border": null,
            "bottom": null,
            "display": null,
            "flex": null,
            "flex_flow": null,
            "grid_area": null,
            "grid_auto_columns": null,
            "grid_auto_flow": null,
            "grid_auto_rows": null,
            "grid_column": null,
            "grid_gap": null,
            "grid_row": null,
            "grid_template_areas": null,
            "grid_template_columns": null,
            "grid_template_rows": null,
            "height": null,
            "justify_content": null,
            "justify_items": null,
            "left": null,
            "margin": null,
            "max_height": null,
            "max_width": null,
            "min_height": null,
            "min_width": null,
            "object_fit": null,
            "object_position": null,
            "order": null,
            "overflow": null,
            "overflow_x": null,
            "overflow_y": null,
            "padding": null,
            "right": null,
            "top": null,
            "visibility": null,
            "width": null
          }
        },
        "e198bd619c894a2d8cf60e954f058a83": {
          "model_module": "@jupyter-widgets/controls",
          "model_name": "ProgressStyleModel",
          "model_module_version": "1.5.0",
          "state": {
            "_model_module": "@jupyter-widgets/controls",
            "_model_module_version": "1.5.0",
            "_model_name": "ProgressStyleModel",
            "_view_count": null,
            "_view_module": "@jupyter-widgets/base",
            "_view_module_version": "1.2.0",
            "_view_name": "StyleView",
            "bar_color": null,
            "description_width": ""
          }
        },
        "c99c40a6e74f471e9b6441005e08294a": {
          "model_module": "@jupyter-widgets/base",
          "model_name": "LayoutModel",
          "model_module_version": "1.2.0",
          "state": {
            "_model_module": "@jupyter-widgets/base",
            "_model_module_version": "1.2.0",
            "_model_name": "LayoutModel",
            "_view_count": null,
            "_view_module": "@jupyter-widgets/base",
            "_view_module_version": "1.2.0",
            "_view_name": "LayoutView",
            "align_content": null,
            "align_items": null,
            "align_self": null,
            "border": null,
            "bottom": null,
            "display": null,
            "flex": null,
            "flex_flow": null,
            "grid_area": null,
            "grid_auto_columns": null,
            "grid_auto_flow": null,
            "grid_auto_rows": null,
            "grid_column": null,
            "grid_gap": null,
            "grid_row": null,
            "grid_template_areas": null,
            "grid_template_columns": null,
            "grid_template_rows": null,
            "height": null,
            "justify_content": null,
            "justify_items": null,
            "left": null,
            "margin": null,
            "max_height": null,
            "max_width": null,
            "min_height": null,
            "min_width": null,
            "object_fit": null,
            "object_position": null,
            "order": null,
            "overflow": null,
            "overflow_x": null,
            "overflow_y": null,
            "padding": null,
            "right": null,
            "top": null,
            "visibility": null,
            "width": null
          }
        },
        "cae40a392d3a4527b8a358c8b1309351": {
          "model_module": "@jupyter-widgets/controls",
          "model_name": "DescriptionStyleModel",
          "model_module_version": "1.5.0",
          "state": {
            "_model_module": "@jupyter-widgets/controls",
            "_model_module_version": "1.5.0",
            "_model_name": "DescriptionStyleModel",
            "_view_count": null,
            "_view_module": "@jupyter-widgets/base",
            "_view_module_version": "1.2.0",
            "_view_name": "StyleView",
            "description_width": ""
          }
        },
        "c7a78961186541fe82554e91c6112819": {
          "model_module": "@jupyter-widgets/controls",
          "model_name": "HBoxModel",
          "model_module_version": "1.5.0",
          "state": {
            "_dom_classes": [],
            "_model_module": "@jupyter-widgets/controls",
            "_model_module_version": "1.5.0",
            "_model_name": "HBoxModel",
            "_view_count": null,
            "_view_module": "@jupyter-widgets/controls",
            "_view_module_version": "1.5.0",
            "_view_name": "HBoxView",
            "box_style": "",
            "children": [
              "IPY_MODEL_9652e0728d6b4c07a386fd2bb1c49a29",
              "IPY_MODEL_d252a4eead624e23a99f8f9c16cca8ae",
              "IPY_MODEL_33d8c017a11f4332b33c075c3e0b7299"
            ],
            "layout": "IPY_MODEL_690e8141d9a64e8ebe806d170a29beea"
          }
        },
        "9652e0728d6b4c07a386fd2bb1c49a29": {
          "model_module": "@jupyter-widgets/controls",
          "model_name": "HTMLModel",
          "model_module_version": "1.5.0",
          "state": {
            "_dom_classes": [],
            "_model_module": "@jupyter-widgets/controls",
            "_model_module_version": "1.5.0",
            "_model_name": "HTMLModel",
            "_view_count": null,
            "_view_module": "@jupyter-widgets/controls",
            "_view_module_version": "1.5.0",
            "_view_name": "HTMLView",
            "description": "",
            "description_tooltip": null,
            "layout": "IPY_MODEL_993ebe9bb3eb4deeb4326f92436c90b2",
            "placeholder": "​",
            "style": "IPY_MODEL_163fdd597ced4fc683e3a43d490b4462",
            "value": "Downloading: 100%"
          }
        },
        "d252a4eead624e23a99f8f9c16cca8ae": {
          "model_module": "@jupyter-widgets/controls",
          "model_name": "FloatProgressModel",
          "model_module_version": "1.5.0",
          "state": {
            "_dom_classes": [],
            "_model_module": "@jupyter-widgets/controls",
            "_model_module_version": "1.5.0",
            "_model_name": "FloatProgressModel",
            "_view_count": null,
            "_view_module": "@jupyter-widgets/controls",
            "_view_module_version": "1.5.0",
            "_view_name": "ProgressView",
            "bar_style": "success",
            "description": "",
            "description_tooltip": null,
            "layout": "IPY_MODEL_d379d03ba2964c8db38ae050927d94f8",
            "max": 760289,
            "min": 0,
            "orientation": "horizontal",
            "style": "IPY_MODEL_2901e174cb61433e81abf667cd902282",
            "value": 760289
          }
        },
        "33d8c017a11f4332b33c075c3e0b7299": {
          "model_module": "@jupyter-widgets/controls",
          "model_name": "HTMLModel",
          "model_module_version": "1.5.0",
          "state": {
            "_dom_classes": [],
            "_model_module": "@jupyter-widgets/controls",
            "_model_module_version": "1.5.0",
            "_model_name": "HTMLModel",
            "_view_count": null,
            "_view_module": "@jupyter-widgets/controls",
            "_view_module_version": "1.5.0",
            "_view_name": "HTMLView",
            "description": "",
            "description_tooltip": null,
            "layout": "IPY_MODEL_98bf578220d74257a763a0916b95343b",
            "placeholder": "​",
            "style": "IPY_MODEL_3e644fc4900644bf8422eed076dbd686",
            "value": " 760k/760k [00:00&lt;00:00, 1.12MB/s]"
          }
        },
        "690e8141d9a64e8ebe806d170a29beea": {
          "model_module": "@jupyter-widgets/base",
          "model_name": "LayoutModel",
          "model_module_version": "1.2.0",
          "state": {
            "_model_module": "@jupyter-widgets/base",
            "_model_module_version": "1.2.0",
            "_model_name": "LayoutModel",
            "_view_count": null,
            "_view_module": "@jupyter-widgets/base",
            "_view_module_version": "1.2.0",
            "_view_name": "LayoutView",
            "align_content": null,
            "align_items": null,
            "align_self": null,
            "border": null,
            "bottom": null,
            "display": null,
            "flex": null,
            "flex_flow": null,
            "grid_area": null,
            "grid_auto_columns": null,
            "grid_auto_flow": null,
            "grid_auto_rows": null,
            "grid_column": null,
            "grid_gap": null,
            "grid_row": null,
            "grid_template_areas": null,
            "grid_template_columns": null,
            "grid_template_rows": null,
            "height": null,
            "justify_content": null,
            "justify_items": null,
            "left": null,
            "margin": null,
            "max_height": null,
            "max_width": null,
            "min_height": null,
            "min_width": null,
            "object_fit": null,
            "object_position": null,
            "order": null,
            "overflow": null,
            "overflow_x": null,
            "overflow_y": null,
            "padding": null,
            "right": null,
            "top": null,
            "visibility": null,
            "width": null
          }
        },
        "993ebe9bb3eb4deeb4326f92436c90b2": {
          "model_module": "@jupyter-widgets/base",
          "model_name": "LayoutModel",
          "model_module_version": "1.2.0",
          "state": {
            "_model_module": "@jupyter-widgets/base",
            "_model_module_version": "1.2.0",
            "_model_name": "LayoutModel",
            "_view_count": null,
            "_view_module": "@jupyter-widgets/base",
            "_view_module_version": "1.2.0",
            "_view_name": "LayoutView",
            "align_content": null,
            "align_items": null,
            "align_self": null,
            "border": null,
            "bottom": null,
            "display": null,
            "flex": null,
            "flex_flow": null,
            "grid_area": null,
            "grid_auto_columns": null,
            "grid_auto_flow": null,
            "grid_auto_rows": null,
            "grid_column": null,
            "grid_gap": null,
            "grid_row": null,
            "grid_template_areas": null,
            "grid_template_columns": null,
            "grid_template_rows": null,
            "height": null,
            "justify_content": null,
            "justify_items": null,
            "left": null,
            "margin": null,
            "max_height": null,
            "max_width": null,
            "min_height": null,
            "min_width": null,
            "object_fit": null,
            "object_position": null,
            "order": null,
            "overflow": null,
            "overflow_x": null,
            "overflow_y": null,
            "padding": null,
            "right": null,
            "top": null,
            "visibility": null,
            "width": null
          }
        },
        "163fdd597ced4fc683e3a43d490b4462": {
          "model_module": "@jupyter-widgets/controls",
          "model_name": "DescriptionStyleModel",
          "model_module_version": "1.5.0",
          "state": {
            "_model_module": "@jupyter-widgets/controls",
            "_model_module_version": "1.5.0",
            "_model_name": "DescriptionStyleModel",
            "_view_count": null,
            "_view_module": "@jupyter-widgets/base",
            "_view_module_version": "1.2.0",
            "_view_name": "StyleView",
            "description_width": ""
          }
        },
        "d379d03ba2964c8db38ae050927d94f8": {
          "model_module": "@jupyter-widgets/base",
          "model_name": "LayoutModel",
          "model_module_version": "1.2.0",
          "state": {
            "_model_module": "@jupyter-widgets/base",
            "_model_module_version": "1.2.0",
            "_model_name": "LayoutModel",
            "_view_count": null,
            "_view_module": "@jupyter-widgets/base",
            "_view_module_version": "1.2.0",
            "_view_name": "LayoutView",
            "align_content": null,
            "align_items": null,
            "align_self": null,
            "border": null,
            "bottom": null,
            "display": null,
            "flex": null,
            "flex_flow": null,
            "grid_area": null,
            "grid_auto_columns": null,
            "grid_auto_flow": null,
            "grid_auto_rows": null,
            "grid_column": null,
            "grid_gap": null,
            "grid_row": null,
            "grid_template_areas": null,
            "grid_template_columns": null,
            "grid_template_rows": null,
            "height": null,
            "justify_content": null,
            "justify_items": null,
            "left": null,
            "margin": null,
            "max_height": null,
            "max_width": null,
            "min_height": null,
            "min_width": null,
            "object_fit": null,
            "object_position": null,
            "order": null,
            "overflow": null,
            "overflow_x": null,
            "overflow_y": null,
            "padding": null,
            "right": null,
            "top": null,
            "visibility": null,
            "width": null
          }
        },
        "2901e174cb61433e81abf667cd902282": {
          "model_module": "@jupyter-widgets/controls",
          "model_name": "ProgressStyleModel",
          "model_module_version": "1.5.0",
          "state": {
            "_model_module": "@jupyter-widgets/controls",
            "_model_module_version": "1.5.0",
            "_model_name": "ProgressStyleModel",
            "_view_count": null,
            "_view_module": "@jupyter-widgets/base",
            "_view_module_version": "1.2.0",
            "_view_name": "StyleView",
            "bar_color": null,
            "description_width": ""
          }
        },
        "98bf578220d74257a763a0916b95343b": {
          "model_module": "@jupyter-widgets/base",
          "model_name": "LayoutModel",
          "model_module_version": "1.2.0",
          "state": {
            "_model_module": "@jupyter-widgets/base",
            "_model_module_version": "1.2.0",
            "_model_name": "LayoutModel",
            "_view_count": null,
            "_view_module": "@jupyter-widgets/base",
            "_view_module_version": "1.2.0",
            "_view_name": "LayoutView",
            "align_content": null,
            "align_items": null,
            "align_self": null,
            "border": null,
            "bottom": null,
            "display": null,
            "flex": null,
            "flex_flow": null,
            "grid_area": null,
            "grid_auto_columns": null,
            "grid_auto_flow": null,
            "grid_auto_rows": null,
            "grid_column": null,
            "grid_gap": null,
            "grid_row": null,
            "grid_template_areas": null,
            "grid_template_columns": null,
            "grid_template_rows": null,
            "height": null,
            "justify_content": null,
            "justify_items": null,
            "left": null,
            "margin": null,
            "max_height": null,
            "max_width": null,
            "min_height": null,
            "min_width": null,
            "object_fit": null,
            "object_position": null,
            "order": null,
            "overflow": null,
            "overflow_x": null,
            "overflow_y": null,
            "padding": null,
            "right": null,
            "top": null,
            "visibility": null,
            "width": null
          }
        },
        "3e644fc4900644bf8422eed076dbd686": {
          "model_module": "@jupyter-widgets/controls",
          "model_name": "DescriptionStyleModel",
          "model_module_version": "1.5.0",
          "state": {
            "_model_module": "@jupyter-widgets/controls",
            "_model_module_version": "1.5.0",
            "_model_name": "DescriptionStyleModel",
            "_view_count": null,
            "_view_module": "@jupyter-widgets/base",
            "_view_module_version": "1.2.0",
            "_view_name": "StyleView",
            "description_width": ""
          }
        },
        "1a6b92f45eba4207920070f106429920": {
          "model_module": "@jupyter-widgets/controls",
          "model_name": "HBoxModel",
          "model_module_version": "1.5.0",
          "state": {
            "_dom_classes": [],
            "_model_module": "@jupyter-widgets/controls",
            "_model_module_version": "1.5.0",
            "_model_name": "HBoxModel",
            "_view_count": null,
            "_view_module": "@jupyter-widgets/controls",
            "_view_module_version": "1.5.0",
            "_view_name": "HBoxView",
            "box_style": "",
            "children": [
              "IPY_MODEL_88f4ef6b24a241a7843e7252ebf5306e",
              "IPY_MODEL_cb7c8e26e37541f581cd158ed6a647a1",
              "IPY_MODEL_c2b5e9fbc04d405496660500703b6eac"
            ],
            "layout": "IPY_MODEL_5baa42e3a5bb4674a00db87e9566a8b6"
          }
        },
        "88f4ef6b24a241a7843e7252ebf5306e": {
          "model_module": "@jupyter-widgets/controls",
          "model_name": "HTMLModel",
          "model_module_version": "1.5.0",
          "state": {
            "_dom_classes": [],
            "_model_module": "@jupyter-widgets/controls",
            "_model_module_version": "1.5.0",
            "_model_name": "HTMLModel",
            "_view_count": null,
            "_view_module": "@jupyter-widgets/controls",
            "_view_module_version": "1.5.0",
            "_view_name": "HTMLView",
            "description": "",
            "description_tooltip": null,
            "layout": "IPY_MODEL_dfe4f0e1885e4aa19a2024c9f3b5852f",
            "placeholder": "​",
            "style": "IPY_MODEL_59fc485ac2694204aac0d362b1175dcc",
            "value": "Downloading: 100%"
          }
        },
        "cb7c8e26e37541f581cd158ed6a647a1": {
          "model_module": "@jupyter-widgets/controls",
          "model_name": "FloatProgressModel",
          "model_module_version": "1.5.0",
          "state": {
            "_dom_classes": [],
            "_model_module": "@jupyter-widgets/controls",
            "_model_module_version": "1.5.0",
            "_model_name": "FloatProgressModel",
            "_view_count": null,
            "_view_module": "@jupyter-widgets/controls",
            "_view_module_version": "1.5.0",
            "_view_name": "ProgressView",
            "bar_style": "success",
            "description": "",
            "description_tooltip": null,
            "layout": "IPY_MODEL_c38ad2eac6a14ca98072a3db6c66dd6c",
            "max": 684,
            "min": 0,
            "orientation": "horizontal",
            "style": "IPY_MODEL_a21729a05d4b4494881d98f47e72252d",
            "value": 684
          }
        },
        "c2b5e9fbc04d405496660500703b6eac": {
          "model_module": "@jupyter-widgets/controls",
          "model_name": "HTMLModel",
          "model_module_version": "1.5.0",
          "state": {
            "_dom_classes": [],
            "_model_module": "@jupyter-widgets/controls",
            "_model_module_version": "1.5.0",
            "_model_name": "HTMLModel",
            "_view_count": null,
            "_view_module": "@jupyter-widgets/controls",
            "_view_module_version": "1.5.0",
            "_view_name": "HTMLView",
            "description": "",
            "description_tooltip": null,
            "layout": "IPY_MODEL_7610067b548d4ba6b22c740559805474",
            "placeholder": "​",
            "style": "IPY_MODEL_54101b5e8d9245448ea59d26cbb10147",
            "value": " 684/684 [00:00&lt;00:00, 13.6kB/s]"
          }
        },
        "5baa42e3a5bb4674a00db87e9566a8b6": {
          "model_module": "@jupyter-widgets/base",
          "model_name": "LayoutModel",
          "model_module_version": "1.2.0",
          "state": {
            "_model_module": "@jupyter-widgets/base",
            "_model_module_version": "1.2.0",
            "_model_name": "LayoutModel",
            "_view_count": null,
            "_view_module": "@jupyter-widgets/base",
            "_view_module_version": "1.2.0",
            "_view_name": "LayoutView",
            "align_content": null,
            "align_items": null,
            "align_self": null,
            "border": null,
            "bottom": null,
            "display": null,
            "flex": null,
            "flex_flow": null,
            "grid_area": null,
            "grid_auto_columns": null,
            "grid_auto_flow": null,
            "grid_auto_rows": null,
            "grid_column": null,
            "grid_gap": null,
            "grid_row": null,
            "grid_template_areas": null,
            "grid_template_columns": null,
            "grid_template_rows": null,
            "height": null,
            "justify_content": null,
            "justify_items": null,
            "left": null,
            "margin": null,
            "max_height": null,
            "max_width": null,
            "min_height": null,
            "min_width": null,
            "object_fit": null,
            "object_position": null,
            "order": null,
            "overflow": null,
            "overflow_x": null,
            "overflow_y": null,
            "padding": null,
            "right": null,
            "top": null,
            "visibility": null,
            "width": null
          }
        },
        "dfe4f0e1885e4aa19a2024c9f3b5852f": {
          "model_module": "@jupyter-widgets/base",
          "model_name": "LayoutModel",
          "model_module_version": "1.2.0",
          "state": {
            "_model_module": "@jupyter-widgets/base",
            "_model_module_version": "1.2.0",
            "_model_name": "LayoutModel",
            "_view_count": null,
            "_view_module": "@jupyter-widgets/base",
            "_view_module_version": "1.2.0",
            "_view_name": "LayoutView",
            "align_content": null,
            "align_items": null,
            "align_self": null,
            "border": null,
            "bottom": null,
            "display": null,
            "flex": null,
            "flex_flow": null,
            "grid_area": null,
            "grid_auto_columns": null,
            "grid_auto_flow": null,
            "grid_auto_rows": null,
            "grid_column": null,
            "grid_gap": null,
            "grid_row": null,
            "grid_template_areas": null,
            "grid_template_columns": null,
            "grid_template_rows": null,
            "height": null,
            "justify_content": null,
            "justify_items": null,
            "left": null,
            "margin": null,
            "max_height": null,
            "max_width": null,
            "min_height": null,
            "min_width": null,
            "object_fit": null,
            "object_position": null,
            "order": null,
            "overflow": null,
            "overflow_x": null,
            "overflow_y": null,
            "padding": null,
            "right": null,
            "top": null,
            "visibility": null,
            "width": null
          }
        },
        "59fc485ac2694204aac0d362b1175dcc": {
          "model_module": "@jupyter-widgets/controls",
          "model_name": "DescriptionStyleModel",
          "model_module_version": "1.5.0",
          "state": {
            "_model_module": "@jupyter-widgets/controls",
            "_model_module_version": "1.5.0",
            "_model_name": "DescriptionStyleModel",
            "_view_count": null,
            "_view_module": "@jupyter-widgets/base",
            "_view_module_version": "1.2.0",
            "_view_name": "StyleView",
            "description_width": ""
          }
        },
        "c38ad2eac6a14ca98072a3db6c66dd6c": {
          "model_module": "@jupyter-widgets/base",
          "model_name": "LayoutModel",
          "model_module_version": "1.2.0",
          "state": {
            "_model_module": "@jupyter-widgets/base",
            "_model_module_version": "1.2.0",
            "_model_name": "LayoutModel",
            "_view_count": null,
            "_view_module": "@jupyter-widgets/base",
            "_view_module_version": "1.2.0",
            "_view_name": "LayoutView",
            "align_content": null,
            "align_items": null,
            "align_self": null,
            "border": null,
            "bottom": null,
            "display": null,
            "flex": null,
            "flex_flow": null,
            "grid_area": null,
            "grid_auto_columns": null,
            "grid_auto_flow": null,
            "grid_auto_rows": null,
            "grid_column": null,
            "grid_gap": null,
            "grid_row": null,
            "grid_template_areas": null,
            "grid_template_columns": null,
            "grid_template_rows": null,
            "height": null,
            "justify_content": null,
            "justify_items": null,
            "left": null,
            "margin": null,
            "max_height": null,
            "max_width": null,
            "min_height": null,
            "min_width": null,
            "object_fit": null,
            "object_position": null,
            "order": null,
            "overflow": null,
            "overflow_x": null,
            "overflow_y": null,
            "padding": null,
            "right": null,
            "top": null,
            "visibility": null,
            "width": null
          }
        },
        "a21729a05d4b4494881d98f47e72252d": {
          "model_module": "@jupyter-widgets/controls",
          "model_name": "ProgressStyleModel",
          "model_module_version": "1.5.0",
          "state": {
            "_model_module": "@jupyter-widgets/controls",
            "_model_module_version": "1.5.0",
            "_model_name": "ProgressStyleModel",
            "_view_count": null,
            "_view_module": "@jupyter-widgets/base",
            "_view_module_version": "1.2.0",
            "_view_name": "StyleView",
            "bar_color": null,
            "description_width": ""
          }
        },
        "7610067b548d4ba6b22c740559805474": {
          "model_module": "@jupyter-widgets/base",
          "model_name": "LayoutModel",
          "model_module_version": "1.2.0",
          "state": {
            "_model_module": "@jupyter-widgets/base",
            "_model_module_version": "1.2.0",
            "_model_name": "LayoutModel",
            "_view_count": null,
            "_view_module": "@jupyter-widgets/base",
            "_view_module_version": "1.2.0",
            "_view_name": "LayoutView",
            "align_content": null,
            "align_items": null,
            "align_self": null,
            "border": null,
            "bottom": null,
            "display": null,
            "flex": null,
            "flex_flow": null,
            "grid_area": null,
            "grid_auto_columns": null,
            "grid_auto_flow": null,
            "grid_auto_rows": null,
            "grid_column": null,
            "grid_gap": null,
            "grid_row": null,
            "grid_template_areas": null,
            "grid_template_columns": null,
            "grid_template_rows": null,
            "height": null,
            "justify_content": null,
            "justify_items": null,
            "left": null,
            "margin": null,
            "max_height": null,
            "max_width": null,
            "min_height": null,
            "min_width": null,
            "object_fit": null,
            "object_position": null,
            "order": null,
            "overflow": null,
            "overflow_x": null,
            "overflow_y": null,
            "padding": null,
            "right": null,
            "top": null,
            "visibility": null,
            "width": null
          }
        },
        "54101b5e8d9245448ea59d26cbb10147": {
          "model_module": "@jupyter-widgets/controls",
          "model_name": "DescriptionStyleModel",
          "model_module_version": "1.5.0",
          "state": {
            "_model_module": "@jupyter-widgets/controls",
            "_model_module_version": "1.5.0",
            "_model_name": "DescriptionStyleModel",
            "_view_count": null,
            "_view_module": "@jupyter-widgets/base",
            "_view_module_version": "1.2.0",
            "_view_name": "StyleView",
            "description_width": ""
          }
        },
        "7c6274ec4a414a2ca15b538950c67414": {
          "model_module": "@jupyter-widgets/controls",
          "model_name": "HBoxModel",
          "model_module_version": "1.5.0",
          "state": {
            "_dom_classes": [],
            "_model_module": "@jupyter-widgets/controls",
            "_model_module_version": "1.5.0",
            "_model_name": "HBoxModel",
            "_view_count": null,
            "_view_module": "@jupyter-widgets/controls",
            "_view_module_version": "1.5.0",
            "_view_name": "HBoxView",
            "box_style": "",
            "children": [
              "IPY_MODEL_8cdf670d13734c1399582fd64d53c58e",
              "IPY_MODEL_3ba2ee3beaf64cb59bd43af628cf3703",
              "IPY_MODEL_f46c850a11064b619c2178cf1135b1c3"
            ],
            "layout": "IPY_MODEL_c2952be6b92f49c7a3b2b5ac5496634d"
          }
        },
        "8cdf670d13734c1399582fd64d53c58e": {
          "model_module": "@jupyter-widgets/controls",
          "model_name": "HTMLModel",
          "model_module_version": "1.5.0",
          "state": {
            "_dom_classes": [],
            "_model_module": "@jupyter-widgets/controls",
            "_model_module_version": "1.5.0",
            "_model_name": "HTMLModel",
            "_view_count": null,
            "_view_module": "@jupyter-widgets/controls",
            "_view_module_version": "1.5.0",
            "_view_name": "HTMLView",
            "description": "",
            "description_tooltip": null,
            "layout": "IPY_MODEL_712be948455d4e54925b1b9d23957f21",
            "placeholder": "​",
            "style": "IPY_MODEL_40371fa3183543c6a905480e0e1e3b07",
            "value": "Downloading: 100%"
          }
        },
        "3ba2ee3beaf64cb59bd43af628cf3703": {
          "model_module": "@jupyter-widgets/controls",
          "model_name": "FloatProgressModel",
          "model_module_version": "1.5.0",
          "state": {
            "_dom_classes": [],
            "_model_module": "@jupyter-widgets/controls",
            "_model_module_version": "1.5.0",
            "_model_name": "FloatProgressModel",
            "_view_count": null,
            "_view_module": "@jupyter-widgets/controls",
            "_view_module_version": "1.5.0",
            "_view_name": "ProgressView",
            "bar_style": "success",
            "description": "",
            "description_tooltip": null,
            "layout": "IPY_MODEL_1027320f9f254e099dbeb90a64a1e49e",
            "max": 47376396,
            "min": 0,
            "orientation": "horizontal",
            "style": "IPY_MODEL_fd0bc9f5acba4c6bb0f4287a02264e89",
            "value": 47376396
          }
        },
        "f46c850a11064b619c2178cf1135b1c3": {
          "model_module": "@jupyter-widgets/controls",
          "model_name": "HTMLModel",
          "model_module_version": "1.5.0",
          "state": {
            "_dom_classes": [],
            "_model_module": "@jupyter-widgets/controls",
            "_model_module_version": "1.5.0",
            "_model_name": "HTMLModel",
            "_view_count": null,
            "_view_module": "@jupyter-widgets/controls",
            "_view_module_version": "1.5.0",
            "_view_name": "HTMLView",
            "description": "",
            "description_tooltip": null,
            "layout": "IPY_MODEL_d697cf99a159490c90566e20fac781f6",
            "placeholder": "​",
            "style": "IPY_MODEL_5120dcf4032e4365899ec58e97b1ad27",
            "value": " 47.4M/47.4M [00:01&lt;00:00, 43.9MB/s]"
          }
        },
        "c2952be6b92f49c7a3b2b5ac5496634d": {
          "model_module": "@jupyter-widgets/base",
          "model_name": "LayoutModel",
          "model_module_version": "1.2.0",
          "state": {
            "_model_module": "@jupyter-widgets/base",
            "_model_module_version": "1.2.0",
            "_model_name": "LayoutModel",
            "_view_count": null,
            "_view_module": "@jupyter-widgets/base",
            "_view_module_version": "1.2.0",
            "_view_name": "LayoutView",
            "align_content": null,
            "align_items": null,
            "align_self": null,
            "border": null,
            "bottom": null,
            "display": null,
            "flex": null,
            "flex_flow": null,
            "grid_area": null,
            "grid_auto_columns": null,
            "grid_auto_flow": null,
            "grid_auto_rows": null,
            "grid_column": null,
            "grid_gap": null,
            "grid_row": null,
            "grid_template_areas": null,
            "grid_template_columns": null,
            "grid_template_rows": null,
            "height": null,
            "justify_content": null,
            "justify_items": null,
            "left": null,
            "margin": null,
            "max_height": null,
            "max_width": null,
            "min_height": null,
            "min_width": null,
            "object_fit": null,
            "object_position": null,
            "order": null,
            "overflow": null,
            "overflow_x": null,
            "overflow_y": null,
            "padding": null,
            "right": null,
            "top": null,
            "visibility": null,
            "width": null
          }
        },
        "712be948455d4e54925b1b9d23957f21": {
          "model_module": "@jupyter-widgets/base",
          "model_name": "LayoutModel",
          "model_module_version": "1.2.0",
          "state": {
            "_model_module": "@jupyter-widgets/base",
            "_model_module_version": "1.2.0",
            "_model_name": "LayoutModel",
            "_view_count": null,
            "_view_module": "@jupyter-widgets/base",
            "_view_module_version": "1.2.0",
            "_view_name": "LayoutView",
            "align_content": null,
            "align_items": null,
            "align_self": null,
            "border": null,
            "bottom": null,
            "display": null,
            "flex": null,
            "flex_flow": null,
            "grid_area": null,
            "grid_auto_columns": null,
            "grid_auto_flow": null,
            "grid_auto_rows": null,
            "grid_column": null,
            "grid_gap": null,
            "grid_row": null,
            "grid_template_areas": null,
            "grid_template_columns": null,
            "grid_template_rows": null,
            "height": null,
            "justify_content": null,
            "justify_items": null,
            "left": null,
            "margin": null,
            "max_height": null,
            "max_width": null,
            "min_height": null,
            "min_width": null,
            "object_fit": null,
            "object_position": null,
            "order": null,
            "overflow": null,
            "overflow_x": null,
            "overflow_y": null,
            "padding": null,
            "right": null,
            "top": null,
            "visibility": null,
            "width": null
          }
        },
        "40371fa3183543c6a905480e0e1e3b07": {
          "model_module": "@jupyter-widgets/controls",
          "model_name": "DescriptionStyleModel",
          "model_module_version": "1.5.0",
          "state": {
            "_model_module": "@jupyter-widgets/controls",
            "_model_module_version": "1.5.0",
            "_model_name": "DescriptionStyleModel",
            "_view_count": null,
            "_view_module": "@jupyter-widgets/base",
            "_view_module_version": "1.2.0",
            "_view_name": "StyleView",
            "description_width": ""
          }
        },
        "1027320f9f254e099dbeb90a64a1e49e": {
          "model_module": "@jupyter-widgets/base",
          "model_name": "LayoutModel",
          "model_module_version": "1.2.0",
          "state": {
            "_model_module": "@jupyter-widgets/base",
            "_model_module_version": "1.2.0",
            "_model_name": "LayoutModel",
            "_view_count": null,
            "_view_module": "@jupyter-widgets/base",
            "_view_module_version": "1.2.0",
            "_view_name": "LayoutView",
            "align_content": null,
            "align_items": null,
            "align_self": null,
            "border": null,
            "bottom": null,
            "display": null,
            "flex": null,
            "flex_flow": null,
            "grid_area": null,
            "grid_auto_columns": null,
            "grid_auto_flow": null,
            "grid_auto_rows": null,
            "grid_column": null,
            "grid_gap": null,
            "grid_row": null,
            "grid_template_areas": null,
            "grid_template_columns": null,
            "grid_template_rows": null,
            "height": null,
            "justify_content": null,
            "justify_items": null,
            "left": null,
            "margin": null,
            "max_height": null,
            "max_width": null,
            "min_height": null,
            "min_width": null,
            "object_fit": null,
            "object_position": null,
            "order": null,
            "overflow": null,
            "overflow_x": null,
            "overflow_y": null,
            "padding": null,
            "right": null,
            "top": null,
            "visibility": null,
            "width": null
          }
        },
        "fd0bc9f5acba4c6bb0f4287a02264e89": {
          "model_module": "@jupyter-widgets/controls",
          "model_name": "ProgressStyleModel",
          "model_module_version": "1.5.0",
          "state": {
            "_model_module": "@jupyter-widgets/controls",
            "_model_module_version": "1.5.0",
            "_model_name": "ProgressStyleModel",
            "_view_count": null,
            "_view_module": "@jupyter-widgets/base",
            "_view_module_version": "1.2.0",
            "_view_name": "StyleView",
            "bar_color": null,
            "description_width": ""
          }
        },
        "d697cf99a159490c90566e20fac781f6": {
          "model_module": "@jupyter-widgets/base",
          "model_name": "LayoutModel",
          "model_module_version": "1.2.0",
          "state": {
            "_model_module": "@jupyter-widgets/base",
            "_model_module_version": "1.2.0",
            "_model_name": "LayoutModel",
            "_view_count": null,
            "_view_module": "@jupyter-widgets/base",
            "_view_module_version": "1.2.0",
            "_view_name": "LayoutView",
            "align_content": null,
            "align_items": null,
            "align_self": null,
            "border": null,
            "bottom": null,
            "display": null,
            "flex": null,
            "flex_flow": null,
            "grid_area": null,
            "grid_auto_columns": null,
            "grid_auto_flow": null,
            "grid_auto_rows": null,
            "grid_column": null,
            "grid_gap": null,
            "grid_row": null,
            "grid_template_areas": null,
            "grid_template_columns": null,
            "grid_template_rows": null,
            "height": null,
            "justify_content": null,
            "justify_items": null,
            "left": null,
            "margin": null,
            "max_height": null,
            "max_width": null,
            "min_height": null,
            "min_width": null,
            "object_fit": null,
            "object_position": null,
            "order": null,
            "overflow": null,
            "overflow_x": null,
            "overflow_y": null,
            "padding": null,
            "right": null,
            "top": null,
            "visibility": null,
            "width": null
          }
        },
        "5120dcf4032e4365899ec58e97b1ad27": {
          "model_module": "@jupyter-widgets/controls",
          "model_name": "DescriptionStyleModel",
          "model_module_version": "1.5.0",
          "state": {
            "_model_module": "@jupyter-widgets/controls",
            "_model_module_version": "1.5.0",
            "_model_name": "DescriptionStyleModel",
            "_view_count": null,
            "_view_module": "@jupyter-widgets/base",
            "_view_module_version": "1.2.0",
            "_view_name": "StyleView",
            "description_width": ""
          }
        }
      }
    }
  },
  "nbformat": 4,
  "nbformat_minor": 0
}